{
  "cells": [
    {
      "cell_type": "markdown",
      "metadata": {
        "id": "view-in-github",
        "colab_type": "text"
      },
      "source": [
        "<a href=\"https://colab.research.google.com/github/Hoangthang017/nine-dash-line-detection/blob/main/nine_dash_lines/nine_dash_lines.ipynb\" target=\"_parent\"><img src=\"https://colab.research.google.com/assets/colab-badge.svg\" alt=\"Open In Colab\"/></a>"
      ]
    },
    {
      "cell_type": "code",
      "execution_count": null,
      "metadata": {
        "colab": {
          "base_uri": "https://localhost:8080/"
        },
        "id": "kauOILHSqXWw",
        "outputId": "149a99ff-f99b-4001-993f-f0712022c2c4"
      },
      "outputs": [
        {
          "output_type": "stream",
          "name": "stdout",
          "text": [
            "Mounted at /content/drive\n"
          ]
        }
      ],
      "source": [
        "from google.colab import drive\n",
        "drive.mount('/content/drive')\n"
      ]
    },
    {
      "cell_type": "markdown",
      "metadata": {
        "id": "UauKNtFRqydu"
      },
      "source": [
        "### Import libs"
      ]
    },
    {
      "cell_type": "code",
      "execution_count": null,
      "metadata": {
        "id": "qSbY3Amlqpkh"
      },
      "outputs": [],
      "source": [
        "from __future__ import division\n",
        "from __future__ import print_function\n",
        "from __future__ import absolute_import\n",
        "import random\n",
        "import pprint\n",
        "import sys\n",
        "import time\n",
        "import numpy as np\n",
        "from optparse import OptionParser\n",
        "import pickle\n",
        "import math\n",
        "import cv2\n",
        "import copy\n",
        "from matplotlib import pyplot as plt\n",
        "import tensorflow as tf\n",
        "import pandas as pd\n",
        "import os\n",
        "import albumentations as A\n",
        "from sklearn.metrics import average_precision_score\n",
        "\n",
        "from keras import backend as K\n",
        "from tensorflow.keras.optimizers import Adam, SGD, RMSprop\n",
        "from keras.layers import Flatten, Dense, Input, Conv2D, MaxPooling2D, Dropout\n",
        "from keras.layers import GlobalAveragePooling2D, GlobalMaxPooling2D, TimeDistributed\n",
        "from keras.utils import layer_utils\n",
        "from keras.utils.data_utils import get_file\n",
        "from keras.losses import categorical_crossentropy\n",
        "\n",
        "from keras.models import Model\n",
        "from keras.utils import generic_utils\n",
        "from tensorflow.keras.layers import Layer, InputSpec\n",
        "from keras import initializers, regularizers"
      ]
    },
    {
      "cell_type": "markdown",
      "metadata": {
        "id": "cTWmPZ_kkMrT"
      },
      "source": [
        "### model define"
      ]
    },
    {
      "cell_type": "markdown",
      "metadata": {
        "id": "WrH5i5mmrDWY"
      },
      "source": [
        "#### Config setting"
      ]
    },
    {
      "cell_type": "code",
      "execution_count": null,
      "metadata": {
        "id": "DvJm0FFRsyVu"
      },
      "outputs": [],
      "source": [
        "class Config:\n",
        "\n",
        "\tdef __init__(self):\n",
        "\n",
        "\t\t# Print the process or not\n",
        "\t\tself.verbose = True\n",
        "\n",
        "\t\t# Name of base network\n",
        "\t\tself.network = 'vgg'\n",
        "\n",
        "\t\t# Setting for data augmentation\n",
        "\t\tself.use_horizontal_flips = False\n",
        "\t\tself.use_vertical_flips = False\n",
        "\t\tself.rot_90 = False\n",
        "\n",
        "\t\t# Anchor box scales\n",
        "    # Note that if im_size is smaller, anchor_box_scales should be scaled\n",
        "    # Original anchor_box_scales in the paper is [128, 256, 512]\n",
        "\t\tself.anchor_box_scales = [64, 128, 256] \n",
        "\n",
        "\t\t# Anchor box ratios\n",
        "\t\tself.anchor_box_ratios = [[1, 1], [1./math.sqrt(2), 2./math.sqrt(2)], [2./math.sqrt(2), 1./math.sqrt(2)]]\n",
        "\n",
        "\t\t# Size to resize the smallest side of the image\n",
        "\t\t# Original setting in paper is 600. Set to 300 in here to save training time\n",
        "\t\tself.im_size = 600\n",
        "\n",
        "\t\t# image channel-wise mean to subtract\n",
        "\t\tself.img_channel_mean = [103.939, 116.779, 123.68]\n",
        "\t\tself.img_scaling_factor = 1.0\n",
        "\n",
        "\t\t# number of ROIs at once\n",
        "\t\tself.num_rois = 4\n",
        "\n",
        "\t\t# stride at the RPN (this depends on the network configuration)\n",
        "\t\tself.rpn_stride = 16\n",
        "\n",
        "\t\tself.balanced_classes = False\n",
        "\n",
        "\t\t# scaling the stdev\n",
        "\t\tself.std_scaling = 4.0\n",
        "\t\tself.classifier_regr_std = [8.0, 8.0, 4.0, 4.0]\n",
        "\n",
        "\t\t# overlaps for RPN\n",
        "\t\tself.rpn_min_overlap = 0.3\n",
        "\t\tself.rpn_max_overlap = 0.7\n",
        "\n",
        "\t\t# overlaps for classifier ROIs\n",
        "\t\tself.classifier_min_overlap = 0.1\n",
        "\t\tself.classifier_max_overlap = 0.5\n",
        "\n",
        "\t\t# placeholder for the class mapping, automatically generated by the parser\n",
        "\t\tself.class_mapping = None\n",
        "\n",
        "\t\tself.model_path = None"
      ]
    },
    {
      "cell_type": "markdown",
      "metadata": {
        "id": "o0bIjlycyR9_"
      },
      "source": [
        "#### Parser the data from annotation file"
      ]
    },
    {
      "cell_type": "code",
      "execution_count": null,
      "metadata": {
        "id": "vc89E9uAydTX"
      },
      "outputs": [],
      "source": [
        "def get_data(input_path):\n",
        "\t\"\"\"Parse the data from annotation file\n",
        "\t\n",
        "\tArgs:\n",
        "\t\tinput_path: annotation file path\n",
        "\n",
        "\tReturns:\n",
        "\t\tall_data: list(filepath, width, height, list(bboxes))\n",
        "\t\tclasses_count: dict{key:class_name, value:count_num} \n",
        "\t\t\te.g. {'Car': 2383, 'Mobile phone': 1108, 'Person': 3745}\n",
        "\t\tclass_mapping: dict{key:class_name, value: idx}\n",
        "\t\t\te.g. {'Car': 0, 'Mobile phone': 1, 'Person': 2}\n",
        "\t\"\"\"\n",
        "  # khởi tạo các dict cần thiết \n",
        "\tfound_bg = False\n",
        "\tall_imgs = {}\n",
        "\n",
        "\tclasses_count = {}\n",
        "\n",
        "\tclass_mapping = {}\n",
        "\n",
        "\tvisualise = True\n",
        "\n",
        "\ti = 1\n",
        "\t\n",
        "  # duyệt qua tất cả các path \n",
        "\twith open(input_path,'r') as f:\n",
        "\n",
        "\t\tprint('Parsing annotation files')\n",
        "\n",
        "\t\tfor line in f:\n",
        "\t\t\ttry:\n",
        "\t\t\t\t# in tiến trình\n",
        "\t\t\t\tsys.stdout.write('\\r'+'idx=' + str(i))\n",
        "\t\t\t\ti += 1\n",
        "\n",
        "\t\t\t\tline_split = line.strip().split(',')\n",
        "\t\t\t\t# Make sure the info saved in annotation file matching the format (path_filename, x1, y1, x2, y2, class_name)\n",
        "\t\t\t\t# Note:\n",
        "\t\t\t\t#\tOne path_filename might has several classes (class_name)\n",
        "\t\t\t\t#\tx1, y1, x2, y2 are the pixel value of the origial image, not the ratio value\n",
        "\t\t\t\t#\t(x1, y1) top left coordinates; (x2, y2) bottom right coordinates\n",
        "\t\t\t\t#   x1,y1-------------------\n",
        "\t\t\t\t#\t|\t\t\t\t\t\t|\n",
        "\t\t\t\t#\t|\t\t\t\t\t\t|\n",
        "\t\t\t\t#\t|\t\t\t\t\t\t|\n",
        "\t\t\t\t#\t|\t\t\t\t\t\t|\n",
        "\t\t\t\t#\t---------------------x2,y2\n",
        "\t\t\t\t\n",
        "\t\t\t\t(filename,x1,y1,x2,y2,class_name) = line_split\n",
        "\t\t\texcept:\n",
        "\t\t\t\tprint(line_split)\n",
        "\t\t\t\tpass\n",
        "      # đếm số lượng data có trong mỗi lớp\n",
        "\t\t\tif class_name not in classes_count:\n",
        "\t\t\t\tclasses_count[class_name] = 1\n",
        "\t\t\telse:\n",
        "\t\t\t\tclasses_count[class_name] += 1\n",
        "\n",
        "      # nếu có lớp là background  \n",
        "\t\t\tif class_name not in class_mapping:\n",
        "\t\t\t\tif class_name == 'bg' and found_bg == False:\n",
        "\t\t\t\t\tprint('Found class name with special name bg. Will be treated as a background region (this is usually for hard negative mining).')\n",
        "\t\t\t\t\tfound_bg = True\n",
        "\t\t\t\tclass_mapping[class_name] = len(class_mapping)\n",
        "      \n",
        "      # lấy các tọa độ trong ảnh \n",
        "\t\t\tif filename not in all_imgs:\n",
        "\t\t\t\tall_imgs[filename] = {}\n",
        "\n",
        "\t\t\t\ttry:\n",
        "\t\t\t\t\timg = cv2.imread(filename)\n",
        "\t\t\t\n",
        "\t\t\t\t\t(rows,cols) = img.shape[:2]\n",
        "\t\t\t\t\tall_imgs[filename]['filepath'] = filename\n",
        "\t\t\t\t\tall_imgs[filename]['width'] = cols\n",
        "\t\t\t\t\tall_imgs[filename]['height'] = rows\n",
        "\t\t\t\t\tall_imgs[filename]['bboxes'] = []\n",
        "\t\t\t\texcept :\n",
        "\t\t\t\t\tprint(filename)\n",
        "\t\t\t\t\tprint(img.shape)\n",
        "\t\t\tall_imgs[filename]['bboxes'].append({'class': class_name, 'x1': int(x1), 'x2': int(x2), 'y1': int(y1), 'y2': int(y2)})\n",
        "\t\t\t\t\n",
        "\n",
        "\n",
        "    # chuyển sang dạng list \n",
        "\t\tall_data = []\n",
        "\t\tfor key in all_imgs:\n",
        "\t\t\tall_data.append(all_imgs[key])\n",
        "\t\t\n",
        "\t\t# kiểm tra và chắc chắn rằng các lớp bg nằm ơ cuối data \n",
        "\t\tif found_bg:\n",
        "\t\t\tif class_mapping['bg'] != len(class_mapping) - 1:\n",
        "\t\t\t\tkey_to_switch = [key for key in class_mapping.keys() if class_mapping[key] == len(class_mapping)-1][0]\n",
        "\t\t\t\tval_to_switch = class_mapping['bg']\n",
        "\t\t\t\tclass_mapping['bg'] = len(class_mapping) - 1\n",
        "\t\t\t\tclass_mapping[key_to_switch] = val_to_switch\n",
        "\t\t\n",
        "\t\treturn all_data, classes_count, class_mapping"
      ]
    },
    {
      "cell_type": "markdown",
      "metadata": {
        "id": "oFvqGs4acGWl"
      },
      "source": [
        "#### Define ROI Pooling Convolutional Layer"
      ]
    },
    {
      "cell_type": "code",
      "execution_count": null,
      "metadata": {
        "id": "6l32Q85kcMpB"
      },
      "outputs": [],
      "source": [
        "class RoiPoolingConv(Layer):\n",
        "    '''ROI pooling layer for 2D inputs.\n",
        "    See Spatial Pyramid Pooling in Deep Convolutional Networks for Visual Recognition,\n",
        "    K. He, X. Zhang, S. Ren, J. Sun\n",
        "    # Arguments\n",
        "        pool_size: int\n",
        "            Size of pooling region to use. pool_size = 7 will result in a 7x7 region.\n",
        "        num_rois: number of regions of interest to be used\n",
        "    # Input shape\n",
        "        list of two 4D tensors [X_img,X_roi] with shape:\n",
        "        X_img:\n",
        "        `(1, rows, cols, channels)`\n",
        "        X_roi:\n",
        "        `(1,num_rois,4)` list of rois, with ordering (x,y,w,h)\n",
        "    # Output shape\n",
        "        3D tensor with shape:\n",
        "        `(1, num_rois, channels, pool_size, pool_size)`\n",
        "    '''\n",
        "    def __init__(self, pool_size, num_rois, **kwargs):\n",
        "\n",
        "        self.dim_ordering = K.image_data_format()\n",
        "        self.pool_size = pool_size\n",
        "        self.num_rois = num_rois\n",
        "\n",
        "        super(RoiPoolingConv, self).__init__(**kwargs)\n",
        "\n",
        "    def build(self, input_shape):\n",
        "        self.nb_channels = input_shape[0][3]   \n",
        "\n",
        "    def compute_output_shape(self, input_shape):\n",
        "        return None, self.num_rois, self.pool_size, self.pool_size, self.nb_channels\n",
        "\n",
        "    def call(self, x, mask=None):\n",
        "\n",
        "        assert(len(x) == 2)\n",
        "\n",
        "        # x[0] is image with shape (rows, cols, channels)\n",
        "        img = x[0]\n",
        "\n",
        "        # x[1] is roi with shape (num_rois,4) with ordering (x,y,w,h)\n",
        "        rois = x[1]\n",
        "\n",
        "        input_shape = K.shape(img)\n",
        "\n",
        "        outputs = []\n",
        "\n",
        "        for roi_idx in range(self.num_rois):\n",
        "\n",
        "            x = rois[0, roi_idx, 0]\n",
        "            y = rois[0, roi_idx, 1]\n",
        "            w = rois[0, roi_idx, 2]\n",
        "            h = rois[0, roi_idx, 3]\n",
        "\n",
        "            x = K.cast(x, 'int32')\n",
        "            y = K.cast(y, 'int32')\n",
        "            w = K.cast(w, 'int32')\n",
        "            h = K.cast(h, 'int32')\n",
        "\n",
        "            # Resized roi of the image to pooling size (7x7)\n",
        "            rs = tf.image.resize(img[:, y:y+h, x:x+w, :], (self.pool_size, self.pool_size))\n",
        "            outputs.append(rs)\n",
        "                \n",
        "\n",
        "        final_output = K.concatenate(outputs, axis=0)\n",
        "\n",
        "        # Reshape to (1, num_rois, pool_size, pool_size, nb_channels)\n",
        "        # Might be (1, 4, 7, 7, 3)\n",
        "        final_output = K.reshape(final_output, (1, self.num_rois, self.pool_size, self.pool_size, self.nb_channels))\n",
        "\n",
        "        # permute_dimensions is similar to transpose\n",
        "        final_output = K.permute_dimensions(final_output, (0, 1, 2, 3, 4))\n",
        "\n",
        "        return final_output\n",
        "    \n",
        "    \n",
        "    def get_config(self):\n",
        "        config = {'pool_size': self.pool_size,\n",
        "                  'num_rois': self.num_rois}\n",
        "        base_config = super(RoiPoolingConv, self).get_config()\n",
        "        return dict(list(base_config.items()) + list(config.items()))"
      ]
    },
    {
      "cell_type": "markdown",
      "metadata": {
        "id": "Mf2taA29RFNs"
      },
      "source": [
        "#### Vgg-16 model"
      ]
    },
    {
      "cell_type": "code",
      "execution_count": null,
      "metadata": {
        "id": "WaBQfl4XRJY3"
      },
      "outputs": [],
      "source": [
        "def get_img_output_length(width, height):\n",
        "    def get_output_length(input_length):\n",
        "        return input_length//16\n",
        "\n",
        "    return get_output_length(width), get_output_length(height)    \n",
        "\n",
        "def nn_base(input_tensor=None, trainable=False):\n",
        "\n",
        "\n",
        "    input_shape = (None, None, 3)\n",
        "\n",
        "    if input_tensor is None:\n",
        "        img_input = Input(shape=input_shape)\n",
        "    else:\n",
        "        if not K.is_keras_tensor(input_tensor):\n",
        "            img_input = Input(tensor=input_tensor, shape=input_shape)\n",
        "        else:\n",
        "            img_input = input_tensor\n",
        "\n",
        "    bn_axis = 3\n",
        "\n",
        "    # Block 1\n",
        "    x = Conv2D(64, (3, 3), activation='relu', padding='same', name='block1_conv1')(img_input)\n",
        "    x = Conv2D(64, (3, 3), activation='relu', padding='same', name='block1_conv2')(x)\n",
        "    x = MaxPooling2D((2, 2), strides=(2, 2), name='block1_pool')(x)\n",
        "\n",
        "    # Block 2\n",
        "    x = Conv2D(128, (3, 3), activation='relu', padding='same', name='block2_conv1')(x)\n",
        "    x = Conv2D(128, (3, 3), activation='relu', padding='same', name='block2_conv2')(x)\n",
        "    x = MaxPooling2D((2, 2), strides=(2, 2), name='block2_pool')(x)\n",
        "\n",
        "    # Block 3\n",
        "    x = Conv2D(256, (3, 3), activation='relu', padding='same', name='block3_conv1')(x)\n",
        "    x = Conv2D(256, (3, 3), activation='relu', padding='same', name='block3_conv2')(x)\n",
        "    x = Conv2D(256, (3, 3), activation='relu', padding='same', name='block3_conv3')(x)\n",
        "    x = MaxPooling2D((2, 2), strides=(2, 2), name='block3_pool')(x)\n",
        "\n",
        "    # Block 4\n",
        "    x = Conv2D(512, (3, 3), activation='relu', padding='same', name='block4_conv1')(x)\n",
        "    x = Conv2D(512, (3, 3), activation='relu', padding='same', name='block4_conv2')(x)\n",
        "    x = Conv2D(512, (3, 3), activation='relu', padding='same', name='block4_conv3')(x)\n",
        "    x = MaxPooling2D((2, 2), strides=(2, 2), name='block4_pool')(x)\n",
        "\n",
        "    # Block 5\n",
        "    x = Conv2D(512, (3, 3), activation='relu', padding='same', name='block5_conv1')(x)\n",
        "    x = Conv2D(512, (3, 3), activation='relu', padding='same', name='block5_conv2')(x)\n",
        "    x = Conv2D(512, (3, 3), activation='relu', padding='same', name='block5_conv3')(x)\n",
        "    # x = MaxPooling2D((2, 2), strides=(2, 2), name='block5_pool')(x)\n",
        "\n",
        "    return x"
      ]
    },
    {
      "cell_type": "markdown",
      "metadata": {
        "id": "xcOi5MIMVJpU"
      },
      "source": [
        "####  RPN layer"
      ]
    },
    {
      "cell_type": "code",
      "execution_count": null,
      "metadata": {
        "id": "gsuV21vpRczQ"
      },
      "outputs": [],
      "source": [
        "def rpn_layer(base_layers, num_anchors):\n",
        "    \"\"\"Create a rpn layer\n",
        "        Step1: Pass through the feature map from base layer to a 3x3 512 channels convolutional layer\n",
        "                Keep the padding 'same' to preserve the feature map's size\n",
        "        Step2: Pass the step1 to two (1,1) convolutional layer to replace the fully connected layer\n",
        "                classification layer: num_anchors (9 in here) channels for 0, 1 sigmoid activation output\n",
        "                regression layer: num_anchors*4 (36 in here) channels for computing the regression of bboxes with linear activation\n",
        "    Args:\n",
        "        base_layers: vgg in here\n",
        "        num_anchors: 9 in here\n",
        "\n",
        "    Returns:\n",
        "        [x_class, x_regr, base_layers]\n",
        "        x_class: classification for whether it's an object\n",
        "        x_regr: bboxes regression\n",
        "        base_layers: vgg in here\n",
        "    \"\"\"\n",
        "    x = Conv2D(512, (3, 3), padding='same', activation='relu', kernel_initializer='normal', name='rpn_conv1')(base_layers)\n",
        "\n",
        "    x_class = Conv2D(num_anchors, (1, 1), activation='sigmoid', kernel_initializer='uniform', name='rpn_out_class')(x)\n",
        "    x_regr = Conv2D(num_anchors * 4, (1, 1), activation='linear', kernel_initializer='zero', name='rpn_out_regress')(x)\n",
        "\n",
        "    return [x_class, x_regr, base_layers]"
      ]
    },
    {
      "cell_type": "markdown",
      "metadata": {
        "id": "0fBt9xNFWsKS"
      },
      "source": [
        "####  Classifier layer"
      ]
    },
    {
      "cell_type": "code",
      "execution_count": null,
      "metadata": {
        "id": "0PKSPLRLWwMz"
      },
      "outputs": [],
      "source": [
        "def classifier_layer(base_layers, input_rois, num_rois, nb_classes = 4):\n",
        "    \"\"\"Create a classifier layer\n",
        "    \n",
        "    Args:\n",
        "        base_layers: vgg\n",
        "        input_rois: `(1,num_rois,4)` list of rois, with ordering (x,y,w,h)\n",
        "        num_rois: number of rois to be processed in one time (4 in here)\n",
        "\n",
        "    Returns:\n",
        "        list(out_class, out_regr)\n",
        "        out_class: classifier layer output\n",
        "        out_regr: regression layer output\n",
        "    \"\"\"\n",
        "\n",
        "    input_shape = (num_rois,7,7,512)\n",
        "\n",
        "    pooling_regions = 7\n",
        "\n",
        "    # out_roi_pool.shape = (1, num_rois, channels, pool_size, pool_size)\n",
        "    # num_rois (4) 7x7 roi pooling\n",
        "    out_roi_pool = RoiPoolingConv(pooling_regions, num_rois)([base_layers, input_rois])\n",
        "\n",
        "    # Flatten the convlutional layer and connected to 2 FC and 2 dropout\n",
        "    out = TimeDistributed(Flatten(name='flatten'))(out_roi_pool)\n",
        "    out = TimeDistributed(Dense(4096, activation='relu', name='fc1'))(out)\n",
        "    out = TimeDistributed(Dropout(0.5))(out)\n",
        "    out = TimeDistributed(Dense(4096, activation='relu', name='fc2'))(out)\n",
        "    out = TimeDistributed(Dropout(0.5))(out)\n",
        "\n",
        "    # có 2 đầu ra\n",
        "    # out_class: softmax acivation function cho phân loại tên của đối tượng\n",
        "    # out_regr: linear activation function for vị trí của bboxes\n",
        "    out_class = TimeDistributed(Dense(nb_classes, activation='softmax', kernel_initializer='zero'), name='dense_class_{}'.format(nb_classes))(out)\n",
        "    # lưu ý rằng không có bbox đầu ra cho lớp bg\n",
        "    out_regr = TimeDistributed(Dense(4 * (nb_classes-1), activation='linear', kernel_initializer='zero'), name='dense_regress_{}'.format(nb_classes))(out)\n",
        "\n",
        "    return [out_class, out_regr]"
      ]
    },
    {
      "cell_type": "markdown",
      "metadata": {
        "id": "WMev3UMadCzJ"
      },
      "source": [
        "#### Calculate IoU (Intersection of Union)"
      ]
    },
    {
      "cell_type": "code",
      "execution_count": null,
      "metadata": {
        "id": "Jy5iIBYgdCJD"
      },
      "outputs": [],
      "source": [
        "# hàm tính phần hợp nhau\n",
        "def union(au, bu, area_intersection):\n",
        "\tarea_a = (au[2] - au[0]) * (au[3] - au[1])\n",
        "\tarea_b = (bu[2] - bu[0]) * (bu[3] - bu[1])\n",
        "\tarea_union = area_a + area_b - area_intersection\n",
        "\treturn area_union\n",
        "\n",
        "# hàm tính phần giao nhau\n",
        "def intersection(ai, bi):\n",
        "\tx = max(ai[0], bi[0])\n",
        "\ty = max(ai[1], bi[1])\n",
        "\tw = min(ai[2], bi[2]) - x\n",
        "\th = min(ai[3], bi[3]) - y\n",
        "\tif w < 0 or h < 0:\n",
        "\t\treturn 0\n",
        "\treturn w*h\n",
        "\n",
        "# hàm tính IoU\n",
        "def iou(a, b):\n",
        "\t# a và b : (x1,y1,x2,y2)\n",
        "\n",
        "\tif a[0] >= a[2] or a[1] >= a[3] or b[0] >= b[2] or b[1] >= b[3]:\n",
        "\t\treturn 0.0\n",
        "\n",
        "\tarea_i = intersection(a, b)\n",
        "\tarea_u = union(a, b, area_i)\n",
        "\n",
        "\treturn float(area_i) / float(area_u + 1e-6)"
      ]
    },
    {
      "cell_type": "markdown",
      "metadata": {
        "id": "rcRlzqZudKkd"
      },
      "source": [
        "#### Calculate the rpn for all anchors of all images"
      ]
    },
    {
      "cell_type": "code",
      "execution_count": null,
      "metadata": {
        "id": "daPsCZtrdK3S"
      },
      "outputs": [],
      "source": [
        "def calc_rpn(C, img_data, width, height, resized_width, resized_height, img_length_calc_function):\n",
        "\t\"\"\"(Important part!) Calculate the rpn for all anchors \n",
        "\t\tIf feature map has shape 38x50=1900, there are 1900x9=17100 potential anchors\n",
        "\t\n",
        "\tArgs:\n",
        "\t\tC: config\n",
        "\t\timg_data: augmented image data\n",
        "\t\twidth: original image width (e.g. 600)\n",
        "\t\theight: original image height (e.g. 800)\n",
        "\t\tresized_width: resized image width according to C.im_size (e.g. 300)\n",
        "\t\tresized_height: resized image height according to C.im_size (e.g. 400)\n",
        "\t\timg_length_calc_function: function to calculate final layer's feature map (of base model) size according to input image size\n",
        "\n",
        "\tReturns:\n",
        "\t\ty_rpn_cls: list(num_bboxes, y_is_box_valid + y_rpn_overlap)\n",
        "\t\t\ty_is_box_valid: 0 or 1 (0 means the box is invalid, 1 means the box is valid)\n",
        "\t\t\ty_rpn_overlap: 0 or 1 (0 means the box is not an object, 1 means the box is an object)\n",
        "\t\ty_rpn_regr: list(num_bboxes, 4*y_rpn_overlap + y_rpn_regr)\n",
        "\t\t\ty_rpn_regr: x1,y1,x2,y2 bunding boxes coordinates\n",
        "\t\"\"\"\n",
        "  # lấy setting từ config\n",
        "\tdownscale = float(C.rpn_stride) \n",
        "\tanchor_sizes = C.anchor_box_scales   # 128, 256, 512\n",
        "\tanchor_ratios = C.anchor_box_ratios  # 1:1, 1:2*sqrt(2), 2*sqrt(2):1\n",
        "\tnum_anchors = len(anchor_sizes) * len(anchor_ratios) # 3x3=9\n",
        "\n",
        "\t# tính toán kích thước đầu ra dựa vào base model\n",
        "\t(output_width, output_height) = img_length_calc_function(resized_width, resized_height)\n",
        "\n",
        "  # tỉ lệ của anchors\n",
        "\tn_anchratios = len(anchor_ratios)    # 3\n",
        "\t\n",
        "\t# khỏi tạo các đầu ra \n",
        "\ty_rpn_overlap = np.zeros((output_height, output_width, num_anchors))\n",
        "\ty_is_box_valid = np.zeros((output_height, output_width, num_anchors))\n",
        "\ty_rpn_regr = np.zeros((output_height, output_width, num_anchors * 4))\n",
        "\n",
        "  # số lượng bbox \n",
        "\tnum_bboxes = len(img_data['bboxes'])\n",
        "\n",
        "\tnum_anchors_for_bbox = np.zeros(num_bboxes).astype(int)\n",
        "\tbest_anchor_for_bbox = -1*np.ones((num_bboxes, 4)).astype(int)\n",
        "\tbest_iou_for_bbox = np.zeros(num_bboxes).astype(np.float32)\n",
        "\tbest_x_for_bbox = np.zeros((num_bboxes, 4)).astype(int)\n",
        "\tbest_dx_for_bbox = np.zeros((num_bboxes, 4)).astype(np.float32)\n",
        "\n",
        "\t# lấy tọa độ của ground truth box và resize \n",
        "\tgta = np.zeros((num_bboxes, 4))\n",
        "\tfor bbox_num, bbox in enumerate(img_data['bboxes']):\n",
        "\t\tgta[bbox_num, 0] = bbox['x1'] * (resized_width / float(width))\n",
        "\t\tgta[bbox_num, 1] = bbox['x2'] * (resized_width / float(width))\n",
        "\t\tgta[bbox_num, 2] = bbox['y1'] * (resized_height / float(height))\n",
        "\t\tgta[bbox_num, 3] = bbox['y2'] * (resized_height / float(height))\n",
        "\t\n",
        "\t# rpn ground truth box\n",
        "  # duyệt qua 9 loại anchors với hình dạng và tỉ lệ được định nghĩa sẵn \n",
        "\tfor anchor_size_idx in range(len(anchor_sizes)):\n",
        "\t\tfor anchor_ratio_idx in range(n_anchratios):\n",
        "\t\t\tanchor_x = anchor_sizes[anchor_size_idx] * anchor_ratios[anchor_ratio_idx][0]\n",
        "\t\t\tanchor_y = anchor_sizes[anchor_size_idx] * anchor_ratios[anchor_ratio_idx][1]\t\n",
        "\t\t\t\n",
        "\t\t\tfor ix in range(output_width):\t\t\t\t\t\n",
        "\t\t\t\t# tính tọa độ của x theo anchor hiện tại\n",
        "\t\t\t\tx1_anc = downscale * (ix + 0.5) - anchor_x / 2\n",
        "\t\t\t\tx2_anc = downscale * (ix + 0.5) + anchor_x / 2\t\n",
        "\t\t\t\t\n",
        "\t\t\t\t# bỏ qua các anchor vượt qua kích thước của ảnh\t\t\t\n",
        "\t\t\t\tif x1_anc < 0 or x2_anc > resized_width:\n",
        "\t\t\t\t\tcontinue\n",
        "\t\t\t\t\t\n",
        "\t\t\t\tfor jy in range(output_height):\n",
        "\t\t\t\t\t# tính tạo độ của y theo anchor hiện tại\n",
        "\t\t\t\t\ty1_anc = downscale * (jy + 0.5) - anchor_y / 2\n",
        "\t\t\t\t\ty2_anc = downscale * (jy + 0.5) + anchor_y / 2\n",
        "\n",
        "\t\t\t\t\t# bỏ qua các anchor vượt quá giới hạn\n",
        "\t\t\t\t\tif y1_anc < 0 or y2_anc > resized_height:\n",
        "\t\t\t\t\t\tcontinue\n",
        "\n",
        "\t\t\t\t\t# bbox_type cho biết anchor là pos hay neg\n",
        "\t\t\t\t\t# bắt đầu với neg\n",
        "\t\t\t\t\tbbox_type = 'neg'\n",
        "\n",
        "          # đây là IoU tốt nhất tại vị trí (x,y) và anchor hiện tại\n",
        "          # lưu ý rằng điều này khác với IoU tốt nhất cho ground-truth box\n",
        "\t\t\t\t\tbest_iou_for_loc = 0.0\n",
        "\n",
        "\t\t\t\t\tfor bbox_num in range(num_bboxes):\n",
        "\t\t\t\t\t\t# tính IoU giữa ground-truth box và anchor\n",
        "\t\t\t\t\t\tcurr_iou = iou([gta[bbox_num, 0], gta[bbox_num, 2], gta[bbox_num, 1], gta[bbox_num, 3]], [x1_anc, y1_anc, x2_anc, y2_anc])\n",
        "\t\t\t\t\t\t# tính toán các mục tiêu hồi quy nếu chúng cần thiết\n",
        "\t\t\t\t\t\tif curr_iou > best_iou_for_bbox[bbox_num] or curr_iou > C.rpn_max_overlap:\n",
        "\t\t\t\t\t\t\tcx = (gta[bbox_num, 0] + gta[bbox_num, 1]) / 2.0\n",
        "\t\t\t\t\t\t\tcy = (gta[bbox_num, 2] + gta[bbox_num, 3]) / 2.0\n",
        "\t\t\t\t\t\t\tcxa = (x1_anc + x2_anc)/2.0\n",
        "\t\t\t\t\t\t\tcya = (y1_anc + y2_anc)/2.0\n",
        "\n",
        "\t\t\t\t\t\t\t# x,y are the center point of ground-truth bbox\n",
        "\t\t\t\t\t\t\t# xa,ya are the center point of anchor bbox (xa=downscale * (ix + 0.5); ya=downscale * (iy+0.5))\n",
        "\t\t\t\t\t\t\t# w,h are the width and height of ground-truth bbox\n",
        "\t\t\t\t\t\t\t# wa,ha are the width and height of anchor bbox\n",
        "\t\t\t\t\t\t\t# tx = (x - xa) / wa\n",
        "\t\t\t\t\t\t\t# ty = (y - ya) / ha\n",
        "\t\t\t\t\t\t\t# tw = log(w / wa)\n",
        "\t\t\t\t\t\t\t# th = log(h / ha)\n",
        "\t\t\t\t\t\t\ttx = (cx - cxa) / (x2_anc - x1_anc)\n",
        "\t\t\t\t\t\t\tty = (cy - cya) / (y2_anc - y1_anc)\n",
        "\t\t\t\t\t\t\ttw = np.log((gta[bbox_num, 1] - gta[bbox_num, 0]) / (x2_anc - x1_anc))\n",
        "\t\t\t\t\t\t\tth = np.log((gta[bbox_num, 3] - gta[bbox_num, 2]) / (y2_anc - y1_anc))\n",
        "\t\t\t\t\t\t\n",
        "\t\t\t\t\t\tif img_data['bboxes'][bbox_num]['class'] != 'bg':\n",
        "\t\t\t\t\t\t\t# all GT boxes should be mapped to an anchor box, so we keep track of which anchor box was best\n",
        "\t\t\t\t\t\t\tif curr_iou > best_iou_for_bbox[bbox_num]:\n",
        "\t\t\t\t\t\t\t\tbest_anchor_for_bbox[bbox_num] = [jy, ix, anchor_ratio_idx, anchor_size_idx]\n",
        "\t\t\t\t\t\t\t\tbest_iou_for_bbox[bbox_num] = curr_iou\n",
        "\t\t\t\t\t\t\t\tbest_x_for_bbox[bbox_num,:] = [x1_anc, x2_anc, y1_anc, y2_anc]\n",
        "\t\t\t\t\t\t\t\tbest_dx_for_bbox[bbox_num,:] = [tx, ty, tw, th]\n",
        "\n",
        "\t\t\t\t\t\t\t# we set the anchor to positive if the IOU is >0.7 (it does not matter if there was another better box, it just indicates overlap)\n",
        "\t\t\t\t\t\t\tif curr_iou > C.rpn_max_overlap:\n",
        "\t\t\t\t\t\t\t\tbbox_type = 'pos'\n",
        "\t\t\t\t\t\t\t\tnum_anchors_for_bbox[bbox_num] += 1\n",
        "\t\t\t\t\t\t\t\t# we update the regression layer target if this IOU is the best for the current (x,y) and anchor position\n",
        "\t\t\t\t\t\t\t\tif curr_iou > best_iou_for_loc:\n",
        "\t\t\t\t\t\t\t\t\tbest_iou_for_loc = curr_iou\n",
        "\t\t\t\t\t\t\t\t\tbest_regr = (tx, ty, tw, th)\n",
        "\n",
        "\t\t\t\t\t\t\t# if the IOU is >0.3 and <0.7, it is ambiguous and no included in the objective\n",
        "\t\t\t\t\t\t\tif C.rpn_min_overlap < curr_iou < C.rpn_max_overlap:\n",
        "\t\t\t\t\t\t\t\t# gray zone between neg and pos\n",
        "\t\t\t\t\t\t\t\tif bbox_type != 'pos':\n",
        "\t\t\t\t\t\t\t\t\tbbox_type = 'neutral'\n",
        "\n",
        "\t\t\t\t\t# turn on or off outputs depending on IOUs\n",
        "\t\t\t\t\tif bbox_type == 'neg':\n",
        "\t\t\t\t\t\ty_is_box_valid[jy, ix, anchor_ratio_idx + n_anchratios * anchor_size_idx] = 1\n",
        "\t\t\t\t\t\ty_rpn_overlap[jy, ix, anchor_ratio_idx + n_anchratios * anchor_size_idx] = 0\n",
        "\t\t\t\t\telif bbox_type == 'neutral':\n",
        "\t\t\t\t\t\ty_is_box_valid[jy, ix, anchor_ratio_idx + n_anchratios * anchor_size_idx] = 0\n",
        "\t\t\t\t\t\ty_rpn_overlap[jy, ix, anchor_ratio_idx + n_anchratios * anchor_size_idx] = 0\n",
        "\t\t\t\t\telif bbox_type == 'pos':\n",
        "\t\t\t\t\t\ty_is_box_valid[jy, ix, anchor_ratio_idx + n_anchratios * anchor_size_idx] = 1\n",
        "\t\t\t\t\t\ty_rpn_overlap[jy, ix, anchor_ratio_idx + n_anchratios * anchor_size_idx] = 1\n",
        "\t\t\t\t\t\tstart = 4 * (anchor_ratio_idx + n_anchratios * anchor_size_idx)\n",
        "\t\t\t\t\t\ty_rpn_regr[jy, ix, start:start+4] = best_regr\n",
        "\n",
        "\t# we ensure that every bbox has at least one positive RPN region\n",
        "\n",
        "\tfor idx in range(num_anchors_for_bbox.shape[0]):\n",
        "\t\tif num_anchors_for_bbox[idx] == 0:\n",
        "\t\t\t# no box with an IOU greater than zero ...\n",
        "\t\t\tif best_anchor_for_bbox[idx, 0] == -1:\n",
        "\t\t\t\tcontinue\n",
        "\t\t\ty_is_box_valid[\n",
        "\t\t\t\tbest_anchor_for_bbox[idx,0], best_anchor_for_bbox[idx,1], best_anchor_for_bbox[idx,2] + n_anchratios *\n",
        "\t\t\t\tbest_anchor_for_bbox[idx,3]] = 1\n",
        "\t\t\ty_rpn_overlap[\n",
        "\t\t\t\tbest_anchor_for_bbox[idx,0], best_anchor_for_bbox[idx,1], best_anchor_for_bbox[idx,2] + n_anchratios *\n",
        "\t\t\t\tbest_anchor_for_bbox[idx,3]] = 1\n",
        "\t\t\tstart = 4 * (best_anchor_for_bbox[idx,2] + n_anchratios * best_anchor_for_bbox[idx,3])\n",
        "\t\t\ty_rpn_regr[\n",
        "\t\t\t\tbest_anchor_for_bbox[idx,0], best_anchor_for_bbox[idx,1], start:start+4] = best_dx_for_bbox[idx, :]\n",
        "\n",
        "\ty_rpn_overlap = np.transpose(y_rpn_overlap, (2, 0, 1))\n",
        "\ty_rpn_overlap = np.expand_dims(y_rpn_overlap, axis=0)\n",
        "\n",
        "\ty_is_box_valid = np.transpose(y_is_box_valid, (2, 0, 1))\n",
        "\ty_is_box_valid = np.expand_dims(y_is_box_valid, axis=0)\n",
        "\n",
        "\ty_rpn_regr = np.transpose(y_rpn_regr, (2, 0, 1))\n",
        "\ty_rpn_regr = np.expand_dims(y_rpn_regr, axis=0)\n",
        "\n",
        "\tpos_locs = np.where(np.logical_and(y_rpn_overlap[0, :, :, :] == 1, y_is_box_valid[0, :, :, :] == 1))\n",
        "\tneg_locs = np.where(np.logical_and(y_rpn_overlap[0, :, :, :] == 0, y_is_box_valid[0, :, :, :] == 1))\n",
        "\n",
        "\tnum_pos = len(pos_locs[0])\n",
        "\n",
        "\t# one issue is that the RPN has many more negative than positive regions, so we turn off some of the negative\n",
        "\t# regions. We also limit it to 256 regions.\n",
        "\tnum_regions = 256\n",
        "\n",
        "\tif len(pos_locs[0]) > num_regions/2:\n",
        "\t\tval_locs = random.sample(range(len(pos_locs[0])), len(pos_locs[0]) - num_regions/2)\n",
        "\t\ty_is_box_valid[0, pos_locs[0][val_locs], pos_locs[1][val_locs], pos_locs[2][val_locs]] = 0\n",
        "\t\tnum_pos = num_regions/2\n",
        "\n",
        "\tif len(neg_locs[0]) + num_pos > num_regions:\n",
        "\t\tval_locs = random.sample(range(len(neg_locs[0])), len(neg_locs[0]) - num_pos)\n",
        "\t\ty_is_box_valid[0, neg_locs[0][val_locs], neg_locs[1][val_locs], neg_locs[2][val_locs]] = 0\n",
        "\n",
        "\ty_rpn_cls = np.concatenate([y_is_box_valid, y_rpn_overlap], axis=1)\n",
        "\ty_rpn_regr = np.concatenate([np.repeat(y_rpn_overlap, 4, axis=1), y_rpn_regr], axis=1)\n",
        "\n",
        "\treturn np.copy(y_rpn_cls), np.copy(y_rpn_regr), num_pos"
      ]
    },
    {
      "cell_type": "markdown",
      "metadata": {
        "id": "1gQ_FihP-wAq"
      },
      "source": [
        "#### data augmentation denfined"
      ]
    },
    {
      "cell_type": "code",
      "execution_count": null,
      "metadata": {
        "id": "YTWvCIzi-sDl"
      },
      "outputs": [],
      "source": [
        "def get_train_transform():\n",
        "    return A.Compose(\n",
        "        [\n",
        "            # tăng giảm độ sáng và độ tương phản\n",
        "            A.OneOf([\n",
        "                A.HueSaturationValue(hue_shift_limit=0.1, sat_shift_limit= 0.1, \n",
        "                                     val_shift_limit=0.1, p=0.5),\n",
        "                A.RandomBrightnessContrast(brightness_limit=0.1, \n",
        "                                           contrast_limit=0.1, p=0.5),\n",
        "            ],p=0.5),\n",
        "            # làm mờ hoặc giảm nhiễu\n",
        "            A.OneOf([\n",
        "                A.Blur(blur_limit=1, p=0.50),\n",
        "                A.GaussNoise(var_limit=1.0 / 255.0, p=0.50)\n",
        "            ], p=0.5),\n",
        "            # chuyển ảnh xám\n",
        "            A.ToGray(p=0.2),\n",
        "            # lật ngang\n",
        "            A.HorizontalFlip(p=0.25),\n",
        "            # lật dọc\n",
        "            A.VerticalFlip(p=0.05),\n",
        "            # resize ảnh\n",
        "            A.Resize(height=480, width=480, p=0.2),\n",
        "        ],   \n",
        "        p=1.0, \n",
        "        bbox_params=A.BboxParams(\n",
        "            format='pascal_voc',\n",
        "            min_area=0, \n",
        "            min_visibility=0,\n",
        "            label_fields=['class_labels']\n",
        "        )\n",
        "    )\n"
      ]
    },
    {
      "cell_type": "markdown",
      "metadata": {
        "id": "3qGAalfJB8zz"
      },
      "source": [
        "#### Get new image size and augment the image"
      ]
    },
    {
      "cell_type": "code",
      "execution_count": null,
      "metadata": {
        "id": "HKhSFbmB2RTo"
      },
      "outputs": [],
      "source": [
        "# lấy width và height theo tỉ lệ img_min_side\n",
        "def get_new_img_size(width, height, img_min_side=300):\n",
        "\tif width <= height:\n",
        "\t\tf = float(img_min_side) / width\n",
        "\t\tresized_height = int(f * height)\n",
        "\t\tresized_width = img_min_side\n",
        "\telse:\n",
        "\t\tf = float(img_min_side) / height\n",
        "\t\tresized_width = int(f * width)\n",
        "\t\tresized_height = img_min_side\n",
        "\n",
        "\treturn resized_width, resized_height\n",
        "\n",
        "# hàm áp dụng data augmentation\n",
        "def augment(img_data, config, augment=True):\n",
        "  # kiểm tra các key trong img_data\n",
        "\tassert 'filepath' in img_data\n",
        "\tassert 'bboxes' in img_data\n",
        "\tassert 'width' in img_data\n",
        "\tassert 'height' in img_data\n",
        "\n",
        "  # copy img \n",
        "\timg_data_aug = copy.deepcopy(img_data)\n",
        "\n",
        "  # read img\n",
        "\timg = cv2.imread(img_data_aug['filepath'])\n",
        " \n",
        "  # nếu là data train thì áp dụng augment\n",
        "\tif augment:\n",
        "\t\ttry:\n",
        "\t\t\tbboxes = []\n",
        "\t\t\tclass_labels = []\n",
        "\t\t\tfor bbox in img_data_aug['bboxes']:\n",
        "\t\t\t\tif (bbox['class'] != 'bg'):\n",
        "\t\t\t\t\tclass_labels.append(bbox['class'])\n",
        "\t\t\t\t\tbboxes.append([bbox['x1'],bbox['y1'],bbox['x2'],bbox['y2'],bbox['class']])\t\n",
        "\t\t\tif (len(bboxes) != 0):\n",
        "\t\t\t\ttransform = get_train_transform()\n",
        "\t\t\t\ttransformed = transform(image=img, bboxes=bboxes,class_labels=class_labels)\n",
        "\t\t\t\ttransformed_image = transformed['image']\n",
        "\t\t\t\ttransformed_bboxes = transformed['bboxes']\n",
        "\t\t\t\tfor i,trans_bb in enumerate(transformed_bboxes):\n",
        "\t\t\t\t\timg_data_aug['bboxes'][i]['x1'] = round(trans_bb[0],0)\n",
        "\t\t\t\t\timg_data_aug['bboxes'][i]['x2'] = round(trans_bb[2],0)\n",
        "\t\t\t\t\timg_data_aug['bboxes'][i]['y1'] = round(trans_bb[1],0)\n",
        "\t\t\t\t\timg_data_aug['bboxes'][i]['y2'] = round(trans_bb[3],0)\n",
        "\t\t\t\t# lấy width và height của ảnh \n",
        "\t\t\t\timg_data_aug['width'] = transformed_image.shape[1]\n",
        "\t\t\t\timg_data_aug['height'] = transformed_image.shape[0]\n",
        "\t\texcept:\t\n",
        "\t\t\tpass\n",
        "\treturn img_data_aug, img"
      ]
    },
    {
      "cell_type": "markdown",
      "metadata": {
        "id": "0712o8CXkyh1"
      },
      "source": [
        "#### Generate the ground_truth anchors"
      ]
    },
    {
      "cell_type": "code",
      "execution_count": null,
      "metadata": {
        "id": "TvsEv3RIk0cF"
      },
      "outputs": [],
      "source": [
        "def get_anchor_gt(all_img_data, C, img_length_calc_function, mode='train'):\n",
        "\t\"\"\" Yield the ground-truth anchors as Y (labels)\n",
        "\t\t\n",
        "\tArgs:\n",
        "\t\tall_img_data: list(filepath, width, height, list(bboxes))\n",
        "\t\tC: config\n",
        "\t\timg_length_calc_function: function to calculate final layer's feature map (of base model) size according to input image size\n",
        "\t\tmode: 'train' or 'test'; 'train' mode need augmentation\n",
        "\n",
        "\tReturns:\n",
        "\t\tx_img: image data after resized and scaling (smallest size = 300px)\n",
        "\t\tY: [y_rpn_cls, y_rpn_regr]\n",
        "\t\timg_data_aug: augmented image data (original image with augmentation)\n",
        "\t\tdebug_img: show image for debug\n",
        "\t\tnum_pos: show number of positive anchors for debug\n",
        "\t\"\"\"\n",
        "\twhile True:\n",
        "\n",
        "\t\tfor img_data in all_img_data:\n",
        "\t\t\ttry:\n",
        "\n",
        "\t\t\t\t# đọc ảnh và áp dụng data augmentation\n",
        "\t\t\t\tif mode == 'train':\n",
        "\t\t\t\t\timg_data_aug, x_img = augment(img_data, C, augment=True)\n",
        "\t\t\t\telse:\n",
        "\t\t\t\t\timg_data_aug, x_img = augment(img_data, C, augment=False)\n",
        "        \n",
        "        # lấy width, height, shape của ảnh\n",
        "\t\t\t\t(width, height) = (img_data_aug['width'], img_data_aug['height'])\n",
        "\t\t\t\t(rows, cols, _) = x_img.shape\n",
        "        \n",
        "        # kiểm tra key width và height\n",
        "\t\t\t\tassert cols == width\n",
        "\t\t\t\tassert rows == height\n",
        "\n",
        "\t\t\t\t# lấy các width và height theo tỉ lệ img_min_size\n",
        "\t\t\t\t(resized_width, resized_height) = get_new_img_size(width, height, C.im_size)\n",
        "\n",
        "\t\t\t\t# thay đổi kích thước ảnh để đảm bảo cạnh nhỏ nhất là 300px\n",
        "\t\t\t\tx_img = cv2.resize(x_img, (resized_width, resized_height), interpolation=cv2.INTER_CUBIC)\n",
        "\t\t\t\tdebug_img = x_img.copy()\n",
        "\n",
        "\t\t\t\ttry:\n",
        "\t\t\t\t\ty_rpn_cls, y_rpn_regr, num_pos = calc_rpn(C, img_data_aug, width, height, resized_width, resized_height, img_length_calc_function)\n",
        "\t\t\t\texcept:\n",
        "\t\t\t\t\tcontinue\n",
        "\n",
        "\t\t\t\t# Zero-center by mean pixel, and preprocess image\n",
        "\n",
        "\t\t\t\tx_img = x_img[:,:, (2, 1, 0)]  # BGR -> RGB\n",
        "\t\t\t\tx_img = x_img.astype(np.float32)\n",
        "\t\t\t\tx_img[:, :, 0] -= C.img_channel_mean[0]\n",
        "\t\t\t\tx_img[:, :, 1] -= C.img_channel_mean[1]\n",
        "\t\t\t\tx_img[:, :, 2] -= C.img_channel_mean[2]\n",
        "\t\t\t\tx_img /= C.img_scaling_factor\n",
        "\n",
        "\t\t\t\tx_img = np.transpose(x_img, (2, 0, 1))\n",
        "\t\t\t\tx_img = np.expand_dims(x_img, axis=0)\n",
        "\n",
        "\t\t\t\ty_rpn_regr[:, y_rpn_regr.shape[1]//2:, :, :] *= C.std_scaling\n",
        "\n",
        "\t\t\t\tx_img = np.transpose(x_img, (0, 2, 3, 1))\n",
        "\t\t\t\ty_rpn_cls = np.transpose(y_rpn_cls, (0, 2, 3, 1))\n",
        "\t\t\t\ty_rpn_regr = np.transpose(y_rpn_regr, (0, 2, 3, 1))\n",
        "\n",
        "\t\t\t\tyield np.copy(x_img), [np.copy(y_rpn_cls), np.copy(y_rpn_regr)], img_data_aug, debug_img, num_pos\n",
        "\n",
        "\t\t\texcept Exception as e:\n",
        "\t\t\t\tprint(e)\n",
        "\t\t\t\tcontinue"
      ]
    },
    {
      "cell_type": "markdown",
      "metadata": {
        "id": "FZAAMEH4uqu9"
      },
      "source": [
        "#### Define loss functions for all four outputs"
      ]
    },
    {
      "cell_type": "code",
      "execution_count": null,
      "metadata": {
        "id": "CyLxnL4_uvmr"
      },
      "outputs": [],
      "source": [
        "lambda_rpn_regr = 1.0\n",
        "lambda_rpn_class = 1.0\n",
        "\n",
        "lambda_cls_regr = 1.0\n",
        "lambda_cls_class = 1.0\n",
        "\n",
        "epsilon = 1e-4"
      ]
    },
    {
      "cell_type": "code",
      "execution_count": null,
      "metadata": {
        "id": "tvGfH6m3yu0_"
      },
      "outputs": [],
      "source": [
        "def rpn_loss_regr(num_anchors):\n",
        "    \"\"\"Loss function for rpn regression\n",
        "    Args:\n",
        "        num_anchors: number of anchors (9 in here)\n",
        "    Returns:\n",
        "        Smooth L1 loss function \n",
        "                           0.5*x*x (if x_abs < 1)\n",
        "                           x_abx - 0.5 (otherwise)\n",
        "    \"\"\"\n",
        "    def rpn_loss_regr_fixed_num(y_true, y_pred):\n",
        "\n",
        "        # x is the difference between true value and predicted vaue\n",
        "        x = y_true[:, :, :, 4 * num_anchors:] - y_pred\n",
        "\n",
        "        # absolute value of x\n",
        "        x_abs = K.abs(x)\n",
        "\n",
        "        # If x_abs <= 1.0, x_bool = 1\n",
        "        x_bool = K.cast(K.less_equal(x_abs, 1.0), tf.float32)\n",
        "\n",
        "        return lambda_rpn_regr * K.sum(\n",
        "            y_true[:, :, :, :4 * num_anchors] * (x_bool * (0.5 * x * x) + (1 - x_bool) * (x_abs - 0.5))) / K.sum(epsilon + y_true[:, :, :, :4 * num_anchors])\n",
        "\n",
        "    return rpn_loss_regr_fixed_num\n",
        "\n",
        "\n",
        "def rpn_loss_cls(num_anchors):\n",
        "    \"\"\"Loss function for rpn classification\n",
        "    Args:\n",
        "        num_anchors: number of anchors (9 in here)\n",
        "        y_true[:, :, :, :9]: [0,1,0,0,0,0,0,1,0] means only the second and the eighth box is valid which contains pos or neg anchor => isValid\n",
        "        y_true[:, :, :, 9:]: [0,1,0,0,0,0,0,0,0] means the second box is pos and eighth box is negative\n",
        "    Returns:\n",
        "        lambda * sum((binary_crossentropy(isValid*y_pred,y_true))) / N\n",
        "    \"\"\"\n",
        "    def rpn_loss_cls_fixed_num(y_true, y_pred):\n",
        "\n",
        "            return lambda_rpn_class * K.sum(y_true[:, :, :, :num_anchors] * K.binary_crossentropy(y_pred[:, :, :, :], y_true[:, :, :, num_anchors:])) / K.sum(epsilon + y_true[:, :, :, :num_anchors])\n",
        "\n",
        "    return rpn_loss_cls_fixed_num\n",
        "\n",
        "\n",
        "def class_loss_regr(num_classes):\n",
        "    \"\"\"Loss function for rpn regression\n",
        "    Args:\n",
        "        num_anchors: number of anchors (9 in here)\n",
        "    Returns:\n",
        "        Smooth L1 loss function \n",
        "                           0.5*x*x (if x_abs < 1)\n",
        "                           x_abx - 0.5 (otherwise)\n",
        "    \"\"\"\n",
        "    def class_loss_regr_fixed_num(y_true, y_pred):\n",
        "      \n",
        "        y_true = K.cast(y_true, 'float32')\n",
        "        x = y_true[:, :, 4*num_classes:] - y_pred\n",
        "        x_abs = K.abs(x)\n",
        "        x_bool = K.cast(K.less_equal(x_abs, 1.0), 'float32')\n",
        "        return lambda_cls_regr * K.sum(y_true[:, :, :4*num_classes] * (x_bool * (0.5 * x * x) + (1 - x_bool) * (x_abs - 0.5))) / K.sum(epsilon + y_true[:, :, :4*num_classes])\n",
        "    return class_loss_regr_fixed_num\n",
        "\n",
        "\n",
        "def class_loss_cls(y_true, y_pred):\n",
        "    return lambda_cls_class * K.mean(categorical_crossentropy(y_true[0, :, :], y_pred[0, :, :]))"
      ]
    },
    {
      "cell_type": "code",
      "execution_count": null,
      "metadata": {
        "id": "5cX0N4VDl4zS"
      },
      "outputs": [],
      "source": [
        "def non_max_suppression_fast(boxes, probs, overlap_thresh=0.9, max_boxes=300):\n",
        "    # code used from here: http://www.pyimagesearch.com/2015/02/16/faster-non-maximum-suppression-python/\n",
        "    # if there are no boxes, return an empty list\n",
        "\n",
        "    # Process explanation:\n",
        "    #   Step 1: Sort the probs list\n",
        "    #   Step 2: Find the larget prob 'Last' in the list and save it to the pick list\n",
        "    #   Step 3: Calculate the IoU with 'Last' box and other boxes in the list. If the IoU is larger than overlap_threshold, delete the box from list\n",
        "    #   Step 4: Repeat step 2 and step 3 until there is no item in the probs list \n",
        "    if len(boxes) == 0:\n",
        "        return []\n",
        "\n",
        "    # grab the coordinates of the bounding boxes\n",
        "    x1 = boxes[:, 0]\n",
        "    y1 = boxes[:, 1]\n",
        "    x2 = boxes[:, 2]\n",
        "    y2 = boxes[:, 3]\n",
        "\n",
        "    np.testing.assert_array_less(x1, x2)\n",
        "    np.testing.assert_array_less(y1, y2)\n",
        "\n",
        "    # if the bounding boxes integers, convert them to floats --\n",
        "    # this is important since we'll be doing a bunch of divisions\n",
        "    if boxes.dtype.kind == \"i\":\n",
        "        boxes = boxes.astype(\"float\")\n",
        "\n",
        "    # initialize the list of picked indexes\t\n",
        "    pick = []\n",
        "\n",
        "    # calculate the areas\n",
        "    area = (x2 - x1) * (y2 - y1)\n",
        "\n",
        "    # sort the bounding boxes \n",
        "    idxs = np.argsort(probs)\n",
        "\n",
        "    # keep looping while some indexes still remain in the indexes\n",
        "    # list\n",
        "    while len(idxs) > 0:\n",
        "        # grab the last index in the indexes list and add the\n",
        "        # index value to the list of picked indexes\n",
        "        last = len(idxs) - 1\n",
        "        i = idxs[last]\n",
        "        pick.append(i)\n",
        "\n",
        "        # find the intersection\n",
        "\n",
        "        xx1_int = np.maximum(x1[i], x1[idxs[:last]])\n",
        "        yy1_int = np.maximum(y1[i], y1[idxs[:last]])\n",
        "        xx2_int = np.minimum(x2[i], x2[idxs[:last]])\n",
        "        yy2_int = np.minimum(y2[i], y2[idxs[:last]])\n",
        "\n",
        "        ww_int = np.maximum(0, xx2_int - xx1_int)\n",
        "        hh_int = np.maximum(0, yy2_int - yy1_int)\n",
        "\n",
        "        area_int = ww_int * hh_int\n",
        "\n",
        "        # find the union\n",
        "        area_union = area[i] + area[idxs[:last]] - area_int\n",
        "\n",
        "        # compute the ratio of overlap\n",
        "        overlap = area_int/(area_union + 1e-6)\n",
        "\n",
        "        # delete all indexes from the index list that have\n",
        "        idxs = np.delete(idxs, np.concatenate(([last],\n",
        "            np.where(overlap > overlap_thresh)[0])))\n",
        "\n",
        "        if len(pick) >= max_boxes:\n",
        "            break\n",
        "\n",
        "    # return only the bounding boxes that were picked using the integer data type\n",
        "    boxes = boxes[pick].astype(\"int\")\n",
        "    probs = probs[pick]\n",
        "    return boxes, probs\n",
        "\n",
        "# áp dựng repression layer cho tất cả anchor trên một feature map\n",
        "def apply_regr_np(X, T):\n",
        "    \"\"\"Apply regression layer to all anchors in one feature map\n",
        "\n",
        "    Args:\n",
        "        X: shape=(4, 18, 25) the current anchor type for all points in the feature map\n",
        "        T: regression layer shape=(4, 18, 25)\n",
        "\n",
        "    Returns:\n",
        "        X: regressed position and size for current anchor\n",
        "    \"\"\"\n",
        "    try:\n",
        "        x = X[0, :, :]\n",
        "        y = X[1, :, :]\n",
        "        w = X[2, :, :]\n",
        "        h = X[3, :, :]\n",
        "\n",
        "        tx = T[0, :, :]\n",
        "        ty = T[1, :, :]\n",
        "        tw = T[2, :, :]\n",
        "        th = T[3, :, :]\n",
        "\n",
        "        cx = x + w/2.\n",
        "        cy = y + h/2.\n",
        "        cx1 = tx * w + cx\n",
        "        cy1 = ty * h + cy\n",
        "\n",
        "        w1 = np.exp(tw.astype(np.float64)) * w\n",
        "        h1 = np.exp(th.astype(np.float64)) * h\n",
        "        x1 = cx1 - w1/2.\n",
        "        y1 = cy1 - h1/2.\n",
        "\n",
        "        x1 = np.round(x1)\n",
        "        y1 = np.round(y1)\n",
        "        w1 = np.round(w1)\n",
        "        h1 = np.round(h1)\n",
        "        return np.stack([x1, y1, w1, h1])\n",
        "    except Exception as e:\n",
        "        print(e)\n",
        "        return X\n",
        "    \n",
        "def apply_regr(x, y, w, h, tx, ty, tw, th):\n",
        "    # Apply regression to x, y, w and h\n",
        "    try:\n",
        "        cx = x + w/2.\n",
        "        cy = y + h/2.\n",
        "        cx1 = tx * w + cx\n",
        "        cy1 = ty * h + cy\n",
        "        w1 = math.exp(tw) * w\n",
        "        h1 = math.exp(th) * h\n",
        "        x1 = cx1 - w1/2.\n",
        "        y1 = cy1 - h1/2.\n",
        "        x1 = int(round(x1))\n",
        "        y1 = int(round(y1))\n",
        "        w1 = int(round(w1))\n",
        "        h1 = int(round(h1))\n",
        "\n",
        "        return x1, y1, w1, h1\n",
        "\n",
        "    except ValueError:\n",
        "        return x, y, w, h\n",
        "    except OverflowError:\n",
        "        return x, y, w, h\n",
        "    except Exception as e:\n",
        "        print(e)\n",
        "        return x, y, w, h\n",
        "\n",
        "def calc_iou(R, img_data, C, class_mapping):\n",
        "    \"\"\"Converts from (x1,y1,x2,y2) to (x,y,w,h) format\n",
        "\n",
        "    Args:\n",
        "        R: bboxes, probs\n",
        "    \"\"\"\n",
        "    bboxes = img_data['bboxes']\n",
        "    (width, height) = (img_data['width'], img_data['height'])\n",
        "    # get image dimensions for resizing\n",
        "    (resized_width, resized_height) = get_new_img_size(width, height, C.im_size)\n",
        "\n",
        "    gta = np.zeros((len(bboxes), 4))\n",
        "\n",
        "    for bbox_num, bbox in enumerate(bboxes):\n",
        "        # get the GT box coordinates, and resize to account for image resizing\n",
        "        # gta[bbox_num, 0] = (40 * (600 / 800)) / 16 = int(round(1.875)) = 2 (x in feature map)\n",
        "        gta[bbox_num, 0] = int(round(bbox['x1'] * (resized_width / float(width))/C.rpn_stride))\n",
        "        gta[bbox_num, 1] = int(round(bbox['x2'] * (resized_width / float(width))/C.rpn_stride))\n",
        "        gta[bbox_num, 2] = int(round(bbox['y1'] * (resized_height / float(height))/C.rpn_stride))\n",
        "        gta[bbox_num, 3] = int(round(bbox['y2'] * (resized_height / float(height))/C.rpn_stride))\n",
        "\n",
        "    x_roi = []\n",
        "    y_class_num = []\n",
        "    y_class_regr_coords = []\n",
        "    y_class_regr_label = []\n",
        "    IoUs = [] # for debugging only\n",
        "\n",
        "    # R.shape[0]: number of bboxes (=300 from non_max_suppression)\n",
        "    for ix in range(R.shape[0]):\n",
        "        (x1, y1, x2, y2) = R[ix, :]\n",
        "        x1 = int(round(x1))\n",
        "        y1 = int(round(y1))\n",
        "        x2 = int(round(x2))\n",
        "        y2 = int(round(y2))\n",
        "\n",
        "        best_iou = 0.0\n",
        "        best_bbox = -1\n",
        "        # Iterate through all the ground-truth bboxes to calculate the iou\n",
        "        for bbox_num in range(len(bboxes)):\n",
        "            curr_iou = iou([gta[bbox_num, 0], gta[bbox_num, 2], gta[bbox_num, 1], gta[bbox_num, 3]], [x1, y1, x2, y2])\n",
        "\n",
        "            # Find out the corresponding ground-truth bbox_num with larget iou\n",
        "            if curr_iou > best_iou:\n",
        "                best_iou = curr_iou\n",
        "                best_bbox = bbox_num\n",
        "\n",
        "        if best_iou < C.classifier_min_overlap:\n",
        "                continue\n",
        "        else:\n",
        "            w = x2 - x1\n",
        "            h = y2 - y1\n",
        "            x_roi.append([x1, y1, w, h])\n",
        "            IoUs.append(best_iou)\n",
        "\n",
        "            if C.classifier_min_overlap <= best_iou < C.classifier_max_overlap:\n",
        "                # hard negative example\n",
        "                cls_name = 'bg'\n",
        "            elif C.classifier_max_overlap <= best_iou:\n",
        "                cls_name = bboxes[best_bbox]['class']\n",
        "                cxg = (gta[best_bbox, 0] + gta[best_bbox, 1]) / 2.0\n",
        "                cyg = (gta[best_bbox, 2] + gta[best_bbox, 3]) / 2.0\n",
        "\n",
        "                cx = x1 + w / 2.0\n",
        "                cy = y1 + h / 2.0\n",
        "\n",
        "                tx = (cxg - cx) / float(w)\n",
        "                ty = (cyg - cy) / float(h)\n",
        "                tw = np.log((gta[best_bbox, 1] - gta[best_bbox, 0]) / float(w))\n",
        "                th = np.log((gta[best_bbox, 3] - gta[best_bbox, 2]) / float(h))\n",
        "            else:\n",
        "                print('roi = {}'.format(best_iou))\n",
        "                raise RuntimeError\n",
        "\n",
        "        class_num = class_mapping[cls_name]\n",
        "        class_label = len(class_mapping) * [0]\n",
        "        class_label[class_num] = 1\n",
        "        y_class_num.append(copy.deepcopy(class_label))\n",
        "        coords = [0] * 4 * (len(class_mapping) - 1)\n",
        "        labels = [0] * 4 * (len(class_mapping) - 1)\n",
        "        if cls_name != 'bg':\n",
        "            label_pos = 4 * class_num\n",
        "            sx, sy, sw, sh = C.classifier_regr_std\n",
        "            coords[label_pos:4+label_pos] = [sx*tx, sy*ty, sw*tw, sh*th]\n",
        "            labels[label_pos:4+label_pos] = [1, 1, 1, 1]\n",
        "            y_class_regr_coords.append(copy.deepcopy(coords))\n",
        "            y_class_regr_label.append(copy.deepcopy(labels))\n",
        "        else:\n",
        "            y_class_regr_coords.append(copy.deepcopy(coords))\n",
        "            y_class_regr_label.append(copy.deepcopy(labels))\n",
        "\n",
        "    if len(x_roi) == 0:\n",
        "        return None, None, None, None\n",
        "\n",
        "    # bboxes that iou > C.classifier_min_overlap for all gt bboxes in 300 non_max_suppression bboxes\n",
        "    X = np.array(x_roi)\n",
        "    # one hot code for bboxes from above => x_roi (X)\n",
        "    Y1 = np.array(y_class_num)\n",
        "    # corresponding labels and corresponding gt bboxes\n",
        "    Y2 = np.concatenate([np.array(y_class_regr_label),np.array(y_class_regr_coords)],axis=1)\n",
        "\n",
        "    return np.expand_dims(X, axis=0), np.expand_dims(Y1, axis=0), np.expand_dims(Y2, axis=0), IoUs"
      ]
    },
    {
      "cell_type": "code",
      "execution_count": null,
      "metadata": {
        "id": "vT6X-fqJ1RSl"
      },
      "outputs": [],
      "source": [
        "def rpn_to_roi(rpn_layer, regr_layer, C, dim_ordering, use_regr=True, max_boxes=300,overlap_thresh=0.9):\n",
        "\t\"\"\"Convert rpn layer to roi bboxes\n",
        "\n",
        "\tArgs: (num_anchors = 9)\n",
        "\t\trpn_layer: output layer for rpn classification \n",
        "\t\t\tshape (1, feature_map.height, feature_map.width, num_anchors)\n",
        "\t\t\tMight be (1, 18, 25, 18) if resized image is 400 width and 300\n",
        "\t\tregr_layer: output layer for rpn regression\n",
        "\t\t\tshape (1, feature_map.height, feature_map.width, num_anchors)\n",
        "\t\t\tMight be (1, 18, 25, 72) if resized image is 400 width and 300\n",
        "\t\tC: config\n",
        "\t\tuse_regr: Wether to use bboxes regression in rpn\n",
        "\t\tmax_boxes: max bboxes number for non-max-suppression (NMS)\n",
        "\t\toverlap_thresh: If iou in NMS is larger than this threshold, drop the box\n",
        "\n",
        "\tReturns:\n",
        "\t\tresult: boxes from non-max-suppression (shape=(300, 4))\n",
        "\t\t\tboxes: coordinates for bboxes (on the feature map)\n",
        "\t\"\"\"\n",
        "\tregr_layer = regr_layer / C.std_scaling\n",
        "\n",
        "\tanchor_sizes = C.anchor_box_scales   # (3 in here)\n",
        "\tanchor_ratios = C.anchor_box_ratios  # (3 in here)\n",
        "\n",
        "\tassert rpn_layer.shape[0] == 1\n",
        "\n",
        "\t(rows, cols) = rpn_layer.shape[1:3]\n",
        "\n",
        "\tcurr_layer = 0\n",
        "\n",
        "\t# A.shape = (4, feature_map.height, feature_map.width, num_anchors) \n",
        "\t# Might be (4, 18, 25, 18) if resized image is 400 width and 300\n",
        "\t# A is the coordinates for 9 anchors for every point in the feature map \n",
        "\t# => all 18x25x9=4050 anchors cooridnates\n",
        "\tA = np.zeros((4, rpn_layer.shape[1], rpn_layer.shape[2], rpn_layer.shape[3]))\n",
        "\n",
        "\tfor anchor_size in anchor_sizes:\n",
        "\t\tfor anchor_ratio in anchor_ratios:\n",
        "\t\t\t# anchor_x = (128 * 1) / 16 = 8  => width of current anchor\n",
        "\t\t\t# anchor_y = (128 * 2) / 16 = 16 => height of current anchor\n",
        "\t\t\tanchor_x = (anchor_size * anchor_ratio[0])/C.rpn_stride\n",
        "\t\t\tanchor_y = (anchor_size * anchor_ratio[1])/C.rpn_stride\n",
        "\t\t\t\n",
        "\t\t\t# curr_layer: 0~8 (9 anchors)\n",
        "\t\t\t# the Kth anchor of all position in the feature map (9th in total)\n",
        "\t\t\tregr = regr_layer[0, :, :, 4 * curr_layer:4 * curr_layer + 4] # shape => (18, 25, 4)\n",
        "\t\t\tregr = np.transpose(regr, (2, 0, 1)) # shape => (4, 18, 25)\n",
        "\n",
        "\t\t\t# Create 18x25 mesh grid\n",
        "\t\t\t# For every point in x, there are all the y points and vice versa\n",
        "\t\t\t# X.shape = (18, 25)\n",
        "\t\t\t# Y.shape = (18, 25)\n",
        "\t\t\tX, Y = np.meshgrid(np.arange(cols),np. arange(rows))\n",
        "\n",
        "\t\t\t# Calculate anchor position and size for each feature map point\n",
        "\t\t\tA[0, :, :, curr_layer] = X - anchor_x/2 # Top left x coordinate\n",
        "\t\t\tA[1, :, :, curr_layer] = Y - anchor_y/2 # Top left y coordinate\n",
        "\t\t\tA[2, :, :, curr_layer] = anchor_x       # width of current anchor\n",
        "\t\t\tA[3, :, :, curr_layer] = anchor_y       # height of current anchor\n",
        "\n",
        "\t\t\t# Apply regression to x, y, w and h if there is rpn regression layer\n",
        "\t\t\tif use_regr:\n",
        "\t\t\t\tA[:, :, :, curr_layer] = apply_regr_np(A[:, :, :, curr_layer], regr)\n",
        "\n",
        "\t\t\t# Avoid width and height exceeding 1\n",
        "\t\t\tA[2, :, :, curr_layer] = np.maximum(1, A[2, :, :, curr_layer])\n",
        "\t\t\tA[3, :, :, curr_layer] = np.maximum(1, A[3, :, :, curr_layer])\n",
        "\n",
        "\t\t\t# Convert (x, y , w, h) to (x1, y1, x2, y2)\n",
        "\t\t\t# x1, y1 is top left coordinate\n",
        "\t\t\t# x2, y2 is bottom right coordinate\n",
        "\t\t\tA[2, :, :, curr_layer] += A[0, :, :, curr_layer]\n",
        "\t\t\tA[3, :, :, curr_layer] += A[1, :, :, curr_layer]\n",
        "\n",
        "\t\t\t# Avoid bboxes drawn outside the feature map\n",
        "\t\t\tA[0, :, :, curr_layer] = np.maximum(0, A[0, :, :, curr_layer])\n",
        "\t\t\tA[1, :, :, curr_layer] = np.maximum(0, A[1, :, :, curr_layer])\n",
        "\t\t\tA[2, :, :, curr_layer] = np.minimum(cols-1, A[2, :, :, curr_layer])\n",
        "\t\t\tA[3, :, :, curr_layer] = np.minimum(rows-1, A[3, :, :, curr_layer])\n",
        "\n",
        "\t\t\tcurr_layer += 1\n",
        "\n",
        "\tall_boxes = np.reshape(A.transpose((0, 3, 1, 2)), (4, -1)).transpose((1, 0))  # shape=(4050, 4)\n",
        "\tall_probs = rpn_layer.transpose((0, 3, 1, 2)).reshape((-1))                   # shape=(4050,)\n",
        "\n",
        "\tx1 = all_boxes[:, 0]\n",
        "\ty1 = all_boxes[:, 1]\n",
        "\tx2 = all_boxes[:, 2]\n",
        "\ty2 = all_boxes[:, 3]\n",
        "\n",
        "\t# Find out the bboxes which is illegal and delete them from bboxes list \n",
        "\tidxs = np.where((x1 - x2 >= 0) | (y1 - y2 >= 0))\n",
        "\n",
        "\tall_boxes = np.delete(all_boxes, idxs, 0)\n",
        "\tall_probs = np.delete(all_probs, idxs, 0)\n",
        "\n",
        "\t# Apply non_max_suppression\n",
        "\t# Only extract the bboxes. Don't need rpn probs in the later process\n",
        "\tresult = non_max_suppression_fast(all_boxes, all_probs, overlap_thresh=overlap_thresh, max_boxes=max_boxes)[0]\n",
        "\n",
        "\treturn result"
      ]
    },
    {
      "cell_type": "markdown",
      "metadata": {
        "id": "TVmMqXE5x70U"
      },
      "source": [
        "### Start training"
      ]
    },
    {
      "cell_type": "code",
      "execution_count": null,
      "metadata": {
        "id": "C66bqGuOq7w6"
      },
      "outputs": [],
      "source": [
        "# đường dẫn gốc\n",
        "base_path = '/content/drive/MyDrive/nine_dash_lines'\n",
        "\n",
        "# annotation file\n",
        "train_path =  \"/content/drive/MyDrive/nine_dash_lines/data_train/annotations/annotations_public_remove_noise_2.txt\"\n",
        "\n",
        "test_path = '/content/drive/MyDrive/nine_dash_lines/data_test/annotations/annotations_public.txt' # Test data (annotation file)\n",
        "\n",
        "test_base_path = '/content/drive/MyDrive/nine_dash_lines/data_test/images' # Directory to save the test images\n",
        "\n",
        "# số lượng RoIs xử lí cùng một lúc \n",
        "num_rois = 4\n",
        "\n",
        "# cài đặt data Augmentation\n",
        "horizontal_flips = False\n",
        "vertical_flips = False\n",
        "rot_90 = False  \n",
        "\n",
        "# ouput weight of faster - rcnn\n",
        "output_weight_path = os.path.join(base_path, 'model_remove_noise/model_frcnn_augementationData.hdf5')\n",
        "\n",
        "# record lại cái loss qua mỗi epouch\n",
        "record_path = os.path.join(base_path, 'model_remove_noise/record_augementationData.csv')\n",
        "\n",
        "# base_weight của vgg16\n",
        "base_weight_path = os.path.join(base_path, 'Model/vgg16_weights_tf_dim_ordering_tf_kernels.h5')\n",
        "\n",
        "# lưu lạ setting của model\n",
        "config_output_filename = os.path.join(base_path, 'model_remove_noise/model_vgg_config.pickle')"
      ]
    },
    {
      "cell_type": "code",
      "execution_count": null,
      "metadata": {
        "id": "J3oAmbbEutH0"
      },
      "outputs": [],
      "source": [
        "# tạo config setting cho model \n",
        "C = Config()\n",
        "\n",
        "# data Augmentation\n",
        "C.use_horizontal_flips = horizontal_flips\n",
        "C.use_vertical_flips = vertical_flips\n",
        "C.rot_90 = rot_90\n",
        "\n",
        "# các path\n",
        "C.record_path = record_path\n",
        "C.model_path = output_weight_path\n",
        "C.base_net_weights = base_weight_path\n",
        "\n",
        "# số lượng RoIs\n",
        "C.num_rois = num_rois"
      ]
    },
    {
      "cell_type": "code",
      "execution_count": null,
      "metadata": {
        "colab": {
          "background_save": true,
          "base_uri": "https://localhost:8080/"
        },
        "id": "yiEaAmb-x-so",
        "outputId": "2f9085e2-39ba-4b2e-c43d-3f74394bc7e9"
      },
      "outputs": [
        {
          "name": "stdout",
          "output_type": "stream",
          "text": [
            "Parsing annotation files\n",
            "idx=1Found class name with special name bg. Will be treated as a background region (this is usually for hard negative mining).\n",
            "idx=2588\n",
            "Spend 11.37 mins to load the data\n"
          ]
        }
      ],
      "source": [
        "#--------------------------------------------------------#\n",
        "# This step will spend some time to load the data train  #\n",
        "#--------------------------------------------------------#\n",
        "st = time.time()\n",
        "train_imgs, classes_count, class_mapping = get_data(train_path)\n",
        "print()\n",
        "print('Spend %0.2f mins to load the data' % ((time.time()-st)/60) )"
      ]
    },
    {
      "cell_type": "code",
      "execution_count": null,
      "metadata": {
        "colab": {
          "background_save": true
        },
        "id": "Cm6ZeLB0tsm2"
      },
      "outputs": [],
      "source": [
        "# #--------------------------------------------------------#\n",
        "# # This step will spend some time to load the data test   #\n",
        "# #--------------------------------------------------------#\n",
        "# test_imgs, _, _ = get_data(test_path)"
      ]
    },
    {
      "cell_type": "code",
      "execution_count": null,
      "metadata": {
        "colab": {
          "background_save": true
        },
        "id": "x-nuSdC56GsK",
        "outputId": "ab8aaa72-14bb-4a3f-9c31-b0e3f6f57bcc"
      },
      "outputs": [
        {
          "name": "stdout",
          "output_type": "stream",
          "text": [
            "Training images per class:\n",
            "{'bg': 1703, 'yes': 885}\n",
            "Num classes (including bg) = 2\n",
            "{'bg': 1, 'yes': 0}\n",
            "Config has been written to /content/drive/MyDrive/nine_dash_lines/model_remove_noise/model_vgg_config.pickle, and can be loaded when testing to ensure correct results\n"
          ]
        }
      ],
      "source": [
        "if 'bg' not in classes_count:\n",
        "\tclasses_count['bg'] = 0\n",
        "\tclass_mapping['bg'] = len(class_mapping)\n",
        "# e.g.\n",
        "#    classes_count: {'Car': 2383, 'Mobile phone': 1108, 'Person': 3745, 'bg': 0}\n",
        "#    class_mapping: {'Person': 0, 'Car': 1, 'Mobile phone': 2, 'bg': 3}\n",
        "C.class_mapping = class_mapping\n",
        "\n",
        "print('Training images per class:')\n",
        "pprint.pprint(classes_count)\n",
        "print('Num classes (including bg) = {}'.format(len(classes_count)))\n",
        "print(class_mapping)\n",
        "\n",
        "# Save the configuration\n",
        "with open(config_output_filename, 'wb') as config_f:\n",
        "\tpickle.dump(C,config_f)\n",
        "\tprint('Config has been written to {}, and can be loaded when testing to ensure correct results'.format(config_output_filename))\n"
      ]
    },
    {
      "cell_type": "code",
      "execution_count": null,
      "metadata": {
        "colab": {
          "background_save": true
        },
        "id": "LFlq36Sx4F4O",
        "outputId": "22d96cc3-e8ef-4a3f-841b-03840edbb674"
      },
      "outputs": [
        {
          "name": "stdout",
          "output_type": "stream",
          "text": [
            "Num train samples (images) 2485\n"
          ]
        }
      ],
      "source": [
        "# # Shuffle the images with seed\n",
        "# random.seed(3)\n",
        "# random.shuffle(train_imgs)\n",
        "\n",
        "print('Num train samples (images) {}'.format(len(train_imgs)))"
      ]
    },
    {
      "cell_type": "code",
      "execution_count": null,
      "metadata": {
        "colab": {
          "background_save": true
        },
        "id": "GXIV1uXyBo3v"
      },
      "outputs": [],
      "source": [
        "# lấy train data là các anchors\n",
        "data_gen_train = get_anchor_gt(train_imgs, C, get_img_output_length, mode='train')"
      ]
    },
    {
      "cell_type": "markdown",
      "metadata": {
        "id": "y_yM5jkKqM1G"
      },
      "source": [
        "#### Explore 'data_gen_train'\n",
        "\n",
        "data_gen_train is an **generator**, so we get the data by calling **next(data_gen_train)**"
      ]
    },
    {
      "cell_type": "code",
      "execution_count": null,
      "metadata": {
        "colab": {
          "background_save": true
        },
        "id": "nIDnio1UlRHi"
      },
      "outputs": [],
      "source": [
        "X, Y, image_data, debug_img, debug_num_pos = next(data_gen_train)"
      ]
    },
    {
      "cell_type": "code",
      "execution_count": null,
      "metadata": {
        "colab": {
          "background_save": true
        },
        "id": "jODipXFDnDJ0"
      },
      "outputs": [],
      "source": [
        "# định dạng đầu vào\n",
        "input_shape_img = (None, None, 3)\n",
        "img_input = Input(shape=input_shape_img)\n",
        "roi_input = Input(shape=(None, 4))\n",
        "\n",
        "# định dạng base network\n",
        "shared_layers = nn_base(img_input, trainable=True)"
      ]
    },
    {
      "cell_type": "code",
      "execution_count": null,
      "metadata": {
        "colab": {
          "background_save": true
        },
        "id": "udTeQMVhfSzw",
        "outputId": "07d10187-c226-4f34-d383-6d4ef0043a39"
      },
      "outputs": [
        {
          "name": "stdout",
          "output_type": "stream",
          "text": [
            "Continue training based on previous trained model\n",
            "Loading weights from /content/drive/MyDrive/nine_dash_lines/model_remove_noise/model_frcnn_augementationData.hdf5\n",
            "Already train 42K batches\n"
          ]
        }
      ],
      "source": [
        "# định dạng RPN và xây dựng base layers\n",
        "num_anchors = len(C.anchor_box_scales) * len(C.anchor_box_ratios) # 9\n",
        "rpn = rpn_layer(shared_layers, num_anchors)\n",
        "\n",
        "classifier = classifier_layer(shared_layers, roi_input, C.num_rois, nb_classes=len(classes_count))\n",
        "\n",
        "model_rpn = Model(img_input, rpn[:2])\n",
        "model_classifier = Model([img_input, roi_input], classifier)\n",
        "\n",
        "# đây là mô hình để giữ cả RPN và classifier, sử dụng để tải / lưu weights cho hai models \n",
        "model_all = Model([img_input, roi_input], rpn[:2] + classifier)\n",
        "\n",
        "# bởi vì gg coab chỉ có thể chạy một vào session trong một giờ \n",
        "# vì thế ta cần lưu và load lại model\n",
        "if not os.path.isfile(C.model_path):\n",
        "    # nếu đây là lần đầu tiên train, sẽ load weight của pre-trained model\n",
        "    try:\n",
        "        print('This is the first time of your training')\n",
        "        print('loading weights from {}'.format(C.base_net_weights))\n",
        "        model_rpn.load_weights(C.base_net_weights, by_name=True)\n",
        "        model_classifier.load_weights(C.base_net_weights, by_name=True)\n",
        "    except:\n",
        "        print('Could not load pretrained model weights. Weights can be found in the keras application folder \\\n",
        "            https://github.com/fchollet/keras/tree/master/keras/applications')\n",
        "    \n",
        "    # tạo record.csv để lưu losses, accc và mAP\n",
        "    record_df = pd.DataFrame(columns=['mean_overlapping_bboxes', 'class_acc', 'loss_rpn_cls', 'loss_rpn_regr', 'loss_class_cls', 'loss_class_regr', 'curr_loss', 'elapsed_time', 'mAP'])\n",
        "else:\n",
        "    # nếu đây là tiếp tục train, thì sẽ load model đã được train trước đây\n",
        "    print('Continue training based on previous trained model')\n",
        "    print('Loading weights from {}'.format(C.model_path))\n",
        "    model_rpn.load_weights(C.model_path, by_name=True)\n",
        "    model_classifier.load_weights(C.model_path, by_name=True)\n",
        "    \n",
        "    # load record file \n",
        "    record_df = pd.read_csv(record_path)\n",
        "\n",
        "    r_mean_overlapping_bboxes = record_df['mean_overlapping_bboxes']\n",
        "    r_class_acc = record_df['class_acc']\n",
        "    r_loss_rpn_cls = record_df['loss_rpn_cls']\n",
        "    r_loss_rpn_regr = record_df['loss_rpn_regr']\n",
        "    r_loss_class_cls = record_df['loss_class_cls']\n",
        "    r_loss_class_regr = record_df['loss_class_regr']\n",
        "    r_curr_loss = record_df['curr_loss']\n",
        "    r_elapsed_time = record_df['elapsed_time']\n",
        "    r_mAP = record_df['mAP']\n",
        "\n",
        "    print('Already train %dK batches'% (len(record_df)))"
      ]
    },
    {
      "cell_type": "code",
      "execution_count": null,
      "metadata": {
        "colab": {
          "background_save": true
        },
        "id": "-ULrg0V1soIR"
      },
      "outputs": [],
      "source": [
        "# setting model \n",
        "optimizer = Adam(learning_rate=1e-5)\n",
        "optimizer_classifier = Adam(learning_rate=1e-5)\n",
        "model_rpn.compile(optimizer=optimizer, loss=[rpn_loss_cls(num_anchors), rpn_loss_regr(num_anchors)])\n",
        "model_classifier.compile(optimizer=optimizer_classifier, loss=[class_loss_cls, class_loss_regr(len(classes_count)-1)], metrics={'dense_class_{}'.format(len(classes_count)): 'accuracy'})\n",
        "model_all.compile(optimizer='sgd', loss='mae')"
      ]
    },
    {
      "cell_type": "code",
      "execution_count": null,
      "metadata": {
        "colab": {
          "background_save": true
        },
        "id": "Qz2BYzL6sqfu"
      },
      "outputs": [],
      "source": [
        "# Training setting\n",
        "total_epochs = len(record_df)\n",
        "r_epochs = len(record_df)\n",
        "\n",
        "epoch_length = 1000\n",
        "num_epochs = 3\n",
        "iter_num = 0\n",
        "\n",
        "total_epochs += num_epochs\n",
        "\n",
        "losses = np.zeros((epoch_length, 5))\n",
        "rpn_accuracy_rpn_monitor = []\n",
        "rpn_accuracy_for_epoch = []\n",
        "\n",
        "if len(record_df)==0:\n",
        "    best_loss = np.Inf\n",
        "else:\n",
        "    best_loss = np.min(r_curr_loss)"
      ]
    },
    {
      "cell_type": "code",
      "execution_count": null,
      "metadata": {
        "colab": {
          "background_save": true
        },
        "id": "JDysEDQA2DUz",
        "outputId": "10c7b49e-f942-49ba-f5c8-00f674b6b8d8"
      },
      "outputs": [
        {
          "name": "stdout",
          "output_type": "stream",
          "text": [
            "42\n"
          ]
        }
      ],
      "source": [
        "print(len(record_df))"
      ]
    },
    {
      "cell_type": "code",
      "execution_count": null,
      "metadata": {
        "id": "dRXtd5W30DRN"
      },
      "outputs": [],
      "source": [
        "start_time = time.time()\n",
        "for epoch_num in range(num_epochs):\n",
        "\n",
        "    progbar = generic_utils.Progbar(epoch_length)\n",
        "    print('Epoch {}/{}'.format(r_epochs + 1, total_epochs))\n",
        "    \n",
        "    r_epochs += 1\n",
        "\n",
        "    while True:\n",
        "        try:\n",
        "\n",
        "            if len(rpn_accuracy_rpn_monitor) == epoch_length and C.verbose:\n",
        "                mean_overlapping_bboxes = float(sum(rpn_accuracy_rpn_monitor))/len(rpn_accuracy_rpn_monitor)\n",
        "                rpn_accuracy_rpn_monitor = []\n",
        "#                 print('Average number of overlapping bounding boxes from RPN = {} for {} previous iterations'.format(mean_overlapping_bboxes, epoch_length))\n",
        "                if mean_overlapping_bboxes == 0:\n",
        "                    print('RPN is not producing bounding boxes that overlap the ground truth boxes. Check RPN settings or keep training.')\n",
        "\n",
        "            # tạo X (x_img) và nhãn Y ([y_rpn_cls, y_rpn_regr])\n",
        "            X, Y, img_data, debug_img, debug_num_pos = next(data_gen_train)\n",
        "\n",
        "            # Train rpn model và lấy giá trị loss [_, loss_rpn_cls, loss_rpn_regr]\n",
        "            loss_rpn = model_rpn.train_on_batch(X, Y)\n",
        "\n",
        "            # lấy region proposal từ rpn model [rpn_cls, rpn_regr]\n",
        "            P_rpn = model_rpn.predict_on_batch(X)\n",
        "\n",
        "            # R: bboxes (shape=(300,4))\n",
        "            # Convert rpn layer to roi bboxes\n",
        "            R = rpn_to_roi(P_rpn[0], P_rpn[1], C, K.image_data_format(), use_regr=True, overlap_thresh=0.7, max_boxes=300)\n",
        "            \n",
        "            # note: calc_iou converts from (x1,y1,x2,y2) to (x,y,w,h) format\n",
        "            # X2: bboxes that iou > C.classifier_min_overlap for all gt bboxes in 300 non_max_suppression bboxes\n",
        "            # Y1: one hot code for bboxes from above => x_roi (X)\n",
        "            # Y2: corresponding labels and corresponding gt bboxes\n",
        "            X2, Y1, Y2, IouS = calc_iou(R, img_data, C, class_mapping)\n",
        "\n",
        "            # If X2 is None means there are no matching bboxes\n",
        "            if X2 is None:\n",
        "                rpn_accuracy_rpn_monitor.append(0)\n",
        "                rpn_accuracy_for_epoch.append(0)\n",
        "                continue\n",
        "            \n",
        "            # Find out the positive anchors and negative anchors\n",
        "            neg_samples = np.where(Y1[0, :, -1] == 1)\n",
        "            pos_samples = np.where(Y1[0, :, -1] == 0)\n",
        "\n",
        "            if len(neg_samples) > 0:\n",
        "                neg_samples = neg_samples[0]\n",
        "            else:\n",
        "                neg_samples = []\n",
        "\n",
        "            if len(pos_samples) > 0:\n",
        "                pos_samples = pos_samples[0]\n",
        "            else:\n",
        "                pos_samples = []\n",
        "\n",
        "            rpn_accuracy_rpn_monitor.append(len(pos_samples))\n",
        "            rpn_accuracy_for_epoch.append((len(pos_samples)))\n",
        "\n",
        "            if C.num_rois > 1:\n",
        "                # If number of positive anchors is larger than 4//2 = 2, randomly choose 2 pos samples\n",
        "                if len(pos_samples) < C.num_rois//2:\n",
        "                    selected_pos_samples = pos_samples.tolist()\n",
        "                else:\n",
        "                    selected_pos_samples = np.random.choice(pos_samples, C.num_rois//2, replace=False).tolist()\n",
        "                \n",
        "                # Randomly choose (num_rois - num_pos) neg samples\n",
        "                try:\n",
        "                    selected_neg_samples = np.random.choice(neg_samples, C.num_rois - len(selected_pos_samples), replace=False).tolist()\n",
        "                except:\n",
        "                    selected_neg_samples = np.random.choice(neg_samples, C.num_rois - len(selected_pos_samples), replace=True).tolist()\n",
        "                \n",
        "                # Save all the pos and neg samples in sel_samples\n",
        "                sel_samples = selected_pos_samples + selected_neg_samples\n",
        "            else:\n",
        "                # in the extreme case where num_rois = 1, we pick a random pos or neg sample\n",
        "                selected_pos_samples = pos_samples.tolist()\n",
        "                selected_neg_samples = neg_samples.tolist()\n",
        "                if np.random.randint(0, 2):\n",
        "                    sel_samples = random.choice(neg_samples)\n",
        "                else:\n",
        "                    sel_samples = random.choice(pos_samples)\n",
        "\n",
        "            # training_data: [X, X2[:, sel_samples, :]]\n",
        "            # labels: [Y1[:, sel_samples, :], Y2[:, sel_samples, :]]\n",
        "            #  X                     => img_data resized image\n",
        "            #  X2[:, sel_samples, :] => num_rois (4 in here) bboxes which contains selected neg and pos\n",
        "            #  Y1[:, sel_samples, :] => one hot encode for num_rois bboxes which contains selected neg and pos\n",
        "            #  Y2[:, sel_samples, :] => labels and gt bboxes for num_rois bboxes which contains selected neg and pos\n",
        "            loss_class = model_classifier.train_on_batch([X, X2[:, sel_samples, :]], [Y1[:, sel_samples, :], Y2[:, sel_samples, :]])\n",
        "\n",
        "            losses[iter_num, 0] = loss_rpn[1]\n",
        "            losses[iter_num, 1] = loss_rpn[2]\n",
        "\n",
        "            losses[iter_num, 2] = loss_class[1]\n",
        "            losses[iter_num, 3] = loss_class[2]\n",
        "            losses[iter_num, 4] = loss_class[3]\n",
        "\n",
        "            iter_num += 1\n",
        "\n",
        "            progbar.update(iter_num, [('rpn_cls', np.mean(losses[:iter_num, 0])), ('rpn_regr', np.mean(losses[:iter_num, 1])),\n",
        "                                      ('final_cls', np.mean(losses[:iter_num, 2])), ('final_regr', np.mean(losses[:iter_num, 3]))])\n",
        "            \n",
        "            if iter_num == epoch_length:\n",
        "                loss_rpn_cls = np.mean(losses[:, 0])\n",
        "                loss_rpn_regr = np.mean(losses[:, 1])\n",
        "                loss_class_cls = np.mean(losses[:, 2])\n",
        "                loss_class_regr = np.mean(losses[:, 3])\n",
        "                class_acc = np.mean(losses[:, 4])\n",
        "\n",
        "                mean_overlapping_bboxes = float(sum(rpn_accuracy_for_epoch)) / len(rpn_accuracy_for_epoch)\n",
        "                rpn_accuracy_for_epoch = []\n",
        "\n",
        "                if C.verbose:\n",
        "                    print('Mean number of bounding boxes from RPN overlapping ground truth boxes: {}'.format(mean_overlapping_bboxes))\n",
        "                    print('Classifier accuracy for bounding boxes from RPN: {}'.format(class_acc))\n",
        "                    print('Loss RPN classifier: {}'.format(loss_rpn_cls))\n",
        "                    print('Loss RPN regression: {}'.format(loss_rpn_regr))\n",
        "                    print('Loss Detector classifier: {}'.format(loss_class_cls))\n",
        "                    print('Loss Detector regression: {}'.format(loss_class_regr))\n",
        "                    print('Total loss: {}'.format(loss_rpn_cls + loss_rpn_regr + loss_class_cls + loss_class_regr))\n",
        "                    print('Elapsed time: {}'.format(time.time() - start_time))\n",
        "                    elapsed_time = (time.time()-start_time)/60\n",
        "\n",
        "                curr_loss = loss_rpn_cls + loss_rpn_regr + loss_class_cls + loss_class_regr\n",
        "                iter_num = 0\n",
        "                start_time = time.time()\n",
        "\n",
        "                if curr_loss < best_loss:\n",
        "                    if C.verbose:\n",
        "                        print('Total loss decreased from {} to {}, saving weights'.format(best_loss,curr_loss))\n",
        "                    best_loss = curr_loss\n",
        "                    model_all.save_weights(C.model_path)\n",
        "\n",
        "                new_row = {'mean_overlapping_bboxes':round(mean_overlapping_bboxes, 3), \n",
        "                           'class_acc':round(class_acc, 3), \n",
        "                           'loss_rpn_cls':round(loss_rpn_cls, 3), \n",
        "                           'loss_rpn_regr':round(loss_rpn_regr, 3), \n",
        "                           'loss_class_cls':round(loss_class_cls, 3), \n",
        "                           'loss_class_regr':round(loss_class_regr, 3), \n",
        "                           'curr_loss':round(curr_loss, 3), \n",
        "                           'elapsed_time':round(elapsed_time, 3), \n",
        "                           'mAP': 0}\n",
        "\n",
        "                record_df = record_df.append(new_row, ignore_index=True)\n",
        "                record_df.to_csv(record_path, index=0)\n",
        "\n",
        "                break\n",
        "\n",
        "        except Exception as e:\n",
        "            print('Exception: {}'.format(e))\n",
        "            continue\n",
        "\n",
        "print('Training complete, exiting.')"
      ]
    },
    {
      "cell_type": "code",
      "execution_count": null,
      "metadata": {
        "id": "rgcKZkPgYySj"
      },
      "outputs": [],
      "source": [
        ""
      ]
    },
    {
      "cell_type": "code",
      "execution_count": null,
      "metadata": {
        "id": "Kt-1Grs90oD3"
      },
      "outputs": [],
      "source": [
        "plt.figure(figsize=(15,5))\n",
        "plt.subplot(1,2,1)\n",
        "plt.plot(np.arange(0, r_epochs), record_df['mean_overlapping_bboxes'], 'r')\n",
        "plt.title('mean_overlapping_bboxes')\n",
        "plt.subplot(1,2,2)\n",
        "plt.plot(np.arange(0, r_epochs), record_df['class_acc'], 'r')\n",
        "plt.title('class_acc')\n",
        "\n",
        "plt.show()\n",
        "\n",
        "plt.figure(figsize=(15,5))\n",
        "plt.subplot(1,2,1)\n",
        "plt.plot(np.arange(0, r_epochs), record_df['loss_rpn_cls'], 'r')\n",
        "plt.title('loss_rpn_cls')\n",
        "plt.subplot(1,2,2)\n",
        "plt.plot(np.arange(0, r_epochs), record_df['loss_rpn_regr'], 'r')\n",
        "plt.title('loss_rpn_regr')\n",
        "plt.show()\n",
        "\n",
        "\n",
        "plt.figure(figsize=(15,5))\n",
        "plt.subplot(1,2,1)\n",
        "plt.plot(np.arange(0, r_epochs), record_df['loss_class_cls'], 'r')\n",
        "plt.title('loss_class_cls')\n",
        "plt.subplot(1,2,2)\n",
        "plt.plot(np.arange(0, r_epochs), record_df['loss_class_regr'], 'r')\n",
        "plt.title('loss_class_regr')\n",
        "plt.show()\n",
        "\n",
        "plt.plot(np.arange(0, r_epochs), record_df['curr_loss'], 'r')\n",
        "plt.title('total_loss')\n",
        "plt.show()\n",
        "\n",
        "# plt.figure(figsize=(15,5))\n",
        "# plt.subplot(1,2,1)\n",
        "# plt.plot(np.arange(0, r_epochs), record_df['curr_loss'], 'r')\n",
        "# plt.title('total_loss')\n",
        "# plt.subplot(1,2,2)\n",
        "# plt.plot(np.arange(0, r_epochs), record_df['elapsed_time'], 'r')\n",
        "# plt.title('elapsed_time')\n",
        "# plt.show()\n",
        "\n",
        "# plt.title('loss')\n",
        "# plt.plot(np.arange(0, r_epochs), record_df['loss_rpn_cls'], 'b')\n",
        "# plt.plot(np.arange(0, r_epochs), record_df['loss_rpn_regr'], 'g')\n",
        "# plt.plot(np.arange(0, r_epochs), record_df['loss_class_cls'], 'r')\n",
        "# plt.plot(np.arange(0, r_epochs), record_df['loss_class_regr'], 'c')\n",
        "# # plt.plot(np.arange(0, r_epochs), record_df['curr_loss'], 'm')\n",
        "# plt.show()"
      ]
    },
    {
      "cell_type": "markdown",
      "metadata": {
        "id": "SJTc51uyFrKc"
      },
      "source": [
        "# Test"
      ]
    },
    {
      "cell_type": "markdown",
      "metadata": {
        "id": "29bMePo5jBin"
      },
      "source": [
        "#### load models"
      ]
    },
    {
      "cell_type": "code",
      "execution_count": null,
      "metadata": {
        "id": "U5844H5lbCiu"
      },
      "outputs": [],
      "source": [
        "base_path = \"/content/drive/MyDrive/nine_dash_lines\"\n",
        "\n",
        "test_path = '/content/drive/MyDrive/nine_dash_lines/data_test/annotations/annotations_public.txt' # Test data (annotation file)\n",
        "\n",
        "test_base_path = '/content/drive/MyDrive/nine_dash_lines/data_test/images' # Directory to save the test images\n",
        "\n",
        "config_output_filename = os.path.join(base_path, 'model_remove_noise/model_vgg_config.pickle')"
      ]
    },
    {
      "cell_type": "code",
      "execution_count": null,
      "metadata": {
        "id": "Hr7saGnTxC0S"
      },
      "outputs": [],
      "source": [
        "with open(config_output_filename, 'rb') as f_in:\n",
        "\tC = pickle.load(f_in)\n",
        "\n",
        "# turn off any data augmentation at test time\n",
        "C.use_horizontal_flips = False\n",
        "C.use_vertical_flips = False\n",
        "C.rot_90 = False"
      ]
    },
    {
      "cell_type": "code",
      "execution_count": null,
      "metadata": {
        "colab": {
          "base_uri": "https://localhost:8080/",
          "height": 1000
        },
        "id": "h3MacBS6bCiu",
        "outputId": "c7e13395-efe5-44cc-d50c-73a1b7af0551"
      },
      "outputs": [
        {
          "output_type": "display_data",
          "data": {
            "image/png": "[encoded data removed]",
            "text/plain": [
              "<Figure size 1080x360 with 2 Axes>"
            ]
          },
          "metadata": {
            "needs_background": "light"
          }
        },
        {
          "output_type": "display_data",
          "data": {
            "image/png": "[encoded data removed]",
            "text/plain": [
              "<Figure size 1080x360 with 2 Axes>"
            ]
          },
          "metadata": {
            "needs_background": "light"
          }
        },
        {
          "output_type": "display_data",
          "data": {
            "image/png": "[encoded data removed]",
            "text/plain": [
              "<Figure size 1080x360 with 2 Axes>"
            ]
          },
          "metadata": {
            "needs_background": "light"
          }
        },
        {
          "output_type": "display_data",
          "data": {
            "image/png": "[encoded data removed]",
            "text/plain": [
              "<Figure size 1080x360 with 2 Axes>"
            ]
          },
          "metadata": {
            "needs_background": "light"
          }
        }
      ],
      "source": [
        "# Load the records\n",
        "record_df = pd.read_csv(C.record_path)\n",
        "\n",
        "r_epochs = len(record_df)\n",
        "\n",
        "plt.figure(figsize=(15,5))\n",
        "plt.subplot(1,2,1)\n",
        "plt.plot(np.arange(0, r_epochs), record_df['mean_overlapping_bboxes'], 'r')\n",
        "plt.title('mean_overlapping_bboxes')\n",
        "\n",
        "plt.subplot(1,2,2)\n",
        "plt.plot(np.arange(0, r_epochs), record_df['class_acc'], 'r')\n",
        "plt.title('class_acc')\n",
        "\n",
        "plt.show()\n",
        "\n",
        "plt.figure(figsize=(15,5))\n",
        "\n",
        "plt.subplot(1,2,1)\n",
        "plt.plot(np.arange(0, r_epochs), record_df['loss_rpn_cls'], 'r')\n",
        "plt.title('loss_rpn_cls')\n",
        "\n",
        "plt.subplot(1,2,2)\n",
        "plt.plot(np.arange(0, r_epochs), record_df['loss_rpn_regr'], 'r')\n",
        "plt.title('loss_rpn_regr')\n",
        "plt.show()\n",
        "plt.figure(figsize=(15,5))\n",
        "plt.subplot(1,2,1)\n",
        "plt.plot(np.arange(0, r_epochs), record_df['loss_class_cls'], 'r')\n",
        "plt.title('loss_class_cls')\n",
        "\n",
        "plt.subplot(1,2,2)\n",
        "plt.plot(np.arange(0, r_epochs), record_df['loss_class_regr'], 'r')\n",
        "plt.title('loss_class_regr')\n",
        "plt.show()\n",
        "plt.figure(figsize=(15,5))\n",
        "plt.subplot(1,2,1)\n",
        "plt.plot(np.arange(0, r_epochs), record_df['curr_loss'], 'r')\n",
        "plt.title('total_loss')\n",
        "\n",
        "plt.subplot(1,2,2)\n",
        "plt.plot(np.arange(0, r_epochs), record_df['elapsed_time'], 'r')\n",
        "plt.title('elapsed_time')\n",
        "\n",
        "plt.show()"
      ]
    },
    {
      "cell_type": "markdown",
      "metadata": {
        "id": "hnb9a3avjIpv"
      },
      "source": [
        "#### preprocess data"
      ]
    },
    {
      "cell_type": "code",
      "execution_count": null,
      "metadata": {
        "id": "U1J6MchWFjBX"
      },
      "outputs": [],
      "source": [
        "def format_img_size(img, C):\n",
        "\t\"\"\" formats the image size based on config \"\"\"\n",
        "\timg_min_side = float(C.im_size)\n",
        "\t(height,width,_) = img.shape\n",
        "\t\t\n",
        "\tif width <= height:\n",
        "\t\tratio = img_min_side/width\n",
        "\t\tnew_height = int(ratio * height)\n",
        "\t\tnew_width = int(img_min_side)\n",
        "\telse:\n",
        "\t\tratio = img_min_side/height\n",
        "\t\tnew_width = int(ratio * width)\n",
        "\t\tnew_height = int(img_min_side)\n",
        "\timg = cv2.resize(img, (new_width, new_height), interpolation=cv2.INTER_CUBIC)\n",
        "\treturn img, ratio\t\n",
        "\n",
        "def format_img_channels(img, C):\n",
        "\t\"\"\" formats the image channels based on config \"\"\"\n",
        "\timg = img[:, :, (2, 1, 0)]\n",
        "\timg = img.astype(np.float32)\n",
        "\timg[:, :, 0] -= C.img_channel_mean[0]\n",
        "\timg[:, :, 1] -= C.img_channel_mean[1]\n",
        "\timg[:, :, 2] -= C.img_channel_mean[2]\n",
        "\timg /= C.img_scaling_factor\n",
        "\timg = np.transpose(img, (2, 0, 1))\n",
        "\timg = np.expand_dims(img, axis=0)\n",
        "\treturn img\n",
        "\n",
        "def format_img(img, C):\n",
        "\t\"\"\" formats an image for model prediction based on config \"\"\"\n",
        "\timg, ratio = format_img_size(img, C)\n",
        "\timg = format_img_channels(img, C)\n",
        "\treturn img, ratio\n",
        "\n",
        "# Method to transform the coordinates of the bounding box to its original size\n",
        "def get_real_coordinates(ratio, x1, y1, x2, y2):\n",
        "\n",
        "\treal_x1 = int(round(x1 // ratio))\n",
        "\treal_y1 = int(round(y1 // ratio))\n",
        "\treal_x2 = int(round(x2 // ratio))\n",
        "\treal_y2 = int(round(y2 // ratio))\n",
        "\n",
        "\treturn (real_x1, real_y1, real_x2 ,real_y2)"
      ]
    },
    {
      "cell_type": "markdown",
      "metadata": {
        "id": "PbMC1r8BqC9k"
      },
      "source": [
        "#### Measure mAP"
      ]
    },
    {
      "cell_type": "code",
      "execution_count": null,
      "metadata": {
        "colab": {
          "base_uri": "https://localhost:8080/"
        },
        "id": "QH-ZPjPN1gPC",
        "outputId": "9f676c1e-7e5e-4e09-f4e9-4367e6e0e605"
      },
      "outputs": [
        {
          "output_type": "stream",
          "name": "stdout",
          "text": [
            "Loading weights from /content/drive/MyDrive/nine_dash_lines/model_remove_noise/model_frcnn_augementationData.hdf5\n"
          ]
        }
      ],
      "source": [
        "num_features = 512\n",
        "\n",
        "input_shape_img = (None, None, 3)\n",
        "input_shape_features = (None, None, num_features)\n",
        "\n",
        "img_input = Input(shape=input_shape_img)\n",
        "roi_input = Input(shape=(C.num_rois, 4))\n",
        "feature_map_input = Input(shape=input_shape_features)\n",
        "\n",
        "# define the base network (VGG here, can be Resnet50, Inception, etc)\n",
        "shared_layers = nn_base(img_input, trainable=True)\n",
        "\n",
        "# define the RPN, built on the base layers\n",
        "num_anchors = len(C.anchor_box_scales) * len(C.anchor_box_ratios)\n",
        "rpn_layers = rpn_layer(shared_layers, num_anchors)\n",
        "\n",
        "classifier = classifier_layer(feature_map_input, roi_input, C.num_rois, nb_classes=len(C.class_mapping))\n",
        "\n",
        "model_rpn = Model(img_input, rpn_layers)\n",
        "model_classifier_only = Model([feature_map_input, roi_input], classifier)\n",
        "\n",
        "model_classifier = Model([feature_map_input, roi_input], classifier)\n",
        "\n",
        "print('Loading weights from {}'.format(C.model_path))\n",
        "model_rpn.load_weights(C.model_path, by_name=True)\n",
        "model_classifier.load_weights(C.model_path, by_name=True)\n",
        "\n",
        "model_rpn.compile(optimizer='sgd', loss='mse')\n",
        "model_classifier.compile(optimizer='sgd', loss='mse')"
      ]
    },
    {
      "cell_type": "code",
      "execution_count": null,
      "metadata": {
        "colab": {
          "base_uri": "https://localhost:8080/"
        },
        "id": "-WqM9RjO1k0r",
        "outputId": "839f1841-d201-4e1c-e213-ab442f25fb8c"
      },
      "outputs": [
        {
          "output_type": "stream",
          "name": "stdout",
          "text": [
            "{1: 'bg', 0: 'yes'}\n"
          ]
        }
      ],
      "source": [
        "# Switch key value for class mapping\n",
        "class_mapping = C.class_mapping\n",
        "class_mapping = {v: k for k, v in class_mapping.items()}\n",
        "print(class_mapping)\n",
        "class_to_color = {class_mapping[v]: np.random.randint(0, 255, 3) for v in class_mapping}"
      ]
    },
    {
      "cell_type": "code",
      "execution_count": null,
      "metadata": {
        "id": "HGt9OlDoU4vM"
      },
      "outputs": [],
      "source": [
        "def get_map(pred, gt, f,iou_thresh):\n",
        "\tT = {}\n",
        "\tP = {}\n",
        "\tfx, fy = f\n",
        "\n",
        "\tfor bbox in gt:\n",
        "\t\tbbox['bbox_matched'] = False\n",
        "\n",
        "\tpred_probs = np.array([s['prob'] for s in pred])\n",
        "\tbox_idx_sorted_by_prob = np.argsort(pred_probs)[::-1]\n",
        "\n",
        "\tfor box_idx in box_idx_sorted_by_prob:\n",
        "\t\tpred_box = pred[box_idx]\n",
        "\t\tpred_class = pred_box['class']\n",
        "\t\tpred_x1 = pred_box['x1']\n",
        "\t\tpred_x2 = pred_box['x2']\n",
        "\t\tpred_y1 = pred_box['y1']\n",
        "\t\tpred_y2 = pred_box['y2']\n",
        "\t\tpred_prob = pred_box['prob']\n",
        "\t\tif pred_class not in P:\n",
        "\t\t\tP[pred_class] = []\n",
        "\t\t\tT[pred_class] = []\n",
        "\t\tP[pred_class].append(pred_prob)\n",
        "\t\tfound_match = False\n",
        "\n",
        "\t\tfor gt_box in gt:\n",
        "\t\t\tgt_class = gt_box['class']\n",
        "\t\t\tgt_x1 = gt_box['x1']/fx\n",
        "\t\t\tgt_x2 = gt_box['x2']/fx\n",
        "\t\t\tgt_y1 = gt_box['y1']/fy\n",
        "\t\t\tgt_y2 = gt_box['y2']/fy\n",
        "\t\t\tgt_seen = gt_box['bbox_matched']\n",
        "\t\t\tif gt_class != pred_class:\n",
        "\t\t\t\tcontinue\n",
        "\t\t\tif gt_seen:\n",
        "\t\t\t\tcontinue\n",
        "\t\t\tiou_map = iou((pred_x1, pred_y1, pred_x2, pred_y2), (gt_x1, gt_y1, gt_x2, gt_y2))\n",
        "\t\t\tif (iou_map >= iou_thresh):\n",
        "\t\t\t\tfound_match = True\n",
        "\t\t\t\tgt_box['bbox_matched'] = True\n",
        "\t\t\t\tbreak\n",
        "\t\t\telse:\n",
        "\t\t\t\tcontinue\n",
        "\n",
        "\t\tT[pred_class].append(int(found_match))\n",
        "\n",
        "\tfor gt_box in gt:\n",
        "\t\tif not gt_box['bbox_matched']:# and not gt_box['difficult']:\n",
        "\t\t\tif gt_box['class'] not in P:\n",
        "\t\t\t\tP[gt_box['class']] = []\n",
        "\t\t\t\tT[gt_box['class']] = []\n",
        "\n",
        "\t\t\tT[gt_box['class']].append(1)\n",
        "\t\t\tP[gt_box['class']].append(0)\n",
        "\n",
        "\t#import pdb\n",
        "\t#pdb.set_trace()\n",
        "\treturn T, P"
      ]
    },
    {
      "cell_type": "code",
      "execution_count": null,
      "metadata": {
        "id": "7m0J2BiEqLgA"
      },
      "outputs": [],
      "source": [
        "def format_img_map(img):\n",
        "\t\"\"\"Format image for mAP. Resize original image to C.im_size (300 in here)\n",
        "\n",
        "\tArgs:\n",
        "\t\timg: cv2 image\n",
        "\t\tC: config\n",
        "\n",
        "\tReturns:\n",
        "\t\timg: Scaled and normalized image with expanding dimension\n",
        "\t\tfx: ratio for width scaling\n",
        "\t\tfy: ratio for height scaling\n",
        "\t\"\"\"\n",
        "\n",
        "\timg_min_side = float(C.im_size)\n",
        "\t(height,width,_) = img.shape\n",
        "\t\n",
        "\tif width <= height:\n",
        "\t\tf = img_min_side/width\n",
        "\t\tnew_height = int(f * height)\n",
        "\t\tnew_width = int(img_min_side)\n",
        "\telse:\n",
        "\t\tf = img_min_side/height\n",
        "\t\tnew_width = int(f * width)\n",
        "\t\tnew_height = int(img_min_side)\n",
        "\tfx = width/float(new_width)\n",
        "\tfy = height/float(new_height)\n",
        "\timg = cv2.resize(img, (new_width, new_height), interpolation=cv2.INTER_CUBIC)\n",
        "\t# Change image channel from BGR to RGB\n",
        "\timg = img[:, :, (2, 1, 0)]\n",
        "\timg = img.astype(np.float32)\n",
        "\timg[:, :, 0] -= C.img_channel_mean[0]\n",
        "\timg[:, :, 1] -= C.img_channel_mean[1]\n",
        "\timg[:, :, 2] -= C.img_channel_mean[2]\n",
        "\timg /= C.img_scaling_factor\n",
        "\t# Change img shape from (height, width, channel) to (channel, height, width)\n",
        "\timg = np.transpose(img, (2, 0, 1))\n",
        "\t# Expand one dimension at axis 0\n",
        "\t# img shape becames (1, channel, height, width)\n",
        "\timg = np.expand_dims(img, axis=0)\n",
        "\treturn img, fx, fy"
      ]
    },
    {
      "cell_type": "code",
      "execution_count": null,
      "metadata": {
        "colab": {
          "base_uri": "https://localhost:8080/"
        },
        "id": "xNUNkonDqOwg",
        "outputId": "2f7e46b5-8657-4539-cea2-6bf74fc5bed4"
      },
      "outputs": [
        {
          "output_type": "stream",
          "name": "stdout",
          "text": [
            "{1: 'bg', 0: 'yes'}\n"
          ]
        }
      ],
      "source": [
        "print(class_mapping)"
      ]
    },
    {
      "cell_type": "code",
      "execution_count": null,
      "metadata": {
        "colab": {
          "base_uri": "https://localhost:8080/"
        },
        "id": "63-8osThqSjE",
        "outputId": "3b5ae6b8-c31c-4b57-de0a-2696713d7270"
      },
      "outputs": [
        {
          "output_type": "stream",
          "name": "stdout",
          "text": [
            "Parsing annotation files\n",
            "idx=73Found class name with special name bg. Will be treated as a background region (this is usually for hard negative mining).\n",
            "idx=399"
          ]
        }
      ],
      "source": [
        "# This might takes a while to parser the data\n",
        "test_imgs, _, _ = get_data(test_path)"
      ]
    },
    {
      "cell_type": "code",
      "execution_count": null,
      "metadata": {
        "id": "RfNn-rWQsWPs"
      },
      "outputs": [],
      "source": [
        "def calc_map(iou_thresh=0.5,nms_thresh=0.9):\n",
        "  T = {}\n",
        "  P = {}\n",
        "  mAPs = []\n",
        "  bbox_threshold = 0.85\n",
        "  for idx, img_data in enumerate(test_imgs):\n",
        "      print('\\r'+'{}/{}'.format(idx,len(test_imgs)),end=\" \")\n",
        "      st = time.time()\n",
        "      filepath = img_data['filepath']\n",
        "\n",
        "      img = cv2.imread(filepath)\n",
        "\n",
        "      X, fx, fy = format_img_map(img, C)\n",
        "\n",
        "      # Change X (img) shape from (1, channel, height, width) to (1, height, width, channel)\n",
        "      X = np.transpose(X, (0, 2, 3, 1))\n",
        "\n",
        "      # get the feature maps and output from the RPN\n",
        "      [Y1, Y2, F] = model_rpn.predict(X)\n",
        "\n",
        "\n",
        "      R = rpn_to_roi(Y1, Y2, C,K.image_data_format(), overlap_thresh=nms_thresh)\n",
        "\n",
        "      # convert from (x1,y1,x2,y2) to (x,y,w,h)\n",
        "      R[:, 2] -= R[:, 0]\n",
        "      R[:, 3] -= R[:, 1]\n",
        "\n",
        "      # apply the spatial pyramid pooling to the proposed regions\n",
        "      bboxes = {}\n",
        "      probs = {}\n",
        "\n",
        "      for jk in range(R.shape[0] // C.num_rois + 1):\n",
        "          ROIs = np.expand_dims(R[C.num_rois * jk:C.num_rois * (jk + 1), :], axis=0)\n",
        "          if ROIs.shape[1] == 0:\n",
        "              break\n",
        "\n",
        "          if jk == R.shape[0] // C.num_rois:\n",
        "              # pad R\n",
        "              curr_shape = ROIs.shape\n",
        "              target_shape = (curr_shape[0], C.num_rois, curr_shape[2])\n",
        "              ROIs_padded = np.zeros(target_shape).astype(ROIs.dtype)\n",
        "              ROIs_padded[:, :curr_shape[1], :] = ROIs\n",
        "              ROIs_padded[0, curr_shape[1]:, :] = ROIs[0, 0, :]\n",
        "              ROIs = ROIs_padded\n",
        "\n",
        "          [P_cls, P_regr] = model_classifier_only.predict([F, ROIs])\n",
        "\n",
        "          # Calculate all classes' bboxes coordinates on resized image (300, 400)\n",
        "          # Drop 'bg' classes bboxes\n",
        "          for ii in range(P_cls.shape[1]):\n",
        "\n",
        "              # If class name is 'bg', continue\n",
        "              if np.max(P_cls[0, ii, :]) < bbox_threshold or np.argmax(P_cls[0, ii, :]) == (P_cls.shape[2] - 1):\n",
        "                  continue\n",
        "\n",
        "              # Get class name\n",
        "              cls_name = class_mapping[np.argmax(P_cls[0, ii, :])]\n",
        "\n",
        "              if cls_name not in bboxes:\n",
        "                  bboxes[cls_name] = []\n",
        "                  probs[cls_name] = []\n",
        "\n",
        "              (x, y, w, h) = ROIs[0, ii, :]\n",
        "\n",
        "              cls_num = np.argmax(P_cls[0, ii, :])\n",
        "              try:\n",
        "                  (tx, ty, tw, th) = P_regr[0, ii, 4 * cls_num:4 * (cls_num + 1)]\n",
        "                  tx /= C.classifier_regr_std[0]\n",
        "                  ty /= C.classifier_regr_std[1]\n",
        "                  tw /= C.classifier_regr_std[2]\n",
        "                  th /= C.classifier_regr_std[3]\n",
        "                  x, y, w, h = roi_helpers.apply_regr(x, y, w, h, tx, ty, tw, th)\n",
        "              except:\n",
        "                  pass\n",
        "              bboxes[cls_name].append([16 * x, 16 * y, 16 * (x + w), 16 * (y + h)])\n",
        "              probs[cls_name].append(np.max(P_cls[0, ii, :]))\n",
        "\n",
        "      all_dets = []\n",
        "\n",
        "      for key in bboxes:\n",
        "          bbox = np.array(bboxes[key])\n",
        "\n",
        "          # Apply non-max-suppression on final bboxes to get the output bounding boxe\n",
        "          new_boxes, new_probs = non_max_suppression_fast(bbox, np.array(probs[key]), overlap_thresh=0.01)\n",
        "          for jk in range(new_boxes.shape[0]):\n",
        "              (x1, y1, x2, y2) = new_boxes[jk, :]\n",
        "              det = {'x1': x1, 'x2': x2, 'y1': y1, 'y2': y2, 'class': key, 'prob': new_probs[jk]}\n",
        "              all_dets.append(det)\n",
        "\n",
        "\n",
        "      #print('Elapsed time = {}'.format(time.time() - st))\n",
        "      t, p = get_map(all_dets, img_data['bboxes'], (fx, fy),iou_thresh)\n",
        "      for key in t.keys():\n",
        "          if key not in T:\n",
        "              T[key] = []\n",
        "              P[key] = []\n",
        "          T[key].extend(t[key])\n",
        "          P[key].extend(p[key])\n",
        "      all_aps = []\n",
        "      for key in T.keys():\n",
        "          ap = average_precision_score(T[key], P[key])\n",
        "          #print('{} AP: {}'.format(key, ap))\n",
        "          all_aps.append(ap)\n",
        "      #print('mAP = {}'.format(np.mean(np.array(all_aps))))\n",
        "      mAPs.append(np.mean(np.array(all_aps)))\n",
        "      #print(T)\n",
        "      #print(P)\n",
        "      \n",
        "  print('with iou_thresh : ', iou_thresh)\n",
        "  print('mean average precision:', np.mean(np.array(mAPs)))\n",
        "  mAP = [mAP for mAP in mAPs if str(mAP)!='nan']\n",
        "  mean_average_prec = round(np.mean(np.array(mAP)), 3)\n",
        "  print('After training %dk batches, the mean average precision is %0.3f'%(len(record_df), mean_average_prec))"
      ]
    },
    {
      "cell_type": "code",
      "execution_count": null,
      "metadata": {
        "colab": {
          "base_uri": "https://localhost:8080/",
          "height": 414
        },
        "id": "8T1ECJFtu9l2",
        "outputId": "d4c98bd9-aba2-48a3-c1f9-0e8382cf3f51"
      },
      "outputs": [
        {
          "output_type": "stream",
          "name": "stdout",
          "text": [
            "397/398 with iou_thresh :  0.5\n",
            "mean average precision: 0.47142518243388526\n",
            "After training 29k batches, the mean average precision is 0.471\n",
            "81/398 "
          ]
        },
        {
          "output_type": "error",
          "ename": "KeyboardInterrupt",
          "evalue": "ignored",
          "traceback": [
            "\u001b[0;31m---------------------------------------------------------------------------\u001b[0m",
            "\u001b[0;31mKeyboardInterrupt\u001b[0m                         Traceback (most recent call last)",
            "\u001b[0;32m<ipython-input-37-78542b03ae5a>\u001b[0m in \u001b[0;36m<module>\u001b[0;34m()\u001b[0m\n\u001b[1;32m      1\u001b[0m \u001b[0mlist_iou_thresh\u001b[0m \u001b[0;34m=\u001b[0m \u001b[0;34m[\u001b[0m\u001b[0;36m0.5\u001b[0m\u001b[0;34m,\u001b[0m\u001b[0;36m0.7\u001b[0m\u001b[0;34m,\u001b[0m\u001b[0;36m0.95\u001b[0m\u001b[0;34m]\u001b[0m\u001b[0;34m\u001b[0m\u001b[0;34m\u001b[0m\u001b[0m\n\u001b[1;32m      2\u001b[0m \u001b[0;32mfor\u001b[0m \u001b[0miou_value\u001b[0m \u001b[0;32min\u001b[0m \u001b[0mlist_iou_thresh\u001b[0m\u001b[0;34m:\u001b[0m\u001b[0;34m\u001b[0m\u001b[0;34m\u001b[0m\u001b[0m\n\u001b[0;32m----> 3\u001b[0;31m   \u001b[0mcalc_map\u001b[0m\u001b[0;34m(\u001b[0m\u001b[0miou_value\u001b[0m\u001b[0;34m)\u001b[0m\u001b[0;34m\u001b[0m\u001b[0;34m\u001b[0m\u001b[0m\n\u001b[0m",
            "\u001b[0;32m<ipython-input-36-f52b5412a30a>\u001b[0m in \u001b[0;36mcalc_map\u001b[0;34m(iou_thresh, nms_thresh)\u001b[0m\n\u001b[1;32m     44\u001b[0m               \u001b[0mROIs\u001b[0m \u001b[0;34m=\u001b[0m \u001b[0mROIs_padded\u001b[0m\u001b[0;34m\u001b[0m\u001b[0;34m\u001b[0m\u001b[0m\n\u001b[1;32m     45\u001b[0m \u001b[0;34m\u001b[0m\u001b[0m\n\u001b[0;32m---> 46\u001b[0;31m           \u001b[0;34m[\u001b[0m\u001b[0mP_cls\u001b[0m\u001b[0;34m,\u001b[0m \u001b[0mP_regr\u001b[0m\u001b[0;34m]\u001b[0m \u001b[0;34m=\u001b[0m \u001b[0mmodel_classifier_only\u001b[0m\u001b[0;34m.\u001b[0m\u001b[0mpredict\u001b[0m\u001b[0;34m(\u001b[0m\u001b[0;34m[\u001b[0m\u001b[0mF\u001b[0m\u001b[0;34m,\u001b[0m \u001b[0mROIs\u001b[0m\u001b[0;34m]\u001b[0m\u001b[0;34m)\u001b[0m\u001b[0;34m\u001b[0m\u001b[0;34m\u001b[0m\u001b[0m\n\u001b[0m\u001b[1;32m     47\u001b[0m \u001b[0;34m\u001b[0m\u001b[0m\n\u001b[1;32m     48\u001b[0m           \u001b[0;31m# Calculate all classes' bboxes coordinates on resized image (300, 400)\u001b[0m\u001b[0;34m\u001b[0m\u001b[0;34m\u001b[0m\u001b[0;34m\u001b[0m\u001b[0m\n",
            "\u001b[0;32m/usr/local/lib/python3.7/dist-packages/keras/utils/traceback_utils.py\u001b[0m in \u001b[0;36merror_handler\u001b[0;34m(*args, **kwargs)\u001b[0m\n\u001b[1;32m     62\u001b[0m     \u001b[0mfiltered_tb\u001b[0m \u001b[0;34m=\u001b[0m \u001b[0;32mNone\u001b[0m\u001b[0;34m\u001b[0m\u001b[0;34m\u001b[0m\u001b[0m\n\u001b[1;32m     63\u001b[0m     \u001b[0;32mtry\u001b[0m\u001b[0;34m:\u001b[0m\u001b[0;34m\u001b[0m\u001b[0;34m\u001b[0m\u001b[0m\n\u001b[0;32m---> 64\u001b[0;31m       \u001b[0;32mreturn\u001b[0m \u001b[0mfn\u001b[0m\u001b[0;34m(\u001b[0m\u001b[0;34m*\u001b[0m\u001b[0margs\u001b[0m\u001b[0;34m,\u001b[0m \u001b[0;34m**\u001b[0m\u001b[0mkwargs\u001b[0m\u001b[0;34m)\u001b[0m\u001b[0;34m\u001b[0m\u001b[0;34m\u001b[0m\u001b[0m\n\u001b[0m\u001b[1;32m     65\u001b[0m     \u001b[0;32mexcept\u001b[0m \u001b[0mException\u001b[0m \u001b[0;32mas\u001b[0m \u001b[0me\u001b[0m\u001b[0;34m:\u001b[0m  \u001b[0;31m# pylint: disable=broad-except\u001b[0m\u001b[0;34m\u001b[0m\u001b[0;34m\u001b[0m\u001b[0m\n\u001b[1;32m     66\u001b[0m       \u001b[0mfiltered_tb\u001b[0m \u001b[0;34m=\u001b[0m \u001b[0m_process_traceback_frames\u001b[0m\u001b[0;34m(\u001b[0m\u001b[0me\u001b[0m\u001b[0;34m.\u001b[0m\u001b[0m__traceback__\u001b[0m\u001b[0;34m)\u001b[0m\u001b[0;34m\u001b[0m\u001b[0;34m\u001b[0m\u001b[0m\n",
            "\u001b[0;32m/usr/local/lib/python3.7/dist-packages/keras/engine/training.py\u001b[0m in \u001b[0;36mpredict\u001b[0;34m(self, x, batch_size, verbose, steps, callbacks, max_queue_size, workers, use_multiprocessing)\u001b[0m\n\u001b[1;32m   1783\u001b[0m       \u001b[0mcallbacks\u001b[0m\u001b[0;34m.\u001b[0m\u001b[0mon_predict_begin\u001b[0m\u001b[0;34m(\u001b[0m\u001b[0;34m)\u001b[0m\u001b[0;34m\u001b[0m\u001b[0;34m\u001b[0m\u001b[0m\n\u001b[1;32m   1784\u001b[0m       \u001b[0mbatch_outputs\u001b[0m \u001b[0;34m=\u001b[0m \u001b[0;32mNone\u001b[0m\u001b[0;34m\u001b[0m\u001b[0;34m\u001b[0m\u001b[0m\n\u001b[0;32m-> 1785\u001b[0;31m       \u001b[0;32mfor\u001b[0m \u001b[0m_\u001b[0m\u001b[0;34m,\u001b[0m \u001b[0miterator\u001b[0m \u001b[0;32min\u001b[0m \u001b[0mdata_handler\u001b[0m\u001b[0;34m.\u001b[0m\u001b[0menumerate_epochs\u001b[0m\u001b[0;34m(\u001b[0m\u001b[0;34m)\u001b[0m\u001b[0;34m:\u001b[0m  \u001b[0;31m# Single epoch.\u001b[0m\u001b[0;34m\u001b[0m\u001b[0;34m\u001b[0m\u001b[0m\n\u001b[0m\u001b[1;32m   1786\u001b[0m         \u001b[0;32mwith\u001b[0m \u001b[0mdata_handler\u001b[0m\u001b[0;34m.\u001b[0m\u001b[0mcatch_stop_iteration\u001b[0m\u001b[0;34m(\u001b[0m\u001b[0;34m)\u001b[0m\u001b[0;34m:\u001b[0m\u001b[0;34m\u001b[0m\u001b[0;34m\u001b[0m\u001b[0m\n\u001b[1;32m   1787\u001b[0m           \u001b[0;32mfor\u001b[0m \u001b[0mstep\u001b[0m \u001b[0;32min\u001b[0m \u001b[0mdata_handler\u001b[0m\u001b[0;34m.\u001b[0m\u001b[0msteps\u001b[0m\u001b[0;34m(\u001b[0m\u001b[0;34m)\u001b[0m\u001b[0;34m:\u001b[0m\u001b[0;34m\u001b[0m\u001b[0;34m\u001b[0m\u001b[0m\n",
            "\u001b[0;32m/usr/local/lib/python3.7/dist-packages/keras/engine/data_adapter.py\u001b[0m in \u001b[0;36menumerate_epochs\u001b[0;34m(self)\u001b[0m\n\u001b[1;32m   1193\u001b[0m     \u001b[0;34m\"\"\"Yields `(epoch, tf.data.Iterator)`.\"\"\"\u001b[0m\u001b[0;34m\u001b[0m\u001b[0;34m\u001b[0m\u001b[0m\n\u001b[1;32m   1194\u001b[0m     \u001b[0;32mwith\u001b[0m \u001b[0mself\u001b[0m\u001b[0;34m.\u001b[0m\u001b[0m_truncate_execution_to_epoch\u001b[0m\u001b[0;34m(\u001b[0m\u001b[0;34m)\u001b[0m\u001b[0;34m:\u001b[0m\u001b[0;34m\u001b[0m\u001b[0;34m\u001b[0m\u001b[0m\n\u001b[0;32m-> 1195\u001b[0;31m       \u001b[0mdata_iterator\u001b[0m \u001b[0;34m=\u001b[0m \u001b[0miter\u001b[0m\u001b[0;34m(\u001b[0m\u001b[0mself\u001b[0m\u001b[0;34m.\u001b[0m\u001b[0m_dataset\u001b[0m\u001b[0;34m)\u001b[0m\u001b[0;34m\u001b[0m\u001b[0;34m\u001b[0m\u001b[0m\n\u001b[0m\u001b[1;32m   1196\u001b[0m       \u001b[0;32mfor\u001b[0m \u001b[0mepoch\u001b[0m \u001b[0;32min\u001b[0m \u001b[0mrange\u001b[0m\u001b[0;34m(\u001b[0m\u001b[0mself\u001b[0m\u001b[0;34m.\u001b[0m\u001b[0m_initial_epoch\u001b[0m\u001b[0;34m,\u001b[0m \u001b[0mself\u001b[0m\u001b[0;34m.\u001b[0m\u001b[0m_epochs\u001b[0m\u001b[0;34m)\u001b[0m\u001b[0;34m:\u001b[0m\u001b[0;34m\u001b[0m\u001b[0;34m\u001b[0m\u001b[0m\n\u001b[1;32m   1197\u001b[0m         \u001b[0;32mif\u001b[0m \u001b[0mself\u001b[0m\u001b[0;34m.\u001b[0m\u001b[0m_insufficient_data\u001b[0m\u001b[0;34m:\u001b[0m  \u001b[0;31m# Set by `catch_stop_iteration`.\u001b[0m\u001b[0;34m\u001b[0m\u001b[0;34m\u001b[0m\u001b[0m\n",
            "\u001b[0;32m/usr/local/lib/python3.7/dist-packages/tensorflow/python/data/ops/dataset_ops.py\u001b[0m in \u001b[0;36m__iter__\u001b[0;34m(self)\u001b[0m\n\u001b[1;32m    488\u001b[0m     \u001b[0;32mif\u001b[0m \u001b[0mcontext\u001b[0m\u001b[0;34m.\u001b[0m\u001b[0mexecuting_eagerly\u001b[0m\u001b[0;34m(\u001b[0m\u001b[0;34m)\u001b[0m \u001b[0;32mor\u001b[0m \u001b[0mops\u001b[0m\u001b[0;34m.\u001b[0m\u001b[0minside_function\u001b[0m\u001b[0;34m(\u001b[0m\u001b[0;34m)\u001b[0m\u001b[0;34m:\u001b[0m\u001b[0;34m\u001b[0m\u001b[0;34m\u001b[0m\u001b[0m\n\u001b[1;32m    489\u001b[0m       \u001b[0;32mwith\u001b[0m \u001b[0mops\u001b[0m\u001b[0;34m.\u001b[0m\u001b[0mcolocate_with\u001b[0m\u001b[0;34m(\u001b[0m\u001b[0mself\u001b[0m\u001b[0;34m.\u001b[0m\u001b[0m_variant_tensor\u001b[0m\u001b[0;34m)\u001b[0m\u001b[0;34m:\u001b[0m\u001b[0;34m\u001b[0m\u001b[0;34m\u001b[0m\u001b[0m\n\u001b[0;32m--> 490\u001b[0;31m         \u001b[0;32mreturn\u001b[0m \u001b[0miterator_ops\u001b[0m\u001b[0;34m.\u001b[0m\u001b[0mOwnedIterator\u001b[0m\u001b[0;34m(\u001b[0m\u001b[0mself\u001b[0m\u001b[0;34m)\u001b[0m\u001b[0;34m\u001b[0m\u001b[0;34m\u001b[0m\u001b[0m\n\u001b[0m\u001b[1;32m    491\u001b[0m     \u001b[0;32melse\u001b[0m\u001b[0;34m:\u001b[0m\u001b[0;34m\u001b[0m\u001b[0;34m\u001b[0m\u001b[0m\n\u001b[1;32m    492\u001b[0m       raise RuntimeError(\"`tf.data.Dataset` only supports Python-style \"\n",
            "\u001b[0;32m/usr/local/lib/python3.7/dist-packages/tensorflow/python/data/ops/iterator_ops.py\u001b[0m in \u001b[0;36m__init__\u001b[0;34m(self, dataset, components, element_spec)\u001b[0m\n\u001b[1;32m    724\u001b[0m             \u001b[0;34m\"When `dataset` is provided, `element_spec` and `components` must \"\u001b[0m\u001b[0;34m\u001b[0m\u001b[0;34m\u001b[0m\u001b[0m\n\u001b[1;32m    725\u001b[0m             \"not be specified.\")\n\u001b[0;32m--> 726\u001b[0;31m       \u001b[0mself\u001b[0m\u001b[0;34m.\u001b[0m\u001b[0m_create_iterator\u001b[0m\u001b[0;34m(\u001b[0m\u001b[0mdataset\u001b[0m\u001b[0;34m)\u001b[0m\u001b[0;34m\u001b[0m\u001b[0;34m\u001b[0m\u001b[0m\n\u001b[0m\u001b[1;32m    727\u001b[0m \u001b[0;34m\u001b[0m\u001b[0m\n\u001b[1;32m    728\u001b[0m     \u001b[0mself\u001b[0m\u001b[0;34m.\u001b[0m\u001b[0m_get_next_call_count\u001b[0m \u001b[0;34m=\u001b[0m \u001b[0;36m0\u001b[0m\u001b[0;34m\u001b[0m\u001b[0;34m\u001b[0m\u001b[0m\n",
            "\u001b[0;32m/usr/local/lib/python3.7/dist-packages/tensorflow/python/data/ops/iterator_ops.py\u001b[0m in \u001b[0;36m_create_iterator\u001b[0;34m(self, dataset)\u001b[0m\n\u001b[1;32m    749\u001b[0m               \u001b[0moutput_types\u001b[0m\u001b[0;34m=\u001b[0m\u001b[0mself\u001b[0m\u001b[0;34m.\u001b[0m\u001b[0m_flat_output_types\u001b[0m\u001b[0;34m,\u001b[0m\u001b[0;34m\u001b[0m\u001b[0;34m\u001b[0m\u001b[0m\n\u001b[1;32m    750\u001b[0m               output_shapes=self._flat_output_shapes))\n\u001b[0;32m--> 751\u001b[0;31m       \u001b[0mgen_dataset_ops\u001b[0m\u001b[0;34m.\u001b[0m\u001b[0mmake_iterator\u001b[0m\u001b[0;34m(\u001b[0m\u001b[0mds_variant\u001b[0m\u001b[0;34m,\u001b[0m \u001b[0mself\u001b[0m\u001b[0;34m.\u001b[0m\u001b[0m_iterator_resource\u001b[0m\u001b[0;34m)\u001b[0m\u001b[0;34m\u001b[0m\u001b[0;34m\u001b[0m\u001b[0m\n\u001b[0m\u001b[1;32m    752\u001b[0m       \u001b[0;31m# Delete the resource when this object is deleted\u001b[0m\u001b[0;34m\u001b[0m\u001b[0;34m\u001b[0m\u001b[0;34m\u001b[0m\u001b[0m\n\u001b[1;32m    753\u001b[0m       self._resource_deleter = IteratorResourceDeleter(\n",
            "\u001b[0;32m/usr/local/lib/python3.7/dist-packages/tensorflow/python/ops/gen_dataset_ops.py\u001b[0m in \u001b[0;36mmake_iterator\u001b[0;34m(dataset, iterator, name)\u001b[0m\n\u001b[1;32m   3236\u001b[0m     \u001b[0;32mtry\u001b[0m\u001b[0;34m:\u001b[0m\u001b[0;34m\u001b[0m\u001b[0;34m\u001b[0m\u001b[0m\n\u001b[1;32m   3237\u001b[0m       _result = pywrap_tfe.TFE_Py_FastPathExecute(\n\u001b[0;32m-> 3238\u001b[0;31m         _ctx, \"MakeIterator\", name, dataset, iterator)\n\u001b[0m\u001b[1;32m   3239\u001b[0m       \u001b[0;32mreturn\u001b[0m \u001b[0m_result\u001b[0m\u001b[0;34m\u001b[0m\u001b[0;34m\u001b[0m\u001b[0m\n\u001b[1;32m   3240\u001b[0m     \u001b[0;32mexcept\u001b[0m \u001b[0m_core\u001b[0m\u001b[0;34m.\u001b[0m\u001b[0m_NotOkStatusException\u001b[0m \u001b[0;32mas\u001b[0m \u001b[0me\u001b[0m\u001b[0;34m:\u001b[0m\u001b[0;34m\u001b[0m\u001b[0;34m\u001b[0m\u001b[0m\n",
            "\u001b[0;31mKeyboardInterrupt\u001b[0m: "
          ]
        }
      ],
      "source": [
        "list_iou_thresh = [0.5,0.7,0.95]\n",
        "for iou_value in list_iou_thresh:\n",
        "  calc_map(iou_value)"
      ]
    },
    {
      "cell_type": "markdown",
      "metadata": {
        "id": "yjqCz2iRUaUS"
      },
      "source": [
        "#### check 150 picture first"
      ]
    },
    {
      "cell_type": "code",
      "execution_count": null,
      "metadata": {
        "colab": {
          "base_uri": "https://localhost:8080/"
        },
        "id": "yLrF_sMQIRPR",
        "outputId": "03fc9855-17a4-4ad0-e270-15cca2eccc1d"
      },
      "outputs": [
        {
          "name": "stdout",
          "output_type": "stream",
          "text": [
            "Loading weights from /content/drive/MyDrive/nine_dash_lines/Model/model_frcnn_NotPreprocessingData.hdf5\n"
          ]
        }
      ],
      "source": [
        "num_features = 512\n",
        "\n",
        "input_shape_img = (None, None, 3)\n",
        "input_shape_features = (None, None, num_features)\n",
        "\n",
        "img_input = Input(shape=input_shape_img)\n",
        "roi_input = Input(shape=(C.num_rois, 4))\n",
        "feature_map_input = Input(shape=input_shape_features)\n",
        "\n",
        "# define the base network (VGG here, can be Resnet50, Inception, etc)\n",
        "shared_layers = nn_base(img_input, trainable=True)\n",
        "\n",
        "# define the RPN, built on the base layers\n",
        "num_anchors = len(C.anchor_box_scales) * len(C.anchor_box_ratios)\n",
        "rpn_layers = rpn_layer(shared_layers, num_anchors)\n",
        "\n",
        "classifier = classifier_layer(feature_map_input, roi_input, C.num_rois, nb_classes=len(C.class_mapping))\n",
        "\n",
        "model_rpn = Model(img_input, rpn_layers)\n",
        "model_classifier_only = Model([feature_map_input, roi_input], classifier)\n",
        "\n",
        "model_classifier = Model([feature_map_input, roi_input], classifier)\n",
        "\n",
        "print('Loading weights from {}'.format(C.model_path))\n",
        "model_rpn.load_weights(C.model_path, by_name=True)\n",
        "model_classifier.load_weights(C.model_path, by_name=True)\n",
        "\n",
        "model_rpn.compile(optimizer='sgd', loss='mse')\n",
        "model_classifier.compile(optimizer='sgd', loss='mse')"
      ]
    },
    {
      "cell_type": "code",
      "execution_count": null,
      "metadata": {
        "colab": {
          "base_uri": "https://localhost:8080/"
        },
        "id": "oMGXOYQbK_Rx",
        "outputId": "91762ffd-4ec7-4a9b-8a6d-439e2743e1ae"
      },
      "outputs": [
        {
          "name": "stdout",
          "output_type": "stream",
          "text": [
            "{1: 'bg', 0: 'yes'}\n"
          ]
        }
      ],
      "source": [
        "# Switch key value for class mapping\n",
        "class_mapping = C.class_mapping\n",
        "class_mapping = {v: k for k, v in class_mapping.items()}\n",
        "print(class_mapping)\n",
        "class_to_color = {class_mapping[v]: np.random.randint(0, 255, 3) for v in class_mapping}"
      ]
    },
    {
      "cell_type": "code",
      "execution_count": null,
      "metadata": {
        "colab": {
          "base_uri": "https://localhost:8080/"
        },
        "id": "pfYk-7TL3gHs",
        "outputId": "7e90d819-4b30-4245-f295-f09d05cebd8e"
      },
      "outputs": [
        {
          "name": "stdout",
          "output_type": "stream",
          "text": [
            "Parsing annotation files\n",
            "idx=73Found class name with special name bg. Will be treated as a background region (this is usually for hard negative mining).\n",
            "idx=399"
          ]
        }
      ],
      "source": [
        "# This might takes a while to parser the data\n",
        "imgs_path, _, _ = get_data(test_path)"
      ]
    },
    {
      "cell_type": "code",
      "execution_count": null,
      "metadata": {
        "id": "cX5OTM5Ppl0W"
      },
      "outputs": [],
      "source": [
        "# test_imgs = os.listdir(test_base_path)\n",
        "\n",
        "# imgs_path = []\n",
        "# for i in range(12):\n",
        "# \tidx = np.random.randint(len(test_imgs))\n",
        "# \timgs_path.append(test_imgs[idx])\n",
        "\n",
        "# all_imgs = []\n",
        "\n",
        "# classes = {}"
      ]
    },
    {
      "cell_type": "code",
      "execution_count": null,
      "metadata": {
        "id": "lChm3e9WIijw"
      },
      "outputs": [],
      "source": [
        "# If the box classification value is less than this, we ignore this box\n",
        "bbox_threshold = 0.75\n",
        "\n",
        "for idx, img_data in enumerate(imgs_path):\n",
        "    # if not img_name.lower().endswith(('.bmp', '.jpeg', '.jpg', '.png', '.tif', '.tiff')):\n",
        "    #     continue\n",
        "    if idx == 150:\n",
        "        break\n",
        "    st = time.time()\n",
        "    # filepath = os.path.join(test_base_path, img_name)\n",
        "    filepath = img_data['filepath']\n",
        "\n",
        "    img = cv2.imread(filepath)\n",
        "\n",
        "    X, ratio = format_img(img, C)\n",
        "    \n",
        "    X = np.transpose(X, (0, 2, 3, 1))\n",
        "\n",
        "    # get output layer Y1, Y2 from the RPN and the feature maps F\n",
        "    # Y1: y_rpn_cls\n",
        "    # Y2: y_rpn_regr\n",
        "    [Y1, Y2, F] = model_rpn.predict(X)\n",
        "\n",
        "    # Get bboxes by applying NMS \n",
        "    # R.shape = (300, 4)\n",
        "    R = rpn_to_roi(Y1, Y2, C, K.image_data_format(), overlap_thresh=0.5)\n",
        "\n",
        "    # convert from (x1,y1,x2,y2) to (x,y,w,h)\n",
        "    R[:, 2] -= R[:, 0]\n",
        "    R[:, 3] -= R[:, 1]\n",
        "\n",
        "    # apply the spatial pyramid pooling to the proposed regions\n",
        "    bboxes = {}\n",
        "    probs = {}\n",
        "\n",
        "    for jk in range(R.shape[0]//C.num_rois + 1):\n",
        "        ROIs = np.expand_dims(R[C.num_rois*jk:C.num_rois*(jk+1), :], axis=0)\n",
        "        if ROIs.shape[1] == 0:\n",
        "            break\n",
        "\n",
        "        if jk == R.shape[0]//C.num_rois:\n",
        "            #pad R\n",
        "            curr_shape = ROIs.shape\n",
        "            target_shape = (curr_shape[0],C.num_rois,curr_shape[2])\n",
        "            ROIs_padded = np.zeros(target_shape).astype(ROIs.dtype)\n",
        "            ROIs_padded[:, :curr_shape[1], :] = ROIs\n",
        "            ROIs_padded[0, curr_shape[1]:, :] = ROIs[0, 0, :]\n",
        "            ROIs = ROIs_padded\n",
        "\n",
        "        [P_cls, P_regr] = model_classifier_only.predict([F, ROIs])\n",
        "\n",
        "        # Calculate bboxes coordinates on resized image\n",
        "        for ii in range(P_cls.shape[1]):\n",
        "            # Ignore 'bg' class\n",
        "            if np.max(P_cls[0, ii, :]) < bbox_threshold or np.argmax(P_cls[0, ii, :]) == (P_cls.shape[2] - 1):\n",
        "                continue\n",
        "\n",
        "            cls_name = class_mapping[np.argmax(P_cls[0, ii, :])]\n",
        "\n",
        "            if cls_name not in bboxes:\n",
        "                bboxes[cls_name] = []\n",
        "                probs[cls_name] = []\n",
        "\n",
        "            (x, y, w, h) = ROIs[0, ii, :]\n",
        "\n",
        "            cls_num = np.argmax(P_cls[0, ii, :])\n",
        "            try:\n",
        "                (tx, ty, tw, th) = P_regr[0, ii, 4*cls_num:4*(cls_num+1)]\n",
        "                tx /= C.classifier_regr_std[0]\n",
        "                ty /= C.classifier_regr_std[1]\n",
        "                tw /= C.classifier_regr_std[2]\n",
        "                th /= C.classifier_regr_std[3]\n",
        "                x, y, w, h = apply_regr(x, y, w, h, tx, ty, tw, th)\n",
        "            except:\n",
        "                pass\n",
        "            bboxes[cls_name].append([C.rpn_stride*x, C.rpn_stride*y, C.rpn_stride*(x+w), C.rpn_stride*(y+h)])\n",
        "            probs[cls_name].append(np.max(P_cls[0, ii, :]))\n",
        "\n",
        "    all_dets = []\n",
        "\n",
        "    for key in bboxes:\n",
        "        bbox = np.array(bboxes[key])\n",
        "\n",
        "        new_boxes, new_probs = non_max_suppression_fast(bbox, np.array(probs[key]), overlap_thresh=0.01)\n",
        "        for jk in range(new_boxes.shape[0]):\n",
        "            (x1, y1, x2, y2) = new_boxes[jk,:]\n",
        "\n",
        "            # Calculate real coordinates on original image\n",
        "            (real_x1, real_y1, real_x2, real_y2) = get_real_coordinates(ratio, x1, y1, x2, y2)\n",
        "\n",
        "            cv2.rectangle(img,(real_x1, real_y1), (real_x2, real_y2), (int(class_to_color[key][0]), int(class_to_color[key][1]), int(class_to_color[key][2])),4)\n",
        "\n",
        "            textLabel = '{}: {}'.format(key,int(100*new_probs[jk]))\n",
        "            all_dets.append((key,100*new_probs[jk]))\n",
        "\n",
        "            (retval,baseLine) = cv2.getTextSize(textLabel,cv2.FONT_HERSHEY_COMPLEX,1,1)\n",
        "            textOrg = (real_x1, real_y1-0)\n",
        "\n",
        "            cv2.rectangle(img, (textOrg[0] - 5, textOrg[1]+baseLine - 5), (textOrg[0]+retval[0] + 5, textOrg[1]-retval[1] - 5), (0, 0, 0), 1)\n",
        "            cv2.rectangle(img, (textOrg[0] - 5,textOrg[1]+baseLine - 5), (textOrg[0]+retval[0] + 5, textOrg[1]-retval[1] - 5), (255, 255, 255), -1)\n",
        "            cv2.putText(img, textLabel, textOrg, cv2.FONT_HERSHEY_DUPLEX, 1, (0, 0, 0), 1)\n",
        "\n",
        "    print('Elapsed time = {}'.format(time.time() - st))\n",
        "    print(all_dets)\n",
        "    plt.figure(figsize=(10,10))\n",
        "    plt.grid()\n",
        "    plt.imshow(cv2.cvtColor(img,cv2.COLOR_BGR2RGB))\n",
        "    plt.show()"
      ]
    },
    {
      "cell_type": "markdown",
      "metadata": {
        "id": "kezk5fGkVwhN"
      },
      "source": [
        "#### Detection 1 img"
      ]
    },
    {
      "cell_type": "code",
      "execution_count": null,
      "metadata": {
        "id": "ee5k0t_Nf1PR"
      },
      "outputs": [],
      "source": [
        "filepath = '/content/image_2021-12-15_190744.png'"
      ]
    },
    {
      "cell_type": "code",
      "execution_count": null,
      "metadata": {
        "id": "zx__k0qnewDy",
        "colab": {
          "base_uri": "https://localhost:8080/",
          "height": 438
        },
        "outputId": "ecf03c1e-e364-406b-ef74-7ca375faf5ff"
      },
      "outputs": [
        {
          "output_type": "stream",
          "name": "stdout",
          "text": [
            "[('yes', 99.75948929786682), ('yes', 96.09553813934326)]\n"
          ]
        },
        {
          "output_type": "display_data",
          "data": {
            "image/png": "[encoded data removed]",
            "text/plain": [
              "<Figure size 720x720 with 1 Axes>"
            ]
          },
          "metadata": {
            "needs_background": "light"
          }
        }
      ],
      "source": [
        "bbox_threshold = 0.85\n",
        "img = cv2.imread(filepath)\n",
        "\n",
        "X, ratio = format_img(img, C)\n",
        "    \n",
        "X = np.transpose(X, (0, 2, 3, 1))\n",
        "\n",
        "# get output layer Y1, Y2 from the RPN and the feature maps F\n",
        "# Y1: y_rpn_cls\n",
        "# Y2: y_rpn_regr\n",
        "[Y1, Y2, F] = model_rpn.predict(X)\n",
        "\n",
        "# Get bboxes by applying NMS \n",
        "# R.shape = (300, 4)\n",
        "R = rpn_to_roi(Y1, Y2, C, K.image_data_format(), overlap_thresh=1)\n",
        "\n",
        "# convert from (x1,y1,x2,y2) to (x,y,w,h)\n",
        "R[:, 2] -= R[:, 0]\n",
        "R[:, 3] -= R[:, 1]\n",
        "\n",
        "# apply the spatial pyramid pooling to the proposed regions\n",
        "bboxes = {}\n",
        "probs = {}\n",
        "\n",
        "for jk in range(R.shape[0]//C.num_rois + 1):\n",
        "  ROIs = np.expand_dims(R[C.num_rois*jk:C.num_rois*(jk+1), :], axis=0)\n",
        "  if ROIs.shape[1] == 0:\n",
        "    break\n",
        "\n",
        "  if jk == R.shape[0]//C.num_rois:\n",
        "    #pad R\n",
        "    curr_shape = ROIs.shape\n",
        "    target_shape = (curr_shape[0],C.num_rois,curr_shape[2])\n",
        "    ROIs_padded = np.zeros(target_shape).astype(ROIs.dtype)\n",
        "    ROIs_padded[:, :curr_shape[1], :] = ROIs\n",
        "    ROIs_padded[0, curr_shape[1]:, :] = ROIs[0, 0, :]\n",
        "    ROIs = ROIs_padded\n",
        "\n",
        "  [P_cls, P_regr] = model_classifier_only.predict([F, ROIs])\n",
        "\n",
        "  # Calculate bboxes coordinates on resized image\n",
        "  for ii in range(P_cls.shape[1]):\n",
        "  # Ignore 'bg' class\n",
        "    if np.max(P_cls[0, ii, :]) < bbox_threshold or np.argmax(P_cls[0, ii, :]) == (P_cls.shape[2] - 1):\n",
        "      continue\n",
        "\n",
        "    cls_name = class_mapping[np.argmax(P_cls[0, ii, :])]\n",
        "\n",
        "    if cls_name not in bboxes:\n",
        "      bboxes[cls_name] = []\n",
        "      probs[cls_name] = []\n",
        "\n",
        "    (x, y, w, h) = ROIs[0, ii, :]\n",
        "    cls_num = np.argmax(P_cls[0, ii, :])\n",
        "    try:\n",
        "      (tx, ty, tw, th) = P_regr[0, ii, 4*cls_num:4*(cls_num+1)]\n",
        "      tx /= C.classifier_regr_std[0]\n",
        "      ty /= C.classifier_regr_std[1]\n",
        "      tw /= C.classifier_regr_std[2]\n",
        "      th /= C.classifier_regr_std[3]\n",
        "      x, y, w, h = apply_regr(x, y, w, h, tx, ty, tw, th)\n",
        "    except:\n",
        "      pass\n",
        "    bboxes[cls_name].append([C.rpn_stride*x, C.rpn_stride*y, C.rpn_stride*(x+w), C.rpn_stride*(y+h)])\n",
        "    probs[cls_name].append(np.max(P_cls[0, ii, :]))\n",
        "\n",
        "all_dets = []\n",
        "\n",
        "for key in bboxes:\n",
        "  bbox = np.array(bboxes[key])\n",
        "\n",
        "  new_boxes, new_probs = non_max_suppression_fast(bbox, np.array(probs[key]), overlap_thresh=0.01)\n",
        "  for jk in range(new_boxes.shape[0]):\n",
        "    (x1, y1, x2, y2) = new_boxes[jk,:]\n",
        "    # Calculate real coordinates on original image\n",
        "    (real_x1, real_y1, real_x2, real_y2) = get_real_coordinates(ratio, x1, y1, x2, y2)\n",
        "\n",
        "    cv2.rectangle(img,(real_x1, real_y1), (real_x2, real_y2), (int(class_to_color[key][0]), int(class_to_color[key][1]), int(class_to_color[key][2])),4)\n",
        "\n",
        "    textLabel = '{}: {}'.format(key,int(100*new_probs[jk]))\n",
        "    all_dets.append((key,100*new_probs[jk]))\n",
        "\n",
        "    (retval,baseLine) = cv2.getTextSize(textLabel,cv2.FONT_HERSHEY_COMPLEX,1,1)\n",
        "    textOrg = (real_x1, real_y1-0)\n",
        "\n",
        "    cv2.rectangle(img, (textOrg[0] - 5, textOrg[1]+baseLine - 5), (textOrg[0]+retval[0] + 5, textOrg[1]-retval[1] - 5), (0, 0, 0), 1)\n",
        "    cv2.rectangle(img, (textOrg[0] - 5,textOrg[1]+baseLine - 5), (textOrg[0]+retval[0] + 5, textOrg[1]-retval[1] - 5), (255, 255, 255), -1)\n",
        "    \n",
        "    cv2.putText(img, textLabel, textOrg, cv2.FONT_HERSHEY_DUPLEX, 1, (0, 0, 0), 1)\n",
        "\n",
        "print(all_dets)\n",
        "plt.figure(figsize=(10,10))\n",
        "plt.grid()\n",
        "plt.imshow(cv2.cvtColor(img,cv2.COLOR_BGR2RGB))\n",
        "plt.show()"
      ]
    }
  ],
  "metadata": {
    "accelerator": "GPU",
    "colab": {
      "collapsed_sections": [
        "UauKNtFRqydu",
        "cTWmPZ_kkMrT",
        "o0bIjlycyR9_",
        "oFvqGs4acGWl",
        "Mf2taA29RFNs",
        "xcOi5MIMVJpU",
        "0fBt9xNFWsKS",
        "WMev3UMadCzJ",
        "rcRlzqZudKkd",
        "3qGAalfJB8zz",
        "0712o8CXkyh1",
        "FZAAMEH4uqu9",
        "TVmMqXE5x70U",
        "kezk5fGkVwhN"
      ],
      "name": "nine-dash-lines.ipynb",
      "provenance": [],
      "include_colab_link": true
    },
    "kernelspec": {
      "display_name": "Python 3",
      "name": "python3"
    }
  },
  "nbformat": 4,
  "nbformat_minor": 0
}
