{
  "nbformat": 4,
  "nbformat_minor": 0,
  "metadata": {
    "colab": {
      "name": "Feature_Extraction_using_Tranfer_VGG16.ipynb",
      "provenance": [],
      "authorship_tag": "ABX9TyPZW0a4kNRnjTEjRkFXNFo6",
      "include_colab_link": true
    },
    "kernelspec": {
      "name": "python3",
      "display_name": "Python 3"
    },
    "language_info": {
      "name": "python"
    }
  },
  "cells": [
    {
      "cell_type": "markdown",
      "metadata": {
        "id": "view-in-github",
        "colab_type": "text"
      },
      "source": [
        "<a href=\"https://colab.research.google.com/github/Hoangthang017/CS331-338-431_nine-dash-line-detection/blob/main/FeatureExtractionUsingVGG19/Feature_Extraction_using_Tranfer_VGG16.ipynb\" target=\"_parent\"><img src=\"https://colab.research.google.com/assets/colab-badge.svg\" alt=\"Open In Colab\"/></a>"
      ]
    },
    {
      "cell_type": "code",
      "metadata": {
        "colab": {
          "base_uri": "https://localhost:8080/"
        },
        "id": "7tDmtOPM4YJa",
        "outputId": "90c56fcb-928f-4c4b-e4b7-61a65e8ebb42"
      },
      "source": [
        "# kết nối với gg.\n",
        "from google.colab import drive\n",
        "drive.mount('/content/drive')"
      ],
      "execution_count": 7,
      "outputs": [
        {
          "output_type": "stream",
          "text": [
            "Mounted at /content/drive\n"
          ],
          "name": "stdout"
        }
      ]
    },
    {
      "cell_type": "code",
      "metadata": {
        "id": "LwUa-Uua0zkB"
      },
      "source": [
        "# example of using the vgg16 model as a feature extraction model\n",
        "from keras.preprocessing.image import load_img\n",
        "from keras.preprocessing.image import img_to_array\n",
        "from keras.applications.vgg16 import preprocess_input\n",
        "from keras.applications.vgg16 import decode_predictions\n",
        "from keras.applications.vgg16 import VGG16\n",
        "from keras.models import Model\n",
        "from pickle import dump\n",
        "from imutils import paths\n",
        "import os\n",
        "\n",
        "import pandas as pd\n",
        "import numpy as np"
      ],
      "execution_count": 11,
      "outputs": []
    },
    {
      "cell_type": "code",
      "metadata": {
        "id": "n0HXFW6p5s3B"
      },
      "source": [
        "\n",
        "# get feature from model\n",
        "def getFeature(imagePath, model):\n",
        "  # preprocess image\n",
        "  image = load_img(imagePath,target_size=(224,224))\n",
        "  img_array = img_to_array(image)\n",
        "  img_array = np.expand_dims(img_array, axis=0)\n",
        "\n",
        "  # get feature \n",
        "  feature = model.predict(img_array)\n",
        "  feature = feature.reshape(-1)\n",
        "\n",
        "  return feature"
      ],
      "execution_count": 12,
      "outputs": []
    },
    {
      "cell_type": "code",
      "metadata": {
        "id": "HkaCisGu5Uni"
      },
      "source": [
        "# feature extraction\n",
        "def featureExtraction(imageDir, model):\n",
        "  imagePaths = list(paths.list_images(imageDir))\n",
        "  features = []\n",
        "  labels = []\n",
        "  for imagePath in imagePaths:\n",
        "    label = imagePath.split(os.path.sep)[-2]\n",
        "    if label != \"train\":\n",
        "      break\n",
        "\n",
        "    features.append(getFeature(imagePath,model))\n",
        "\n",
        "    if (label == \"Lines\"):\n",
        "        labels.append(1)\n",
        "    else:\n",
        "        labels.append(0)\n",
        "  \n",
        "  return np.array(features),np.array(labels)"
      ],
      "execution_count": 16,
      "outputs": []
    },
    {
      "cell_type": "code",
      "metadata": {
        "id": "QU0tG7Ft6Jer"
      },
      "source": [
        "if __name__ ==  \"__main__\":\n",
        "  pathDir = '/content/drive/MyDrive/Data Nine-Dash-Lines'\n",
        "\n",
        "\n",
        "  \n",
        "\n",
        "  # feature extraction\n",
        "  # FC1\n",
        "  # setting model\n",
        "  model = VGG16()\n",
        "  # remove the output layer\n",
        "  model_FC1 = Model(inputs=model.inputs, outputs=model.layers[-3].output)\n",
        "  model_FC1.summary()\n",
        "  features_1 , labels_1 = featureExtraction(pathDir, model_FC1)\n",
        "  np.savetxt(\"/content/drive/MyDrive/Data Nine-Dash-Lines/DataFrame/FC1_features_tranfer_vgg16.txt\",features_1)\n",
        "  np.savetxt(\"/content/drive/MyDrive/Data Nine-Dash-Lines/DataFrame/FC1_labels_tranfer_vgg16.txt\",labels_1)\n",
        "\n",
        "  # FC2\n",
        "  # remove the output layer\n",
        "  model_FC2 = Model(inputs=model.inputs, outputs=model.layers[-2].output)\n",
        "  model_FC2.summary()\n",
        "  features_2, labels_2 = featureExtraction(pathDir, model_FC2)\n",
        "  np.savetxt(\"/content/drive/MyDrive/Data Nine-Dash-Lines/DataFrame/FC2_features_tranfer_vgg16.txt\",features_2)\n",
        "  np.savetxt(\"/content/drive/MyDrive/Data Nine-Dash-Lines/DataFrame/FC2_labels_tranfer_vgg16.txt\",labels_2)\n"
      ],
      "execution_count": null,
      "outputs": []
    },
    {
      "cell_type": "code",
      "metadata": {
        "colab": {
          "base_uri": "https://localhost:8080/"
        },
        "id": "jnwhmeE8BCMz",
        "outputId": "d7706693-b462-490a-b341-416a9b50bc61"
      },
      "source": [
        "print(features_1.shape)"
      ],
      "execution_count": 25,
      "outputs": [
        {
          "output_type": "stream",
          "text": [
            "(200, 4096)\n"
          ],
          "name": "stdout"
        }
      ]
    },
    {
      "cell_type": "code",
      "metadata": {
        "colab": {
          "base_uri": "https://localhost:8080/"
        },
        "id": "Ufqvf1995PWS",
        "outputId": "9b5f312b-8ebd-40bf-a872-fd937d2e0c99"
      },
      "source": [
        "# main function\n",
        "pathDir = '/content/drive/MyDrive/test'\n",
        "\n",
        "# setting model\n",
        "\n",
        "# remove the output layer\n",
        "# feature extraction\n",
        "# FC1\n",
        "features_11 , labels_11 = featureExtraction(pathDir, model_FC1)\n",
        "np.savetxt(\"/content/drive/MyDrive/Data Nine-Dash-Lines/DataFrame/test/test_FC1_features_tranfer_vgg16.txt\",features_11)\n",
        "np.savetxt(\"/content/drive/MyDrive/Data Nine-Dash-Lines/DataFrame/test/test_FC1_labels_tranfer_vgg16.txt\",labels_11)\n",
        "\n",
        "# FC2\n",
        "# remove the output layer\n",
        "features_22, labels_22 = featureExtraction(pathDir, model_FC2)\n",
        "np.savetxt(\"/content/drive/MyDrive/Data Nine-Dash-Lines/DataFrame/test/test_FC2_features_tranfer_vgg16.txt\",features_22)\n",
        "np.savetxt(\"/content/drive/MyDrive/Data Nine-Dash-Lines/DataFrame/test/test_FC2_labels_tranfer_vgg16.txt\",labels_22)"
      ],
      "execution_count": 26,
      "outputs": [
        {
          "output_type": "stream",
          "text": [
            "dang o anh so:  1\n",
            "dang o anh so:  2\n",
            "dang o anh so:  3\n",
            "dang o anh so:  4\n",
            "dang o anh so:  1\n",
            "dang o anh so:  2\n",
            "dang o anh so:  3\n",
            "dang o anh so:  4\n"
          ],
          "name": "stdout"
        }
      ]
    },
    {
      "cell_type": "code",
      "metadata": {
        "colab": {
          "base_uri": "https://localhost:8080/"
        },
        "id": "P77AUOdzCZSy",
        "outputId": "cb243f9d-d6f1-4973-97c9-34813b99d2ad"
      },
      "source": [
        "print(features_22.shape)"
      ],
      "execution_count": 28,
      "outputs": [
        {
          "output_type": "stream",
          "text": [
            "(4, 4096)\n"
          ],
          "name": "stdout"
        }
      ]
    }
  ]
}