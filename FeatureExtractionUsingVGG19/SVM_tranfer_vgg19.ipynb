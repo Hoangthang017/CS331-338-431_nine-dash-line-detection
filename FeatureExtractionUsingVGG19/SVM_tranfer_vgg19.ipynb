{
  "nbformat": 4,
  "nbformat_minor": 0,
  "metadata": {
    "colab": {
      "name": "SVM_tranfer_vgg16.ipynb",
      "provenance": [],
      "collapsed_sections": [],
      "authorship_tag": "ABX9TyPZyNbr9jyFvfvp5VD2Y1kD",
      "include_colab_link": true
    },
    "kernelspec": {
      "name": "python3",
      "display_name": "Python 3"
    },
    "language_info": {
      "name": "python"
    }
  },
  "cells": [
    {
      "cell_type": "markdown",
      "metadata": {
        "id": "view-in-github",
        "colab_type": "text"
      },
      "source": [
        "<a href=\"https://colab.research.google.com/github/Hoangthang017/CS331-338-431_nine-dash-line-detection/blob/main/FeatureExtractionUsingVGG19/SVM_tranfer_vgg19.ipynb\" target=\"_parent\"><img src=\"https://colab.research.google.com/assets/colab-badge.svg\" alt=\"Open In Colab\"/></a>"
      ]
    },
    {
      "cell_type": "code",
      "metadata": {
        "id": "m3DgHTCp0hqv",
        "colab": {
          "base_uri": "https://localhost:8080/"
        },
        "outputId": "0500d5e5-71c7-4653-a5be-b3da92020b83"
      },
      "source": [
        "# kết nối với gg.\n",
        "from google.colab import drive\n",
        "drive.mount('/content/drive')"
      ],
      "execution_count": 1,
      "outputs": [
        {
          "output_type": "stream",
          "text": [
            "Mounted at /content/drive\n"
          ],
          "name": "stdout"
        }
      ]
    },
    {
      "cell_type": "code",
      "metadata": {
        "id": "e73cU1Al1Bny"
      },
      "source": [
        "# thêm thư viện.\n",
        "import numpy as np\n",
        "from sklearn.pipeline import make_pipeline\n",
        "from sklearn.preprocessing import StandardScaler\n",
        "from sklearn.svm import SVC\n",
        "from sklearn import metrics\n",
        "from sklearn.metrics import classification_report, f1_score, accuracy_score, recall_score, precision_score, make_scorer\n",
        "import matplotlib.pyplot as plt\n",
        "from sklearn.model_selection import train_test_split\n",
        "import seaborn as sn\n",
        "from sklearn.model_selection import cross_validate\n",
        "import pandas as pd\n",
        "from sklearn.model_selection import KFold\n",
        "from sklearn.metrics import confusion_matrix\n",
        "from keras.models import Sequential\n",
        "from keras.layers import Dense, Activation, Dropout, Flatten, Conv2D, MaxPooling2D\n",
        "from keras.layers.normalization import BatchNormalization\n",
        "from tensorflow.keras.preprocessing.image import load_img\n",
        "from tensorflow.keras.preprocessing.image import img_to_array\n",
        "\n",
        "from imutils import paths\n",
        "import os"
      ],
      "execution_count": 2,
      "outputs": []
    },
    {
      "cell_type": "code",
      "metadata": {
        "id": "vccV4iHpdaEq"
      },
      "source": [
        "# đọc dữ liệu từ các file .txt thông qua thư viện numpy.\n",
        "feature_FC1 = np.loadtxt('/content/drive/MyDrive/Data Nine-Dash-Lines/DataFrame/FC1_features_tranfer_vgg19.txt')\n",
        "feature_FC2 = np.loadtxt('/content/drive/MyDrive/Data Nine-Dash-Lines/DataFrame/FC2_features_tranfer_vgg19.txt')\n",
        "\n",
        "\n",
        "labels_FC1 = np.loadtxt('/content/drive/MyDrive/Data Nine-Dash-Lines/DataFrame/FC1_labels_tranfer_vgg19.txt')\n",
        "labels_FC2 = np.loadtxt('/content/drive/MyDrive/Data Nine-Dash-Lines/DataFrame/FC2_labels_tranfer_vgg19.txt')"
      ],
      "execution_count": 13,
      "outputs": []
    },
    {
      "cell_type": "code",
      "metadata": {
        "id": "8fu0nY6sLDrd"
      },
      "source": [
        "test1 = np.loadtxt(\"/content/drive/MyDrive/Data Nine-Dash-Lines/DataFrame/test/test_FC1_features_tranfer_vgg19.txt\")\n",
        "test1_label = np.loadtxt('/content/drive/MyDrive/Data Nine-Dash-Lines/DataFrame/test/test_FC1_labels_tranfer_vgg19.txt')"
      ],
      "execution_count": 21,
      "outputs": []
    },
    {
      "cell_type": "code",
      "metadata": {
        "id": "5KoaD-_bLye8"
      },
      "source": [
        "test2 = np.loadtxt(\"/content/drive/MyDrive/Data Nine-Dash-Lines/DataFrame/test/test_FC2_features_tranfer_vgg19.txt\")\n",
        "test2_label = np.loadtxt('/content/drive/MyDrive/Data Nine-Dash-Lines/DataFrame/test/test_FC2_labels_tranfer_vgg19.txt')"
      ],
      "execution_count": 22,
      "outputs": []
    },
    {
      "cell_type": "markdown",
      "metadata": {
        "id": "ZLdz2HuMEE0Y"
      },
      "source": [
        "# **Lớp FC1**"
      ]
    },
    {
      "cell_type": "code",
      "metadata": {
        "id": "zdy7piJR3VSs",
        "colab": {
          "base_uri": "https://localhost:8080/",
          "height": 947
        },
        "outputId": "46b107ee-1260-423e-deec-7163ecde0dde"
      },
      "source": [
        "\n",
        "X = feature_FC1\n",
        "y = labels_FC1\n",
        "clf_FC1 = SVC(kernel='linear', random_state=1)\n",
        "kfold = KFold(n_splits=10, random_state=42,shuffle=True)\n",
        "res_conf = []\n",
        "##########################\n",
        "sum_confusion = [[0, 0],\n",
        "                 [0, 0]]\n",
        "fold_idx = 1\n",
        "for train_ids, val_ids in kfold.split(X, y):\n",
        " \n",
        "  # Train model\n",
        "  clf_FC1.fit(X[train_ids], y[train_ids])\n",
        "  print(\"---------------------------------\")\n",
        "  print(clf_FC1.predict(test1))\n",
        "  print(test1_label)\n",
        "\n",
        "  conf_maxtrix = confusion_matrix(y[val_ids],clf_FC1.predict(X[val_ids]))\n",
        "  res_conf.append(conf_maxtrix)\n",
        "\n",
        "  fold_idx = fold_idx + 1\n",
        "\n",
        "######################\n",
        "scoring = {'accuracy' : make_scorer(accuracy_score), \n",
        "           'precision' : make_scorer(precision_score),\n",
        "           'recall' : make_scorer(recall_score), \n",
        "           'f1_score' : make_scorer(f1_score)}\n",
        "\n",
        "results = cross_validate(estimator=clf_FC1,\n",
        "                                          X=X,\n",
        "                                          y=y,\n",
        "                                          cv=kfold,\n",
        "                                          scoring=scoring)\n",
        "\n",
        "####################\n",
        "precision = np.average(results['test_precision'])\n",
        "recall = np.average(results['test_recall'])\n",
        "acc = np.average(results['test_accuracy'])\n",
        "f1 = np.average(results['test_f1_score'])\n",
        "print(\"Precision: \", format(precision, '.2f'))\n",
        "print(\"Recall: \", format(recall, '.2f'))\n",
        "print(\"Accuracy: \", format(acc, '.2f'))\n",
        "print(\"f1_score: \", format(f1, '.2f'))\n",
        "\n",
        "# print(sum_confusion)\n",
        "# print(sum_confusion/(fold_idx - 1) )\n",
        "# t = sum_confusion/(fold_idx - 1)\n",
        "# df_cm = pd.DataFrame(t.round(), index = [i for i in \"AB\"],\n",
        "#                   columns = [i for i in \"AB\"])\n",
        "# plt.figure(figsize = (6, 5))\n",
        "# sn.heatmap(df_cm, annot=True)\n",
        "\n",
        "mean_res_conf = np.mean(res_conf,axis=0)\n",
        "df_cm = pd.DataFrame(mean_res_conf.round(), index = [i for i in \"AB\"],\n",
        "                  columns = [i for i in \"AB\"])\n",
        "plt.figure(figsize = (6, 5))\n",
        "sn.heatmap(df_cm, annot=True)"
      ],
      "execution_count": 23,
      "outputs": [
        {
          "output_type": "stream",
          "text": [
            "---------------------------------\n",
            "[1. 1. 0. 0.]\n",
            "[1. 1. 0. 0.]\n",
            "---------------------------------\n",
            "[1. 1. 1. 0.]\n",
            "[1. 1. 0. 0.]\n",
            "---------------------------------\n",
            "[1. 1. 0. 0.]\n",
            "[1. 1. 0. 0.]\n",
            "---------------------------------\n",
            "[1. 1. 0. 0.]\n",
            "[1. 1. 0. 0.]\n",
            "---------------------------------\n",
            "[1. 1. 0. 0.]\n",
            "[1. 1. 0. 0.]\n",
            "---------------------------------\n",
            "[0. 1. 0. 0.]\n",
            "[1. 1. 0. 0.]\n",
            "---------------------------------\n",
            "[1. 1. 0. 0.]\n",
            "[1. 1. 0. 0.]\n",
            "---------------------------------\n",
            "[1. 1. 0. 0.]\n",
            "[1. 1. 0. 0.]\n",
            "---------------------------------\n",
            "[1. 1. 0. 0.]\n",
            "[1. 1. 0. 0.]\n",
            "---------------------------------\n",
            "[1. 1. 0. 0.]\n",
            "[1. 1. 0. 0.]\n",
            "Precision:  0.78\n",
            "Recall:  0.77\n",
            "Accuracy:  0.77\n",
            "f1_score:  0.76\n"
          ],
          "name": "stdout"
        },
        {
          "output_type": "execute_result",
          "data": {
            "text/plain": [
              "<matplotlib.axes._subplots.AxesSubplot at 0x7fee5c3d4350>"
            ]
          },
          "metadata": {
            "tags": []
          },
          "execution_count": 23
        },
        {
          "output_type": "display_data",
          "data": {
            "image/png": "[encoded data removed]",
            "text/plain": [
              "<Figure size 432x360 with 2 Axes>"
            ]
          },
          "metadata": {
            "tags": [],
            "needs_background": "light"
          }
        }
      ]
    },
    {
      "cell_type": "markdown",
      "metadata": {
        "id": "_dXTQm1LEUWC"
      },
      "source": [
        "# **Lớp FC2**"
      ]
    },
    {
      "cell_type": "code",
      "metadata": {
        "colab": {
          "base_uri": "https://localhost:8080/",
          "height": 947
        },
        "id": "zH_Lo03GETJB",
        "outputId": "fbd641f9-a1c2-4663-8d82-893f805b2474"
      },
      "source": [
        "\n",
        "X = feature_FC2\n",
        "y = labels_FC2\n",
        "clf_FC1 = SVC(kernel='linear', random_state=1)\n",
        "kfold = KFold(n_splits=10, random_state=42,shuffle=True)\n",
        "res_conf = []\n",
        "##########################\n",
        "sum_confusion = [[0, 0],\n",
        "                 [0, 0]]\n",
        "fold_idx = 1\n",
        "for train_ids, val_ids in kfold.split(X, y):\n",
        " \n",
        "  # Train model\n",
        "  clf_FC1.fit(X[train_ids], y[train_ids])\n",
        "  print(\"---------------------------------\")\n",
        "  print(clf_FC1.predict(test2))\n",
        "  print(test2_label)\n",
        "\n",
        "  conf_maxtrix = confusion_matrix(y[val_ids],clf_FC1.predict(X[val_ids]))\n",
        "  res_conf.append(conf_maxtrix)\n",
        "\n",
        "  fold_idx = fold_idx + 1\n",
        "\n",
        "######################\n",
        "scoring = {'accuracy' : make_scorer(accuracy_score), \n",
        "           'precision' : make_scorer(precision_score),\n",
        "           'recall' : make_scorer(recall_score), \n",
        "           'f1_score' : make_scorer(f1_score)}\n",
        "\n",
        "results = cross_validate(estimator=clf_FC1,\n",
        "                                          X=X,\n",
        "                                          y=y,\n",
        "                                          cv=kfold,\n",
        "                                          scoring=scoring)\n",
        "\n",
        "####################\n",
        "precision = np.average(results['test_precision'])\n",
        "recall = np.average(results['test_recall'])\n",
        "acc = np.average(results['test_accuracy'])\n",
        "f1 = np.average(results['test_f1_score'])\n",
        "print(\"Precision: \", format(precision, '.2f'))\n",
        "print(\"Recall: \", format(recall, '.2f'))\n",
        "print(\"Accuracy: \", format(acc, '.2f'))\n",
        "print(\"f1_score: \", format(f1, '.2f'))\n",
        "\n",
        "# print(sum_confusion)\n",
        "# print(sum_confusion/(fold_idx - 1) )\n",
        "# t = sum_confusion/(fold_idx - 1)\n",
        "# df_cm = pd.DataFrame(t.round(), index = [i for i in \"AB\"],\n",
        "#                   columns = [i for i in \"AB\"])\n",
        "# plt.figure(figsize = (6, 5))\n",
        "# sn.heatmap(df_cm, annot=True)\n",
        "\n",
        "mean_res_conf = np.mean(res_conf,axis=0)\n",
        "df_cm = pd.DataFrame(mean_res_conf.round(), index = [i for i in \"AB\"],\n",
        "                  columns = [i for i in \"AB\"])\n",
        "plt.figure(figsize = (6, 5))\n",
        "sn.heatmap(df_cm, annot=True)"
      ],
      "execution_count": 24,
      "outputs": [
        {
          "output_type": "stream",
          "text": [
            "---------------------------------\n",
            "[1. 1. 0. 0.]\n",
            "[1. 1. 0. 0.]\n",
            "---------------------------------\n",
            "[1. 1. 1. 0.]\n",
            "[1. 1. 0. 0.]\n",
            "---------------------------------\n",
            "[1. 1. 0. 0.]\n",
            "[1. 1. 0. 0.]\n",
            "---------------------------------\n",
            "[1. 1. 0. 0.]\n",
            "[1. 1. 0. 0.]\n",
            "---------------------------------\n",
            "[1. 1. 0. 0.]\n",
            "[1. 1. 0. 0.]\n",
            "---------------------------------\n",
            "[1. 1. 0. 0.]\n",
            "[1. 1. 0. 0.]\n",
            "---------------------------------\n",
            "[1. 1. 0. 0.]\n",
            "[1. 1. 0. 0.]\n",
            "---------------------------------\n",
            "[1. 1. 0. 0.]\n",
            "[1. 1. 0. 0.]\n",
            "---------------------------------\n",
            "[1. 1. 0. 0.]\n",
            "[1. 1. 0. 0.]\n",
            "---------------------------------\n",
            "[1. 1. 0. 0.]\n",
            "[1. 1. 0. 0.]\n",
            "Precision:  0.76\n",
            "Recall:  0.74\n",
            "Accuracy:  0.73\n",
            "f1_score:  0.74\n"
          ],
          "name": "stdout"
        },
        {
          "output_type": "execute_result",
          "data": {
            "text/plain": [
              "<matplotlib.axes._subplots.AxesSubplot at 0x7fee62cb3590>"
            ]
          },
          "metadata": {
            "tags": []
          },
          "execution_count": 24
        },
        {
          "output_type": "display_data",
          "data": {
            "image/png": "[encoded data removed]",
            "text/plain": [
              "<Figure size 432x360 with 2 Axes>"
            ]
          },
          "metadata": {
            "tags": [],
            "needs_background": "light"
          }
        }
      ]
    },
    {
      "cell_type": "markdown",
      "metadata": {
        "id": "fc6G3bYLEryB"
      },
      "source": [
        "# **---------------------------------KẾT THÚc--------------------------------------**\n"
      ]
    },
    {
      "cell_type": "code",
      "metadata": {
        "colab": {
          "base_uri": "https://localhost:8080/",
          "height": 231
        },
        "id": "p2DU9uaRIpR1",
        "outputId": "c64283ec-b31f-4f0a-993a-3af9cbb1d1d7"
      },
      "source": [
        "model_svm =None\n",
        "X = feature_FC2\n",
        "y = labels_FC2\n",
        "clf_FC2 = SVC(kernel='linear', random_state=1)\n",
        "kfold = KFold(n_splits=10, random_state=42,shuffle=True)\n",
        "res_conf = []\n",
        "##########################\n",
        "sum_confusion = [[0, 0],\n",
        "                 [0, 0]]\n",
        "fold_idx = 1\n",
        "for train_ids, val_ids in kfold.split(X, y):\n",
        " \n",
        "  # Train model\n",
        "  clf_FC2.fit(X[train_ids], y[train_ids])\n",
        "\n",
        "  print(\"---------------------------------\")\n",
        "  print(clf_FC2.predict(test2))\n",
        "  print(test2_label)\n",
        "\n",
        "  conf_maxtrix = confusion_matrix(y[val_ids],clf_FC2.predict(X[val_ids]))\n",
        "  res_conf.append(conf_maxtrix)\n",
        "  if (fold_idx==9):\n",
        "    model_svm = clf_FC2\n",
        "  fold_idx = fold_idx + 1\n",
        "\n",
        "######################\n",
        "scoring = {'accuracy' : make_scorer(accuracy_score), \n",
        "           'precision' : make_scorer(precision_score),\n",
        "           'recall' : make_scorer(recall_score), \n",
        "           'f1_score' : make_scorer(f1_score)}\n",
        "\n",
        "results = cross_validate(estimator=clf_FC2,\n",
        "                                          X=X,\n",
        "                                          y=y,\n",
        "                                          cv=kfold,\n",
        "                                          scoring=scoring)\n",
        "\n",
        "####################\n",
        "precision = np.average(results['test_precision'])\n",
        "recall = np.average(results['test_recall'])\n",
        "acc = np.average(results['test_accuracy'])\n",
        "f1 = np.average(results['test_f1_score'])\n",
        "print(\"Precision: \", format(precision, '.2f'))\n",
        "print(\"Recall: \", format(recall, '.2f'))\n",
        "print(\"Accuracy: \", format(acc, '.2f'))\n",
        "print(\"f1_score: \", format(f1, '.2f'))\n",
        "\n",
        "print(mean_res_conf)\n",
        "mean_res_conf = np.mean(res_conf,axis=0)\n",
        "df_cm = pd.DataFrame(mean_res_conf.round(), index = [i for i in \"AB\"],\n",
        "                  columns = [i for i in \"AB\"])\n",
        "plt.figure(figsize = (6, 5))\n",
        "sn.heatmap(df_cm, annot=True)"
      ],
      "execution_count": null,
      "outputs": [
        {
          "output_type": "error",
          "ename": "NameError",
          "evalue": "ignored",
          "traceback": [
            "\u001b[0;31m---------------------------------------------------------------------------\u001b[0m",
            "\u001b[0;31mNameError\u001b[0m                                 Traceback (most recent call last)",
            "\u001b[0;32m<ipython-input-4-bf562d5a4754>\u001b[0m in \u001b[0;36m<module>\u001b[0;34m()\u001b[0m\n\u001b[1;32m      1\u001b[0m \u001b[0mmodel_svm\u001b[0m \u001b[0;34m=\u001b[0m\u001b[0;32mNone\u001b[0m\u001b[0;34m\u001b[0m\u001b[0;34m\u001b[0m\u001b[0m\n\u001b[0;32m----> 2\u001b[0;31m \u001b[0mX\u001b[0m \u001b[0;34m=\u001b[0m \u001b[0mfeature_FC2\u001b[0m\u001b[0;34m\u001b[0m\u001b[0;34m\u001b[0m\u001b[0m\n\u001b[0m\u001b[1;32m      3\u001b[0m \u001b[0my\u001b[0m \u001b[0;34m=\u001b[0m \u001b[0mlabels_FC2\u001b[0m\u001b[0;34m\u001b[0m\u001b[0;34m\u001b[0m\u001b[0m\n\u001b[1;32m      4\u001b[0m \u001b[0mclf_FC2\u001b[0m \u001b[0;34m=\u001b[0m \u001b[0mSVC\u001b[0m\u001b[0;34m(\u001b[0m\u001b[0mkernel\u001b[0m\u001b[0;34m=\u001b[0m\u001b[0;34m'linear'\u001b[0m\u001b[0;34m,\u001b[0m \u001b[0mrandom_state\u001b[0m\u001b[0;34m=\u001b[0m\u001b[0;36m1\u001b[0m\u001b[0;34m)\u001b[0m\u001b[0;34m\u001b[0m\u001b[0;34m\u001b[0m\u001b[0m\n\u001b[1;32m      5\u001b[0m \u001b[0mkfold\u001b[0m \u001b[0;34m=\u001b[0m \u001b[0mKFold\u001b[0m\u001b[0;34m(\u001b[0m\u001b[0mn_splits\u001b[0m\u001b[0;34m=\u001b[0m\u001b[0;36m10\u001b[0m\u001b[0;34m,\u001b[0m \u001b[0mrandom_state\u001b[0m\u001b[0;34m=\u001b[0m\u001b[0;36m42\u001b[0m\u001b[0;34m,\u001b[0m\u001b[0mshuffle\u001b[0m\u001b[0;34m=\u001b[0m\u001b[0;32mTrue\u001b[0m\u001b[0;34m)\u001b[0m\u001b[0;34m\u001b[0m\u001b[0;34m\u001b[0m\u001b[0m\n",
            "\u001b[0;31mNameError\u001b[0m: name 'feature_FC2' is not defined"
          ]
        }
      ]
    },
    {
      "cell_type": "code",
      "metadata": {
        "id": "m0X4TwOU38JM"
      },
      "source": [
        ""
      ],
      "execution_count": null,
      "outputs": []
    },
    {
      "cell_type": "code",
      "metadata": {
        "id": "XvFTFHWvSmN3"
      },
      "source": [
        "# tạo một bộ phân loại.\n",
        "clf_FC1 = make_pipeline(StandardScaler(), SVC(gamma='auto'))\n",
        "\n",
        "# Tiến hành học từ tập dữ liệu train.\n",
        "clf_FC1.fit(feature_FC1, labels)\n",
        "\n",
        "# Tiến hành dự đoán dựa trên tập test\n",
        "predicted_FC1 = clf_FC1.predict(feature_FC1_test)\n",
        "accuracy = accuracy_score(predicted_FC1, labels_FC1_test)\n",
        "precision = precision_score(predicted_FC1, labels_FC1_test)\n",
        "re = recall_score(predicted_FC1, labels_FC1_test)\n",
        "f1 = f1_score(predicted_FC1, labels_FC1_test)\n",
        "\n",
        "# Hiển thị các chỉ số đánh giá chính.\n",
        "print(classification_report(predicted_FC1, labels_FC1_test))\n",
        "\n",
        "# Hiển thị ma trận Confusion matrix\n",
        "conf_FC1 = metrics.plot_confusion_matrix(clf_FC1, feature_FC1_test, labels_FC1_test)\n",
        "conf_FC1.figure_.suptitle(\"Confusion Matrix\")\n",
        "print(f\"Confusion matrix:\\n{conf_FC1.confusion_matrix}\")\n",
        "plt.show()"
      ],
      "execution_count": null,
      "outputs": []
    },
    {
      "cell_type": "markdown",
      "metadata": {
        "id": "VFpCKhqtcHmp"
      },
      "source": [
        "Lớp FC2"
      ]
    },
    {
      "cell_type": "code",
      "metadata": {
        "id": "3AgFKC-JNzOn"
      },
      "source": [
        "# tạo một bộ phân loại.\n",
        "clf_FC2 = make_pipeline(StandardScaler(), SVC(gamma='auto'))\n",
        "\n",
        "# Tiến hành học từ tập dữ liệu train.\n",
        "clf_FC2.fit(feature_FC2_train, labels_FC2_train)\n",
        "\n",
        "# Tiến hành dự đoán dựa trên tập test\n",
        "predicted_FC2 = clf_FC2.predict(feature_FC2_test)\n",
        "\n",
        "# Hiển thị các chỉ số đánh giá chính.\n",
        "print(classification_report(predicted_FC2, labels_FC2_test))\n",
        "\n",
        "# Hiển thị ma trận Confusion matrix\n",
        "conf_FC2 = metrics.plot_confusion_matrix(clf_FC2, feature_FC2_test, labels_FC2_test)\n",
        "conf_FC2.figure_.suptitle(\"Confusion Matrix\")\n",
        "print(f\"Confusion matrix:\\n{conf_FC2.confusion_matrix}\")\n",
        "plt.show()  "
      ],
      "execution_count": null,
      "outputs": []
    },
    {
      "cell_type": "code",
      "metadata": {
        "id": "IRZgFbRO-MtK"
      },
      "source": [
        ""
      ],
      "execution_count": null,
      "outputs": []
    },
    {
      "cell_type": "markdown",
      "metadata": {
        "id": "IzvQDUZ7cEwZ"
      },
      "source": [
        "Lớp FC1"
      ]
    },
    {
      "cell_type": "code",
      "metadata": {
        "id": "d0jxU8rbaKKh"
      },
      "source": [
        "# define Alexnet Architecture\n",
        "class Alexnet:\n",
        "  def __init__(self, cs = 1000,  bp = \"FC3\"):\n",
        "    self.classifer = cs\n",
        "    self.breakPoint = bp\n",
        "    self.model = None\n",
        "\n",
        "  # setting model\n",
        "  def define_model(self):\n",
        "    model = Sequential()\n",
        "    model.add(Conv2D(filters=96, kernel_size=(11,11), strides=(4,4), activation='relu', input_shape=(227,227,3)))\n",
        "    model.add(BatchNormalization())\n",
        "    model.add(MaxPooling2D(pool_size=(3,3), strides=(2,2)))\n",
        "    model.add(Conv2D(filters=256, kernel_size=(5,5), strides=(1,1), activation='relu', padding=\"same\"))\n",
        "    model.add(BatchNormalization())\n",
        "    model.add(MaxPooling2D(pool_size=(3,3), strides=(2,2)))\n",
        "    model.add(Conv2D(filters=384, kernel_size=(3,3), strides=(1,1), activation='relu', padding=\"same\"))\n",
        "    model.add(BatchNormalization())\n",
        "    model.add(Conv2D(filters=384, kernel_size=(3,3), strides=(1,1), activation='relu', padding=\"same\"))\n",
        "    model.add(BatchNormalization())\n",
        "    model.add(Conv2D(filters=256, kernel_size=(3,3), strides=(1,1), activation='relu', padding=\"same\"))\n",
        "    model.add(BatchNormalization())\n",
        "    model.add(MaxPooling2D(pool_size=(3,3), strides=(2,2)))\n",
        "    model.add(Flatten())\n",
        "    model.add(Dense(4096,activation='relu'))\n",
        "\n",
        "    # feature extraction in FC1\n",
        "    if (self.breakPoint == \"FC1\"):\n",
        "      self.model = model\n",
        "      return\n",
        "\n",
        "    model.add(Dropout(0.5))\n",
        "    model.add(Dense(4096,activation='relu'))\n",
        "\n",
        "    # feature extraction in FC2\n",
        "    if (self.breakPoint == \"FC2\"):\n",
        "      self.model = model\n",
        "      return\n",
        "    \n",
        "    model.add(Dropout(0.5))\n",
        "    model.add(Dense(self.classifer,activation='softmax'))\n",
        "    self.model = model\n",
        "\n",
        "  # predict \n",
        "  def predict(self, data):\n",
        "    return self.model.predict(data)\n",
        "\n",
        "  # get summary of model\n",
        "  def summary(self):\n",
        "    print(self.model.summary())\n",
        "\n",
        "  # get model\n",
        "  def get_model(self):\n",
        "    return self.model\n",
        "\n",
        "  # get/set break point\n",
        "  def get_breakPoint(self):\n",
        "    return self.breakPoint\n",
        "  def set_breakPoint(self, bp):\n",
        "    self.breakPoint = bp\n",
        "\n",
        "  # get/set class\n",
        "  def get_class(self):\n",
        "    return self.classifer\n",
        "  def set_class(self, c):\n",
        "    self.classifer = c"
      ],
      "execution_count": null,
      "outputs": []
    },
    {
      "cell_type": "code",
      "metadata": {
        "id": "os1Q90OBaPlI"
      },
      "source": [
        "# get feature from model\n",
        "def getFeature(imagePath, model):\n",
        "  # preprocess image\n",
        "  image = load_img(imagePath,target_size=(227,227))\n",
        "  img_array = img_to_array(image)\n",
        "  img_array = np.expand_dims(img_array, axis=0)\n",
        "\n",
        "  # get feature \n",
        "  feature = model.predict(img_array)\n",
        "  feature = feature.reshape(-1)\n",
        "\n",
        "  return feature"
      ],
      "execution_count": null,
      "outputs": []
    },
    {
      "cell_type": "code",
      "metadata": {
        "id": "ZOg0GwQPaWwt"
      },
      "source": [
        "model = Alexnet(bp = 'FC2')\n",
        "model.define_model()\n",
        "model.summary()\n",
        "image_path = '/content/1922.jpg'\n",
        "fe = getFeature(image_path, model)\n",
        "# print(fe.reshape(-1,1))"
      ],
      "execution_count": null,
      "outputs": []
    },
    {
      "cell_type": "code",
      "metadata": {
        "id": "UPXb9ErTdRO9"
      },
      "source": [
        "print(model_svm.predict([fe]))"
      ],
      "execution_count": null,
      "outputs": []
    }
  ]
}