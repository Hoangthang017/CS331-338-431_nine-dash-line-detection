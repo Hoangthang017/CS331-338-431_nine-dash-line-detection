{
  "nbformat": 4,
  "nbformat_minor": 0,
  "metadata": {
    "colab": {
      "name": "Dataset_nine_dash_line.ipynb",
      "provenance": [],
      "collapsed_sections": [
        "fm69sB4BTODg",
        "Up7qyvXSy9fB",
        "vkjYyFd-LDm0"
      ],
      "authorship_tag": "ABX9TyNXLAHtifVkCuFO0bqfKmM/",
      "include_colab_link": true
    },
    "kernelspec": {
      "name": "python3",
      "display_name": "Python 3"
    },
    "language_info": {
      "name": "python"
    }
  },
  "cells": [
    {
      "cell_type": "markdown",
      "metadata": {
        "id": "view-in-github",
        "colab_type": "text"
      },
      "source": [
        "<a href=\"https://colab.research.google.com/github/Hoangthang017/nine-dash-line-detection/blob/main/ProcessData/Dataset_nine_dash_line.ipynb\" target=\"_parent\"><img src=\"https://colab.research.google.com/assets/colab-badge.svg\" alt=\"Open In Colab\"/></a>"
      ]
    },
    {
      "cell_type": "markdown",
      "metadata": {
        "id": "OQrBXShyy4lv"
      },
      "source": [
        "# mount drive "
      ]
    },
    {
      "cell_type": "code",
      "metadata": {
        "colab": {
          "base_uri": "https://localhost:8080/"
        },
        "id": "MId63qyIyyAq",
        "outputId": "04d24ec5-566b-4f3a-c159-f7cf1efe0b34"
      },
      "source": [
        "# kết nối với gg.\n",
        "from google.colab import drive\n",
        "drive.mount('/content/drive')"
      ],
      "execution_count": null,
      "outputs": [
        {
          "output_type": "stream",
          "name": "stdout",
          "text": [
            "Mounted at /content/drive\n"
          ]
        }
      ]
    },
    {
      "cell_type": "code",
      "source": [
        "import cv2 as cv2"
      ],
      "metadata": {
        "id": "ZmHJwCq0uJa6"
      },
      "execution_count": null,
      "outputs": []
    },
    {
      "cell_type": "code",
      "source": [
        "from os import listdir\n",
        "from os.path import isfile, join\n",
        "mypath = '/content/drive/MyDrive/nine_dash_lines/data_train/images/addition_image_1.jpg'\n",
        "onlyfiles = [f for f in listdir(mypath) if isfile(join(mypath, f))]"
      ],
      "metadata": {
        "id": "saDDFennuOHk"
      },
      "execution_count": null,
      "outputs": []
    },
    {
      "cell_type": "code",
      "source": [
        "i = cv2.imread('/content/drive/MyDrive/Faster_RCNN/data_train/images/addition_image_1.jpg\")\n",
        "print(i)"
      ],
      "metadata": {
        "colab": {
          "base_uri": "https://localhost:8080/"
        },
        "id": "uPewT2vXwCrn",
        "outputId": "726c224f-8409-48f9-886b-60f4681452e0"
      },
      "execution_count": null,
      "outputs": [
        {
          "output_type": "stream",
          "name": "stdout",
          "text": [
            "[[[ 94 104  74]\n",
            "  [129 144 113]\n",
            "  [123 145 116]\n",
            "  ...\n",
            "  [192 162 105]\n",
            "  [199 168 113]\n",
            "  [167 136  81]]\n",
            "\n",
            " [[107 116  89]\n",
            "  [160 174 146]\n",
            "  [164 186 157]\n",
            "  ...\n",
            "  [233 203 146]\n",
            "  [237 206 151]\n",
            "  [202 171 116]]\n",
            "\n",
            " [[104 113  87]\n",
            "  [151 164 138]\n",
            "  [139 161 133]\n",
            "  ...\n",
            "  [234 204 145]\n",
            "  [236 206 149]\n",
            "  [199 169 112]]\n",
            "\n",
            " ...\n",
            "\n",
            " [[103 114  81]\n",
            "  [136 153 119]\n",
            "  [122 149 116]\n",
            "  ...\n",
            "  [  3   3   3]\n",
            "  [  5   5   5]\n",
            "  [  0   0   0]]\n",
            "\n",
            " [[109 119  83]\n",
            "  [146 162 128]\n",
            "  [130 157 124]\n",
            "  ...\n",
            "  [  1   1   1]\n",
            "  [  0   0   0]\n",
            "  [  2   2   2]]\n",
            "\n",
            " [[106 116  80]\n",
            "  [145 161 127]\n",
            "  [129 155 125]\n",
            "  ...\n",
            "  [  0   0   0]\n",
            "  [  5   5   5]\n",
            "  [  0   0   0]]]\n"
          ]
        }
      ]
    },
    {
      "cell_type": "code",
      "source": [
        "for img in onlyfiles:\n",
        "  if (img == \"addition_image_1.jpg\"):\n",
        "    print(img)"
      ],
      "metadata": {
        "colab": {
          "base_uri": "https://localhost:8080/"
        },
        "id": "vbFAM9YSvnGH",
        "outputId": "76eb0d6a-3da3-4336-8a3c-639a13540c9d"
      },
      "execution_count": null,
      "outputs": [
        {
          "output_type": "stream",
          "name": "stdout",
          "text": [
            "addition_image_1.jpg\n"
          ]
        }
      ]
    },
    {
      "cell_type": "markdown",
      "metadata": {
        "id": "fm69sB4BTODg"
      },
      "source": [
        "# get annatation train data"
      ]
    },
    {
      "cell_type": "markdown",
      "metadata": {
        "id": "Up7qyvXSy9fB"
      },
      "source": [
        "## Read json file"
      ]
    },
    {
      "cell_type": "code",
      "metadata": {
        "id": "rj39Wz75WdLu"
      },
      "source": [
        "# đọc file json từ drive \n",
        "import json\n",
        "import pandas as pd\n",
        "with open('/content/drive/MyDrive/nine_dash_lines/zalo_hackathon_2019/zai2019_hackaton_train/annotations/ninedash_keypoints_train.json') as json_data:\n",
        "  dataJson = json.load(json_data)"
      ],
      "execution_count": null,
      "outputs": []
    },
    {
      "cell_type": "code",
      "metadata": {
        "colab": {
          "base_uri": "https://localhost:8080/"
        },
        "id": "2DaDHhVJiYAI",
        "outputId": "3f4a2e76-aaac-4b7f-f718-2a56cbad52d9"
      },
      "source": [
        "for i in dataJson:\n",
        "  print(i)"
      ],
      "execution_count": null,
      "outputs": [
        {
          "output_type": "stream",
          "name": "stdout",
          "text": [
            "info\n",
            "licenses\n",
            "categories\n",
            "images\n",
            "annotations\n"
          ]
        }
      ]
    },
    {
      "cell_type": "markdown",
      "metadata": {
        "id": "vkjYyFd-LDm0"
      },
      "source": [
        "## function"
      ]
    },
    {
      "cell_type": "markdown",
      "metadata": {
        "id": "fA4Y85_6LG__"
      },
      "source": [
        "### find id "
      ]
    },
    {
      "cell_type": "code",
      "metadata": {
        "id": "6Vzk2_QxLJW9"
      },
      "source": [
        "def find_name(idx):\n",
        "  for i in range(len(dataJson['images'])):\n",
        "    if idx == dataJson['images'][i]['id']:\n",
        "      return dataJson['images'][i]['file_name'],[dataJson['images'][i]['width'],dataJson['images'][i]['height']]"
      ],
      "execution_count": null,
      "outputs": []
    },
    {
      "cell_type": "markdown",
      "metadata": {
        "id": "9RvYPbDuK4eg"
      },
      "source": [
        "### check has in data"
      ]
    },
    {
      "cell_type": "code",
      "metadata": {
        "id": "rmH0JLgRK_mw"
      },
      "source": [
        "def check(img_name,df):\n",
        "  for name in df['image_names']:\n",
        "    if img_name == name.split(\"/\")[-1] :\n",
        "      return True\n",
        "  return False"
      ],
      "execution_count": null,
      "outputs": []
    },
    {
      "cell_type": "markdown",
      "metadata": {
        "id": "4YhVyY1HzFIr"
      },
      "source": [
        "## get bbox and label"
      ]
    },
    {
      "cell_type": "markdown",
      "metadata": {
        "id": "SOGbyqB4LWPr"
      },
      "source": [
        "### create **dataFrame**"
      ]
    },
    {
      "cell_type": "code",
      "metadata": {
        "id": "N2otWO6WdwAk"
      },
      "source": [
        "# khởi tạo dataFrame\n",
        "dfcols = [\"image_names\",\"xmin\",\"ymin\",\"xmax\",\"ymax\",\"categories\"]\n",
        "data_train = pd.DataFrame(columns=dfcols)"
      ],
      "execution_count": null,
      "outputs": []
    },
    {
      "cell_type": "markdown",
      "metadata": {
        "id": "ECDc9MyKLajj"
      },
      "source": [
        "### Read data has nine dash line"
      ]
    },
    {
      "cell_type": "code",
      "metadata": {
        "id": "VTGVtABMzesa"
      },
      "source": [
        "count = 0\n",
        "for i in range(len(dataJson['annotations'])):\n",
        "  imgName,w_h = find_name(dataJson['annotations'][i]['image_id'])\n",
        "  if(check(imgName,data_train) == False):\n",
        "    count+=1;\n",
        "  imgBbox = dataJson['annotations'][i]['bbox']\n",
        "  data = ['/content/drive/MyDrive/Faster_RCNN/data_train/images/'+imgName] + [imgBbox[0],imgBbox[1],imgBbox[0] + imgBbox[2],imgBbox[1] + imgBbox[3]] + [\"yes\"]\n",
        "  data_train = data_train.append(pd.Series(data, index=dfcols),ignore_index=True)"
      ],
      "execution_count": null,
      "outputs": []
    },
    {
      "cell_type": "code",
      "metadata": {
        "colab": {
          "base_uri": "https://localhost:8080/"
        },
        "id": "UjblATxzMIpT",
        "outputId": "019d4fae-cc80-4f51-d53f-549668c30c32"
      },
      "source": [
        "print(\"img has value\", count)\n",
        "data_train = data_train.sample(frac = 1)\n",
        "data_train.head"
      ],
      "execution_count": null,
      "outputs": [
        {
          "output_type": "stream",
          "name": "stdout",
          "text": [
            "img has value 800\n"
          ]
        },
        {
          "output_type": "execute_result",
          "data": {
            "text/plain": [
              "<bound method NDFrame.head of                                            image_names xmin  ... ymax categories\n",
              "703  /content/drive/MyDrive/Faster_RCNN/data_train/...  134  ...  347        yes\n",
              "632  /content/drive/MyDrive/Faster_RCNN/data_train/...   80  ...  355        yes\n",
              "586  /content/drive/MyDrive/Faster_RCNN/data_train/...  169  ...  141        yes\n",
              "284  /content/drive/MyDrive/Faster_RCNN/data_train/...  340  ...  387        yes\n",
              "184  /content/drive/MyDrive/Faster_RCNN/data_train/...  397  ...  536        yes\n",
              "..                                                 ...  ...  ...  ...        ...\n",
              "887  /content/drive/MyDrive/Faster_RCNN/data_train/...  360  ...  882        yes\n",
              "16   /content/drive/MyDrive/Faster_RCNN/data_train/...  133  ...  479        yes\n",
              "430  /content/drive/MyDrive/Faster_RCNN/data_train/...  306  ...  651        yes\n",
              "425  /content/drive/MyDrive/Faster_RCNN/data_train/...   96  ...  286        yes\n",
              "37   /content/drive/MyDrive/Faster_RCNN/data_train/...  141  ...  381        yes\n",
              "\n",
              "[912 rows x 6 columns]>"
            ]
          },
          "metadata": {},
          "execution_count": 112
        }
      ]
    },
    {
      "cell_type": "markdown",
      "metadata": {
        "id": "iZzRSp5kLlOq"
      },
      "source": [
        "### read data background"
      ]
    },
    {
      "cell_type": "code",
      "metadata": {
        "id": "QpM7siGeKVaH"
      },
      "source": [
        "count  = 0\n",
        "for i in range(len(dataJson['images'])):\n",
        "  imgName = dataJson['images'][i]['file_name']\n",
        "  if (check(imgName,data_train) == False):\n",
        "    count += 1\n",
        "    data = ['/content/drive/MyDrive/Faster_RCNN/data_train/images/'+imgName] + [0,0,0,0] + ['bg']\n",
        "    data_train = data_train.append(pd.Series(data, index=dfcols),ignore_index=True)"
      ],
      "execution_count": null,
      "outputs": []
    },
    {
      "cell_type": "code",
      "metadata": {
        "id": "t0EG3KU2OXzH",
        "colab": {
          "base_uri": "https://localhost:8080/",
          "height": 702
        },
        "outputId": "034808f1-4820-4ab1-cc0d-92df1f736863"
      },
      "source": [
        "print(\"img backgound\", count)\n",
        "data_train = data_train.sample(frac = 1)\n",
        "data_train.head(20)"
      ],
      "execution_count": null,
      "outputs": [
        {
          "output_type": "stream",
          "name": "stdout",
          "text": [
            "img backgound 1790\n"
          ]
        },
        {
          "output_type": "execute_result",
          "data": {
            "text/html": [
              "<div>\n",
              "<style scoped>\n",
              "    .dataframe tbody tr th:only-of-type {\n",
              "        vertical-align: middle;\n",
              "    }\n",
              "\n",
              "    .dataframe tbody tr th {\n",
              "        vertical-align: top;\n",
              "    }\n",
              "\n",
              "    .dataframe thead th {\n",
              "        text-align: right;\n",
              "    }\n",
              "</style>\n",
              "<table border=\"1\" class=\"dataframe\">\n",
              "  <thead>\n",
              "    <tr style=\"text-align: right;\">\n",
              "      <th></th>\n",
              "      <th>image_names</th>\n",
              "      <th>xmin</th>\n",
              "      <th>ymin</th>\n",
              "      <th>xmax</th>\n",
              "      <th>ymax</th>\n",
              "      <th>categories</th>\n",
              "    </tr>\n",
              "  </thead>\n",
              "  <tbody>\n",
              "    <tr>\n",
              "      <th>1977</th>\n",
              "      <td>/content/drive/MyDrive/Faster_RCNN/data_train/...</td>\n",
              "      <td>0</td>\n",
              "      <td>0</td>\n",
              "      <td>0</td>\n",
              "      <td>0</td>\n",
              "      <td>bg</td>\n",
              "    </tr>\n",
              "    <tr>\n",
              "      <th>963</th>\n",
              "      <td>/content/drive/MyDrive/Faster_RCNN/data_train/...</td>\n",
              "      <td>0</td>\n",
              "      <td>0</td>\n",
              "      <td>0</td>\n",
              "      <td>0</td>\n",
              "      <td>bg</td>\n",
              "    </tr>\n",
              "    <tr>\n",
              "      <th>1988</th>\n",
              "      <td>/content/drive/MyDrive/Faster_RCNN/data_train/...</td>\n",
              "      <td>0</td>\n",
              "      <td>0</td>\n",
              "      <td>0</td>\n",
              "      <td>0</td>\n",
              "      <td>bg</td>\n",
              "    </tr>\n",
              "    <tr>\n",
              "      <th>720</th>\n",
              "      <td>/content/drive/MyDrive/Faster_RCNN/data_train/...</td>\n",
              "      <td>726</td>\n",
              "      <td>20</td>\n",
              "      <td>976</td>\n",
              "      <td>366</td>\n",
              "      <td>yes</td>\n",
              "    </tr>\n",
              "    <tr>\n",
              "      <th>676</th>\n",
              "      <td>/content/drive/MyDrive/Faster_RCNN/data_train/...</td>\n",
              "      <td>343</td>\n",
              "      <td>248</td>\n",
              "      <td>430</td>\n",
              "      <td>375</td>\n",
              "      <td>yes</td>\n",
              "    </tr>\n",
              "    <tr>\n",
              "      <th>1834</th>\n",
              "      <td>/content/drive/MyDrive/Faster_RCNN/data_train/...</td>\n",
              "      <td>0</td>\n",
              "      <td>0</td>\n",
              "      <td>0</td>\n",
              "      <td>0</td>\n",
              "      <td>bg</td>\n",
              "    </tr>\n",
              "    <tr>\n",
              "      <th>2369</th>\n",
              "      <td>/content/drive/MyDrive/Faster_RCNN/data_train/...</td>\n",
              "      <td>0</td>\n",
              "      <td>0</td>\n",
              "      <td>0</td>\n",
              "      <td>0</td>\n",
              "      <td>bg</td>\n",
              "    </tr>\n",
              "    <tr>\n",
              "      <th>172</th>\n",
              "      <td>/content/drive/MyDrive/Faster_RCNN/data_train/...</td>\n",
              "      <td>450</td>\n",
              "      <td>215</td>\n",
              "      <td>547</td>\n",
              "      <td>356</td>\n",
              "      <td>yes</td>\n",
              "    </tr>\n",
              "    <tr>\n",
              "      <th>2162</th>\n",
              "      <td>/content/drive/MyDrive/Faster_RCNN/data_train/...</td>\n",
              "      <td>0</td>\n",
              "      <td>0</td>\n",
              "      <td>0</td>\n",
              "      <td>0</td>\n",
              "      <td>bg</td>\n",
              "    </tr>\n",
              "    <tr>\n",
              "      <th>1866</th>\n",
              "      <td>/content/drive/MyDrive/Faster_RCNN/data_train/...</td>\n",
              "      <td>0</td>\n",
              "      <td>0</td>\n",
              "      <td>0</td>\n",
              "      <td>0</td>\n",
              "      <td>bg</td>\n",
              "    </tr>\n",
              "    <tr>\n",
              "      <th>817</th>\n",
              "      <td>/content/drive/MyDrive/Faster_RCNN/data_train/...</td>\n",
              "      <td>167</td>\n",
              "      <td>243</td>\n",
              "      <td>703</td>\n",
              "      <td>865</td>\n",
              "      <td>yes</td>\n",
              "    </tr>\n",
              "    <tr>\n",
              "      <th>2478</th>\n",
              "      <td>/content/drive/MyDrive/Faster_RCNN/data_train/...</td>\n",
              "      <td>0</td>\n",
              "      <td>0</td>\n",
              "      <td>0</td>\n",
              "      <td>0</td>\n",
              "      <td>bg</td>\n",
              "    </tr>\n",
              "    <tr>\n",
              "      <th>698</th>\n",
              "      <td>/content/drive/MyDrive/Faster_RCNN/data_train/...</td>\n",
              "      <td>170</td>\n",
              "      <td>59</td>\n",
              "      <td>314</td>\n",
              "      <td>260</td>\n",
              "      <td>yes</td>\n",
              "    </tr>\n",
              "    <tr>\n",
              "      <th>737</th>\n",
              "      <td>/content/drive/MyDrive/Faster_RCNN/data_train/...</td>\n",
              "      <td>247</td>\n",
              "      <td>32</td>\n",
              "      <td>671</td>\n",
              "      <td>296</td>\n",
              "      <td>yes</td>\n",
              "    </tr>\n",
              "    <tr>\n",
              "      <th>2212</th>\n",
              "      <td>/content/drive/MyDrive/Faster_RCNN/data_train/...</td>\n",
              "      <td>0</td>\n",
              "      <td>0</td>\n",
              "      <td>0</td>\n",
              "      <td>0</td>\n",
              "      <td>bg</td>\n",
              "    </tr>\n",
              "    <tr>\n",
              "      <th>2300</th>\n",
              "      <td>/content/drive/MyDrive/Faster_RCNN/data_train/...</td>\n",
              "      <td>0</td>\n",
              "      <td>0</td>\n",
              "      <td>0</td>\n",
              "      <td>0</td>\n",
              "      <td>bg</td>\n",
              "    </tr>\n",
              "    <tr>\n",
              "      <th>2357</th>\n",
              "      <td>/content/drive/MyDrive/Faster_RCNN/data_train/...</td>\n",
              "      <td>0</td>\n",
              "      <td>0</td>\n",
              "      <td>0</td>\n",
              "      <td>0</td>\n",
              "      <td>bg</td>\n",
              "    </tr>\n",
              "    <tr>\n",
              "      <th>1586</th>\n",
              "      <td>/content/drive/MyDrive/Faster_RCNN/data_train/...</td>\n",
              "      <td>0</td>\n",
              "      <td>0</td>\n",
              "      <td>0</td>\n",
              "      <td>0</td>\n",
              "      <td>bg</td>\n",
              "    </tr>\n",
              "    <tr>\n",
              "      <th>984</th>\n",
              "      <td>/content/drive/MyDrive/Faster_RCNN/data_train/...</td>\n",
              "      <td>0</td>\n",
              "      <td>0</td>\n",
              "      <td>0</td>\n",
              "      <td>0</td>\n",
              "      <td>bg</td>\n",
              "    </tr>\n",
              "    <tr>\n",
              "      <th>1320</th>\n",
              "      <td>/content/drive/MyDrive/Faster_RCNN/data_train/...</td>\n",
              "      <td>0</td>\n",
              "      <td>0</td>\n",
              "      <td>0</td>\n",
              "      <td>0</td>\n",
              "      <td>bg</td>\n",
              "    </tr>\n",
              "  </tbody>\n",
              "</table>\n",
              "</div>"
            ],
            "text/plain": [
              "                                            image_names xmin  ... ymax categories\n",
              "1977  /content/drive/MyDrive/Faster_RCNN/data_train/...    0  ...    0         bg\n",
              "963   /content/drive/MyDrive/Faster_RCNN/data_train/...    0  ...    0         bg\n",
              "1988  /content/drive/MyDrive/Faster_RCNN/data_train/...    0  ...    0         bg\n",
              "720   /content/drive/MyDrive/Faster_RCNN/data_train/...  726  ...  366        yes\n",
              "676   /content/drive/MyDrive/Faster_RCNN/data_train/...  343  ...  375        yes\n",
              "1834  /content/drive/MyDrive/Faster_RCNN/data_train/...    0  ...    0         bg\n",
              "2369  /content/drive/MyDrive/Faster_RCNN/data_train/...    0  ...    0         bg\n",
              "172   /content/drive/MyDrive/Faster_RCNN/data_train/...  450  ...  356        yes\n",
              "2162  /content/drive/MyDrive/Faster_RCNN/data_train/...    0  ...    0         bg\n",
              "1866  /content/drive/MyDrive/Faster_RCNN/data_train/...    0  ...    0         bg\n",
              "817   /content/drive/MyDrive/Faster_RCNN/data_train/...  167  ...  865        yes\n",
              "2478  /content/drive/MyDrive/Faster_RCNN/data_train/...    0  ...    0         bg\n",
              "698   /content/drive/MyDrive/Faster_RCNN/data_train/...  170  ...  260        yes\n",
              "737   /content/drive/MyDrive/Faster_RCNN/data_train/...  247  ...  296        yes\n",
              "2212  /content/drive/MyDrive/Faster_RCNN/data_train/...    0  ...    0         bg\n",
              "2300  /content/drive/MyDrive/Faster_RCNN/data_train/...    0  ...    0         bg\n",
              "2357  /content/drive/MyDrive/Faster_RCNN/data_train/...    0  ...    0         bg\n",
              "1586  /content/drive/MyDrive/Faster_RCNN/data_train/...    0  ...    0         bg\n",
              "984   /content/drive/MyDrive/Faster_RCNN/data_train/...    0  ...    0         bg\n",
              "1320  /content/drive/MyDrive/Faster_RCNN/data_train/...    0  ...    0         bg\n",
              "\n",
              "[20 rows x 6 columns]"
            ]
          },
          "metadata": {},
          "execution_count": 114
        }
      ]
    },
    {
      "cell_type": "code",
      "metadata": {
        "colab": {
          "base_uri": "https://localhost:8080/"
        },
        "id": "G2Yo2xDYzP57",
        "outputId": "55629612-6998-493e-ad26-2f3c23f4caeb"
      },
      "source": [
        "data_train['categories'].value_counts()"
      ],
      "execution_count": null,
      "outputs": [
        {
          "output_type": "execute_result",
          "data": {
            "text/plain": [
              "bg     1790\n",
              "yes     912\n",
              "Name: categories, dtype: int64"
            ]
          },
          "metadata": {},
          "execution_count": 115
        }
      ]
    },
    {
      "cell_type": "markdown",
      "metadata": {
        "id": "kBct-8iozJeB"
      },
      "source": [
        "## save bbox and label"
      ]
    },
    {
      "cell_type": "code",
      "metadata": {
        "id": "sWVgvu4CiC2y"
      },
      "source": [
        "data_train.to_csv('/content/annotations.txt',index=False,header=False)"
      ],
      "execution_count": null,
      "outputs": []
    },
    {
      "cell_type": "markdown",
      "metadata": {
        "id": "frItcoNiTmdd"
      },
      "source": [
        "# get annotation test *data*"
      ]
    },
    {
      "cell_type": "markdown",
      "metadata": {
        "id": "NO7XEOSpTxCL"
      },
      "source": [
        "## import "
      ]
    },
    {
      "cell_type": "code",
      "metadata": {
        "id": "FpcBniszTrhN"
      },
      "source": [
        "import xml.etree.cElementTree as ET\n",
        "from os import listdir\n",
        "from os.path import isfile, join\n",
        "import pandas as pd"
      ],
      "execution_count": null,
      "outputs": []
    },
    {
      "cell_type": "markdown",
      "metadata": {
        "id": "IZeHIgaaTyn-"
      },
      "source": [
        "## "
      ]
    },
    {
      "cell_type": "code",
      "metadata": {
        "id": "rmmKx200T1OX"
      },
      "source": [
        "# khởi tạo dataFrame\n",
        "dfcols = [\"image_names\",\"xmin\",\"ymin\",\"xmax\",\"ymax\",\"categories\"]\n",
        "data_test = pd.DataFrame(columns=dfcols)\n",
        "\n",
        "root_xmls = \"/content/drive/MyDrive/nine_dash_lines/zalo_hackathon_2019/zai2019_hackathon_public/zai2019_hackaton_public/images/annotated_val\"\n",
        "xml_paths = [join(root_xmls, f) for f in listdir(root_xmls) if isfile(join(root_xmls, f))]\n",
        "\n",
        "for xml_path in xml_paths:\n",
        "  tree = ET.ElementTree(file=xml_path)\n",
        "  root = tree.getroot()\n",
        "  \n",
        "  for child_of_root in root:\n",
        "    if child_of_root.tag == \"filename\":\n",
        "      name_image = child_of_root.text\n",
        "    if child_of_root.tag == \"object\":\n",
        "      for child_of_object in child_of_root:\n",
        "        if child_of_object.tag == \"bndbox\":\n",
        "          row = []\n",
        "          row.append(name_image)\n",
        "          for bbox in child_of_object:\n",
        "            row.append(bbox.text)\n",
        "          row.append('yes')\n",
        "          data_test = data_test.append(pd.Series(row, index=dfcols),ignore_index=True)"
      ],
      "execution_count": null,
      "outputs": []
    },
    {
      "cell_type": "code",
      "metadata": {
        "colab": {
          "base_uri": "https://localhost:8080/"
        },
        "id": "7Ia9Zcz6Vzcl",
        "outputId": "a560d753-2075-469d-8b16-494109f9189e"
      },
      "source": [
        "data_test.head"
      ],
      "execution_count": null,
      "outputs": [
        {
          "output_type": "execute_result",
          "data": {
            "text/plain": [
              "<bound method NDFrame.head of    image_names xmin ymin xmax ymax categories\n",
              "0      108.jpg  136   22  454  310        yes\n",
              "1      195.jpg  233  189  276  250        yes\n",
              "2      141.jpg   66   66  493  682        yes\n",
              "3      065.jpg  188    8  521  434        yes\n",
              "4      264.jpg  214  119  292  246        yes\n",
              "..         ...  ...  ...  ...  ...        ...\n",
              "67     314.jpg  154   60  505  551        yes\n",
              "68     263.jpg  405  431  606  737        yes\n",
              "69     079.jpg  221   60  602  561        yes\n",
              "70     106.jpg   52   50  389  510        yes\n",
              "71     019.jpg  241   38  369  215        yes\n",
              "\n",
              "[72 rows x 6 columns]>"
            ]
          },
          "metadata": {},
          "execution_count": 180
        }
      ]
    },
    {
      "cell_type": "code",
      "metadata": {
        "id": "9GP1-bAIXJ1h"
      },
      "source": [
        "def check(img_name,df):\n",
        "  for img_path in df['image_names']:\n",
        "    if (img_path == img_name):\n",
        "      return False\n",
        "  return True"
      ],
      "execution_count": null,
      "outputs": []
    },
    {
      "cell_type": "code",
      "metadata": {
        "id": "FUudpWHWWWEC"
      },
      "source": [
        "root_image = \"/content/drive/MyDrive/nine_dash_lines/zalo_hackathon_2019/zai2019_hackathon_public/zai2019_hackaton_public/images/val\"\n",
        "img_paths = [f for f in listdir(root_image) if isfile(join(root_image, f))]\n",
        "\n",
        "df1 = data_test.copy()\n",
        "\n",
        "for img_path in img_paths:\n",
        "  if (check(img_path,data_test)):\n",
        "    row = [img_path,0,0,0,0,'bg']\n",
        "    df1 = df1.append(pd.Series(row, index=dfcols),ignore_index=True)"
      ],
      "execution_count": null,
      "outputs": []
    },
    {
      "cell_type": "code",
      "metadata": {
        "colab": {
          "base_uri": "https://localhost:8080/"
        },
        "id": "23FRtvZfW3hF",
        "outputId": "e4c1bda7-d538-41cb-88ab-7b99945dd425"
      },
      "source": [
        "df1.head"
      ],
      "execution_count": null,
      "outputs": [
        {
          "output_type": "execute_result",
          "data": {
            "text/plain": [
              "<bound method NDFrame.head of     image_names xmin ymin xmax ymax categories\n",
              "0       108.jpg  136   22  454  310        yes\n",
              "1       195.jpg  233  189  276  250        yes\n",
              "2       141.jpg   66   66  493  682        yes\n",
              "3       065.jpg  188    8  521  434        yes\n",
              "4       264.jpg  214  119  292  246        yes\n",
              "..          ...  ...  ...  ...  ...        ...\n",
              "394     171.jpg    0    0    0    0         bg\n",
              "395     306.jpg    0    0    0    0         bg\n",
              "396     133.jpg    0    0    0    0         bg\n",
              "397     158.jpg    0    0    0    0         bg\n",
              "398     182.jpg    0    0    0    0         bg\n",
              "\n",
              "[399 rows x 6 columns]>"
            ]
          },
          "metadata": {},
          "execution_count": 185
        }
      ]
    },
    {
      "cell_type": "code",
      "metadata": {
        "id": "l0U84EaIYgGh"
      },
      "source": [
        "data_test = pd.DataFrame()\n",
        "data_test['format'] = df1['image_names']\n",
        "\n",
        "# as the images are in train_images folder, add train_images before the image name\n",
        "for i in range(data_test.shape[0]):\n",
        "    data_test['format'][i] = \"/content/drive/MyDrive/Faster_RCNN/data_test/images/\" + data_test['format'][i]\n",
        "\n",
        "# add xmin, ymin, xmax, ymax and class as per the format required\n",
        "for i in range(data_test.shape[0]):\n",
        "    data_test['format'][i] = str(data_test['format'][i]) + ',' + str(df1['xmin'][i]) + ',' + str(df1['ymin'][i]) + ',' + str(df1['xmax'][i]) + ',' + str(df1['ymax'][i]) + ',' + str(df1['categories'][i])\n",
        " "
      ],
      "execution_count": null,
      "outputs": []
    },
    {
      "cell_type": "code",
      "metadata": {
        "colab": {
          "base_uri": "https://localhost:8080/"
        },
        "id": "5G-b_jcPYy7H",
        "outputId": "a0db0e43-87f6-460b-cfb3-2e91d8acc3ea"
      },
      "source": [
        "df1['categories'].value_counts()"
      ],
      "execution_count": null,
      "outputs": [
        {
          "output_type": "execute_result",
          "data": {
            "text/plain": [
              "bg     327\n",
              "yes     72\n",
              "Name: categories, dtype: int64"
            ]
          },
          "metadata": {},
          "execution_count": 187
        }
      ]
    },
    {
      "cell_type": "code",
      "metadata": {
        "id": "XjcNuZ41Y3Rr"
      },
      "source": [
        "data_test.to_csv('/content/annotations_public.txt',index=False,header=False)"
      ],
      "execution_count": null,
      "outputs": []
    }
  ]
}