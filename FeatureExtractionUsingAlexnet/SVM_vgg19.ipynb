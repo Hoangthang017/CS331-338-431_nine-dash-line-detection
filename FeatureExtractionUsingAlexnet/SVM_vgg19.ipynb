{
  "nbformat": 4,
  "nbformat_minor": 0,
  "metadata": {
    "colab": {
      "name": "SVM-vgg19.ipynb",
      "provenance": [],
      "collapsed_sections": [],
      "authorship_tag": "ABX9TyOmUEywZl62MDNdAXte+5BX",
      "include_colab_link": true
    },
    "kernelspec": {
      "name": "python3",
      "display_name": "Python 3"
    },
    "language_info": {
      "name": "python"
    }
  },
  "cells": [
    {
      "cell_type": "markdown",
      "metadata": {
        "id": "view-in-github",
        "colab_type": "text"
      },
      "source": [
        "<a href=\"https://colab.research.google.com/github/Hoangthang017/CS331-338-431_nine-dash-line-detection/blob/main/FeatureExtractionUsingAlexnet/SVM_vgg19.ipynb\" target=\"_parent\"><img src=\"https://colab.research.google.com/assets/colab-badge.svg\" alt=\"Open In Colab\"/></a>"
      ]
    },
    {
      "cell_type": "code",
      "metadata": {
        "id": "m3DgHTCp0hqv",
        "colab": {
          "base_uri": "https://localhost:8080/"
        },
        "outputId": "6c9d1f5b-1c83-4f40-d182-e9e59ecdfa74"
      },
      "source": [
        "# kết nối với gg.\n",
        "from google.colab import drive\n",
        "drive.mount('/content/drive')"
      ],
      "execution_count": null,
      "outputs": [
        {
          "output_type": "stream",
          "text": [
            "Drive already mounted at /content/drive; to attempt to forcibly remount, call drive.mount(\"/content/drive\", force_remount=True).\n"
          ],
          "name": "stdout"
        }
      ]
    },
    {
      "cell_type": "code",
      "metadata": {
        "id": "e73cU1Al1Bny",
        "colab": {
          "base_uri": "https://localhost:8080/",
          "height": 129
        },
        "outputId": "d4cc347c-d358-4346-a2af-050e5c33f41a"
      },
      "source": [
        "# thêm thư viện.\n",
        "import numpy as np\n",
        "from sklearn.pipeline import make_pipeline\n",
        "from sklearn.preprocessing import StandardScaler\n",
        "from sklearn.svm import SVC\n",
        "from sklearn import metrics\n",
        "from sklearn.metrics import classification_report, f1_score, accuracy_score, recall_score, precision_score, make_scorer\n",
        "import matplotlib.pyplot as plt\n",
        "from sklearn.model_selection import train_test_split\n",
        "import seaborn as sn\n",
        "from sklearn.model_selection import cross_validate\n",
        "import pandas as pd\n",
        "from sklearn.model_selection import KFold\n",
        "from sklearn.metrics import confusion_matrix\n",
        "from keras.models import Sequential\n",
        "from keras.layers import Dense, Activation, Dropout, Flatten, Conv2D, MaxPooling2D\n",
        "from keras.layers.normalization import BatchNormalization\n",
        "from tensorflow.keras.preprocessing.image import load_img\n",
        "from tensorflow.keras.preprocessing.image import img_to_array\n",
        "\n",
        "from imutils import paths\n",
        "import os"
      ],
      "execution_count": null,
      "outputs": [
        {
          "output_type": "error",
          "ename": "SyntaxError",
          "evalue": "ignored",
          "traceback": [
            "\u001b[0;36m  File \u001b[0;32m\"<ipython-input-7-5843aa5fc992>\"\u001b[0;36m, line \u001b[0;32m10\u001b[0m\n\u001b[0;31m    form sklearn import model_selection\u001b[0m\n\u001b[0m               ^\u001b[0m\n\u001b[0;31mSyntaxError\u001b[0m\u001b[0;31m:\u001b[0m invalid syntax\n"
          ]
        }
      ]
    },
    {
      "cell_type": "code",
      "metadata": {
        "id": "vccV4iHpdaEq"
      },
      "source": [
        "# đọc dữ liệu từ các file .txt thông qua thư viện numpy.\n",
        "feature_FC1 = np.loadtxt('/content/drive/MyDrive/Data Nine-Dash-Lines/DataFrame/FC1_features_vgg19.txt')\n",
        "feature_FC2 = np.loadtxt('/content/drive/MyDrive/Data Nine-Dash-Lines/DataFrame/FC2_features_vgg19.txt')\n",
        "\n",
        "\n",
        "labels_FC1 = np.loadtxt('/content/drive/MyDrive/Data Nine-Dash-Lines/DataFrame/FC1_labels_vgg19.txt')\n",
        "labels_FC2 = np.loadtxt('/content/drive/MyDrive/Data Nine-Dash-Lines/DataFrame/FC2_labels_vgg19.txt')"
      ],
      "execution_count": null,
      "outputs": []
    },
    {
      "cell_type": "code",
      "metadata": {
        "id": "8fu0nY6sLDrd"
      },
      "source": [
        "test1 = np.loadtxt(\"/content/drive/MyDrive/Data Nine-Dash-Lines/DataFrame/test/test_FC1_features_vgg19.txt\")\n",
        "test1_label = np.loadtxt('/content/drive/MyDrive/Data Nine-Dash-Lines/DataFrame/test/test_FC1_labels_vgg19.txt')"
      ],
      "execution_count": null,
      "outputs": []
    },
    {
      "cell_type": "code",
      "metadata": {
        "id": "5KoaD-_bLye8"
      },
      "source": [
        "test2 = np.loadtxt(\"/content/drive/MyDrive/Data Nine-Dash-Lines/DataFrame/test/test_FC2_features_vgg19.txt\")\n",
        "test2_label = np.loadtxt('/content/drive/MyDrive/Data Nine-Dash-Lines/DataFrame/test/test_FC2_labels_vgg19.txt')"
      ],
      "execution_count": null,
      "outputs": []
    },
    {
      "cell_type": "code",
      "metadata": {
        "id": "zdy7piJR3VSs",
        "colab": {
          "base_uri": "https://localhost:8080/",
          "height": 921
        },
        "outputId": "f8bdd4c9-279d-4eab-e909-28d25512fe4a"
      },
      "source": [
        "\n",
        "X = feature_FC2\n",
        "y = labels_FC2\n",
        "clf_FC1 = SVC(kernel='linear', random_state=1)\n",
        "kfold = KFold(n_splits=10, random_state=42,shuffle=True)\n",
        "res_conf = []\n",
        "##########################\n",
        "sum_confusion = [[0, 0],\n",
        "                 [0, 0]]\n",
        "fold_idx = 1\n",
        "for train_ids, val_ids in kfold.split(X, y):\n",
        " \n",
        "  # Train model\n",
        "  clf_FC1.fit(X[train_ids], y[train_ids])\n",
        "  print(\"---------------------------------\")\n",
        "  print(clf_FC1.predict(test2))\n",
        "  print(test1_label)\n",
        "\n",
        "  conf_maxtrix = confusion_matrix(y[val_ids],clf_FC1.predict(X[val_ids]))\n",
        "  res_conf.append(conf_maxtrix)\n",
        "\n",
        "  fold_idx = fold_idx + 1\n",
        "\n",
        "######################\n",
        "scoring = {'accuracy' : make_scorer(accuracy_score), \n",
        "           'precision' : make_scorer(precision_score),\n",
        "           'recall' : make_scorer(recall_score), \n",
        "           'f1_score' : make_scorer(f1_score)}\n",
        "\n",
        "results = cross_validate(estimator=clf_FC1,\n",
        "                                          X=X,\n",
        "                                          y=y,\n",
        "                                          cv=kfold,\n",
        "                                          scoring=scoring)\n",
        "\n",
        "####################\n",
        "precision = np.average(results['test_precision'])\n",
        "recall = np.average(results['test_recall'])\n",
        "acc = np.average(results['test_accuracy'])\n",
        "f1 = np.average(results['test_f1_score'])\n",
        "print(\"Precision: \", format(precision, '.2f'))\n",
        "print(\"Recall: \", format(recall, '.2f'))\n",
        "print(\"Accuracy: \", format(acc, '.2f'))\n",
        "print(\"f1_score: \", format(f1, '.2f'))\n",
        "\n",
        "# print(sum_confusion)\n",
        "# print(sum_confusion/(fold_idx - 1) )\n",
        "# t = sum_confusion/(fold_idx - 1)\n",
        "# df_cm = pd.DataFrame(t.round(), index = [i for i in \"AB\"],\n",
        "#                   columns = [i for i in \"AB\"])\n",
        "# plt.figure(figsize = (6, 5))\n",
        "# sn.heatmap(df_cm, annot=True)\n",
        "\n",
        "mean_res_conf = np.mean(res_conf,axis=0)\n",
        "df_cm = pd.DataFrame(mean_res_conf.round(), index = [i for i in \"AB\"],\n",
        "                  columns = [i for i in \"AB\"])\n",
        "plt.figure(figsize = (6, 5))\n",
        "sn.heatmap(df_cm, annot=True)"
      ],
      "execution_count": null,
      "outputs": [
        {
          "output_type": "stream",
          "text": [
            "---------------------------------\n",
            "[0. 0. 0. 0.]\n",
            "[0. 0. 1. 1.]\n",
            "---------------------------------\n",
            "[0. 1. 0. 0.]\n",
            "[0. 0. 1. 1.]\n",
            "---------------------------------\n",
            "[0. 0. 1. 0.]\n",
            "[0. 0. 1. 1.]\n",
            "---------------------------------\n",
            "[0. 1. 1. 0.]\n",
            "[0. 0. 1. 1.]\n",
            "---------------------------------\n",
            "[0. 0. 0. 0.]\n",
            "[0. 0. 1. 1.]\n",
            "---------------------------------\n",
            "[0. 0. 0. 0.]\n",
            "[0. 0. 1. 1.]\n",
            "---------------------------------\n",
            "[0. 0. 0. 0.]\n",
            "[0. 0. 1. 1.]\n",
            "---------------------------------\n",
            "[0. 0. 1. 0.]\n",
            "[0. 0. 1. 1.]\n",
            "---------------------------------\n",
            "[0. 0. 0. 0.]\n",
            "[0. 0. 1. 1.]\n",
            "---------------------------------\n",
            "[0. 0. 0. 0.]\n",
            "[0. 0. 1. 1.]\n",
            "Precision:  0.73\n",
            "Recall:  0.80\n",
            "Accuracy:  0.74\n",
            "f1_score:  0.75\n"
          ],
          "name": "stdout"
        },
        {
          "output_type": "execute_result",
          "data": {
            "text/plain": [
              "<matplotlib.axes._subplots.AxesSubplot at 0x7fe21298db50>"
            ]
          },
          "metadata": {
            "tags": []
          },
          "execution_count": 12
        },
        {
          "output_type": "display_data",
          "data": {
            "image/png": "[encoded data removed]",
            "text/plain": [
              "<Figure size 432x360 with 2 Axes>"
            ]
          },
          "metadata": {
            "tags": [],
            "needs_background": "light"
          }
        }
      ]
    },
    {
      "cell_type": "code",
      "metadata": {
        "colab": {
          "base_uri": "https://localhost:8080/",
          "height": 955
        },
        "id": "p2DU9uaRIpR1",
        "outputId": "3f8a2b6f-ec93-4054-aa2c-4c568c7537cb"
      },
      "source": [
        "model_svm =None\n",
        "X = feature_FC2\n",
        "y = labels_FC2\n",
        "clf_FC2 = SVC(kernel='linear', random_state=1)\n",
        "kfold = KFold(n_splits=10, random_state=42,shuffle=True)\n",
        "res_conf = []\n",
        "##########################\n",
        "sum_confusion = [[0, 0],\n",
        "                 [0, 0]]\n",
        "fold_idx = 1\n",
        "for train_ids, val_ids in kfold.split(X, y):\n",
        " \n",
        "  # Train model\n",
        "  clf_FC2.fit(X[train_ids], y[train_ids])\n",
        "\n",
        "  print(\"---------------------------------\")\n",
        "  print(clf_FC2.predict(test2))\n",
        "  print(test2_label)\n",
        "\n",
        "  conf_maxtrix = confusion_matrix(y[val_ids],clf_FC2.predict(X[val_ids]))\n",
        "  res_conf.append(conf_maxtrix)\n",
        "  if (fold_idx==9):\n",
        "    model_svm = clf_FC2\n",
        "  fold_idx = fold_idx + 1\n",
        "\n",
        "######################\n",
        "scoring = {'accuracy' : make_scorer(accuracy_score), \n",
        "           'precision' : make_scorer(precision_score),\n",
        "           'recall' : make_scorer(recall_score), \n",
        "           'f1_score' : make_scorer(f1_score)}\n",
        "\n",
        "results = cross_validate(estimator=clf_FC2,\n",
        "                                          X=X,\n",
        "                                          y=y,\n",
        "                                          cv=kfold,\n",
        "                                          scoring=scoring)\n",
        "\n",
        "####################\n",
        "precision = np.average(results['test_precision'])\n",
        "recall = np.average(results['test_recall'])\n",
        "acc = np.average(results['test_accuracy'])\n",
        "f1 = np.average(results['test_f1_score'])\n",
        "print(\"Precision: \", format(precision, '.2f'))\n",
        "print(\"Recall: \", format(recall, '.2f'))\n",
        "print(\"Accuracy: \", format(acc, '.2f'))\n",
        "print(\"f1_score: \", format(f1, '.2f'))\n",
        "\n",
        "print(mean_res_conf)\n",
        "mean_res_conf = np.mean(res_conf,axis=0)\n",
        "df_cm = pd.DataFrame(mean_res_conf.round(), index = [i for i in \"AB\"],\n",
        "                  columns = [i for i in \"AB\"])\n",
        "plt.figure(figsize = (6, 5))\n",
        "sn.heatmap(df_cm, annot=True)"
      ],
      "execution_count": null,
      "outputs": [
        {
          "output_type": "stream",
          "text": [
            "---------------------------------\n",
            "[0. 0. 0. 0.]\n",
            "[0. 0. 1. 1.]\n",
            "---------------------------------\n",
            "[0. 1. 0. 0.]\n",
            "[0. 0. 1. 1.]\n",
            "---------------------------------\n",
            "[0. 0. 1. 0.]\n",
            "[0. 0. 1. 1.]\n",
            "---------------------------------\n",
            "[0. 1. 1. 0.]\n",
            "[0. 0. 1. 1.]\n",
            "---------------------------------\n",
            "[0. 0. 0. 0.]\n",
            "[0. 0. 1. 1.]\n",
            "---------------------------------\n",
            "[0. 0. 0. 0.]\n",
            "[0. 0. 1. 1.]\n",
            "---------------------------------\n",
            "[0. 0. 0. 0.]\n",
            "[0. 0. 1. 1.]\n",
            "---------------------------------\n",
            "[0. 0. 1. 0.]\n",
            "[0. 0. 1. 1.]\n",
            "---------------------------------\n",
            "[0. 0. 0. 0.]\n",
            "[0. 0. 1. 1.]\n",
            "---------------------------------\n",
            "[0. 0. 0. 0.]\n",
            "[0. 0. 1. 1.]\n",
            "Precision:  0.73\n",
            "Recall:  0.80\n",
            "Accuracy:  0.74\n",
            "f1_score:  0.75\n",
            "[[6.8 3.2]\n",
            " [2.  8. ]]\n"
          ],
          "name": "stdout"
        },
        {
          "output_type": "execute_result",
          "data": {
            "text/plain": [
              "<matplotlib.axes._subplots.AxesSubplot at 0x7fe213729090>"
            ]
          },
          "metadata": {
            "tags": []
          },
          "execution_count": 13
        },
        {
          "output_type": "display_data",
          "data": {
            "image/png": "[encoded data removed]",
            "text/plain": [
              "<Figure size 432x360 with 2 Axes>"
            ]
          },
          "metadata": {
            "tags": [],
            "needs_background": "light"
          }
        }
      ]
    },
    {
      "cell_type": "code",
      "metadata": {
        "id": "m0X4TwOU38JM"
      },
      "source": [
        ""
      ],
      "execution_count": null,
      "outputs": []
    },
    {
      "cell_type": "code",
      "metadata": {
        "id": "XvFTFHWvSmN3"
      },
      "source": [
        "# tạo một bộ phân loại.\n",
        "clf_FC1 = make_pipeline(StandardScaler(), SVC(gamma='auto'))\n",
        "\n",
        "# Tiến hành học từ tập dữ liệu train.\n",
        "clf_FC1.fit(feature_FC1, labels)\n",
        "\n",
        "# Tiến hành dự đoán dựa trên tập test\n",
        "predicted_FC1 = clf_FC1.predict(feature_FC1_test)\n",
        "accuracy = accuracy_score(predicted_FC1, labels_FC1_test)\n",
        "precision = precision_score(predicted_FC1, labels_FC1_test)\n",
        "re = recall_score(predicted_FC1, labels_FC1_test)\n",
        "f1 = f1_score(predicted_FC1, labels_FC1_test)\n",
        "\n",
        "# Hiển thị các chỉ số đánh giá chính.\n",
        "print(classification_report(predicted_FC1, labels_FC1_test))\n",
        "\n",
        "# Hiển thị ma trận Confusion matrix\n",
        "conf_FC1 = metrics.plot_confusion_matrix(clf_FC1, feature_FC1_test, labels_FC1_test)\n",
        "conf_FC1.figure_.suptitle(\"Confusion Matrix\")\n",
        "print(f\"Confusion matrix:\\n{conf_FC1.confusion_matrix}\")\n",
        "plt.show()"
      ],
      "execution_count": null,
      "outputs": []
    },
    {
      "cell_type": "markdown",
      "metadata": {
        "id": "VFpCKhqtcHmp"
      },
      "source": [
        "Lớp FC2"
      ]
    },
    {
      "cell_type": "code",
      "metadata": {
        "id": "3AgFKC-JNzOn"
      },
      "source": [
        "# tạo một bộ phân loại.\n",
        "clf_FC2 = make_pipeline(StandardScaler(), SVC(gamma='auto'))\n",
        "\n",
        "# Tiến hành học từ tập dữ liệu train.\n",
        "clf_FC2.fit(feature_FC2_train, labels_FC2_train)\n",
        "\n",
        "# Tiến hành dự đoán dựa trên tập test\n",
        "predicted_FC2 = clf_FC2.predict(feature_FC2_test)\n",
        "\n",
        "# Hiển thị các chỉ số đánh giá chính.\n",
        "print(classification_report(predicted_FC2, labels_FC2_test))\n",
        "\n",
        "# Hiển thị ma trận Confusion matrix\n",
        "conf_FC2 = metrics.plot_confusion_matrix(clf_FC2, feature_FC2_test, labels_FC2_test)\n",
        "conf_FC2.figure_.suptitle(\"Confusion Matrix\")\n",
        "print(f\"Confusion matrix:\\n{conf_FC2.confusion_matrix}\")\n",
        "plt.show()  "
      ],
      "execution_count": null,
      "outputs": []
    },
    {
      "cell_type": "code",
      "metadata": {
        "id": "IRZgFbRO-MtK"
      },
      "source": [
        ""
      ],
      "execution_count": null,
      "outputs": []
    },
    {
      "cell_type": "markdown",
      "metadata": {
        "id": "IzvQDUZ7cEwZ"
      },
      "source": [
        "Lớp FC1"
      ]
    },
    {
      "cell_type": "code",
      "metadata": {
        "id": "d0jxU8rbaKKh"
      },
      "source": [
        "# define Alexnet Architecture\n",
        "class Alexnet:\n",
        "  def __init__(self, cs = 1000,  bp = \"FC3\"):\n",
        "    self.classifer = cs\n",
        "    self.breakPoint = bp\n",
        "    self.model = None\n",
        "\n",
        "  # setting model\n",
        "  def define_model(self):\n",
        "    model = Sequential()\n",
        "    model.add(Conv2D(filters=96, kernel_size=(11,11), strides=(4,4), activation='relu', input_shape=(227,227,3)))\n",
        "    model.add(BatchNormalization())\n",
        "    model.add(MaxPooling2D(pool_size=(3,3), strides=(2,2)))\n",
        "    model.add(Conv2D(filters=256, kernel_size=(5,5), strides=(1,1), activation='relu', padding=\"same\"))\n",
        "    model.add(BatchNormalization())\n",
        "    model.add(MaxPooling2D(pool_size=(3,3), strides=(2,2)))\n",
        "    model.add(Conv2D(filters=384, kernel_size=(3,3), strides=(1,1), activation='relu', padding=\"same\"))\n",
        "    model.add(BatchNormalization())\n",
        "    model.add(Conv2D(filters=384, kernel_size=(3,3), strides=(1,1), activation='relu', padding=\"same\"))\n",
        "    model.add(BatchNormalization())\n",
        "    model.add(Conv2D(filters=256, kernel_size=(3,3), strides=(1,1), activation='relu', padding=\"same\"))\n",
        "    model.add(BatchNormalization())\n",
        "    model.add(MaxPooling2D(pool_size=(3,3), strides=(2,2)))\n",
        "    model.add(Flatten())\n",
        "    model.add(Dense(4096,activation='relu'))\n",
        "\n",
        "    # feature extraction in FC1\n",
        "    if (self.breakPoint == \"FC1\"):\n",
        "      self.model = model\n",
        "      return\n",
        "\n",
        "    model.add(Dropout(0.5))\n",
        "    model.add(Dense(4096,activation='relu'))\n",
        "\n",
        "    # feature extraction in FC2\n",
        "    if (self.breakPoint == \"FC2\"):\n",
        "      self.model = model\n",
        "      return\n",
        "    \n",
        "    model.add(Dropout(0.5))\n",
        "    model.add(Dense(self.classifer,activation='softmax'))\n",
        "    self.model = model\n",
        "\n",
        "  # predict \n",
        "  def predict(self, data):\n",
        "    return self.model.predict(data)\n",
        "\n",
        "  # get summary of model\n",
        "  def summary(self):\n",
        "    print(self.model.summary())\n",
        "\n",
        "  # get model\n",
        "  def get_model(self):\n",
        "    return self.model\n",
        "\n",
        "  # get/set break point\n",
        "  def get_breakPoint(self):\n",
        "    return self.breakPoint\n",
        "  def set_breakPoint(self, bp):\n",
        "    self.breakPoint = bp\n",
        "\n",
        "  # get/set class\n",
        "  def get_class(self):\n",
        "    return self.classifer\n",
        "  def set_class(self, c):\n",
        "    self.classifer = c"
      ],
      "execution_count": null,
      "outputs": []
    },
    {
      "cell_type": "code",
      "metadata": {
        "id": "os1Q90OBaPlI"
      },
      "source": [
        "# get feature from model\n",
        "def getFeature(imagePath, model):\n",
        "  # preprocess image\n",
        "  image = load_img(imagePath,target_size=(227,227))\n",
        "  img_array = img_to_array(image)\n",
        "  img_array = np.expand_dims(img_array, axis=0)\n",
        "\n",
        "  # get feature \n",
        "  feature = model.predict(img_array)\n",
        "  feature = feature.reshape(-1)\n",
        "\n",
        "  return feature"
      ],
      "execution_count": null,
      "outputs": []
    },
    {
      "cell_type": "code",
      "metadata": {
        "id": "ZOg0GwQPaWwt"
      },
      "source": [
        "model = Alexnet(bp = 'FC2')\n",
        "model.define_model()\n",
        "model.summary()\n",
        "image_path = '/content/1922.jpg'\n",
        "fe = getFeature(image_path, model)\n",
        "# print(fe.reshape(-1,1))"
      ],
      "execution_count": null,
      "outputs": []
    },
    {
      "cell_type": "code",
      "metadata": {
        "id": "UPXb9ErTdRO9"
      },
      "source": [
        "print(model_svm.predict([fe]))"
      ],
      "execution_count": null,
      "outputs": []
    }
  ]
}