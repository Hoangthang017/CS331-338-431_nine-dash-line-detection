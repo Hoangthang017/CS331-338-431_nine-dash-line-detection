{
  "nbformat": 4,
  "nbformat_minor": 0,
  "metadata": {
    "colab": {
      "name": "SVM.ipynb",
      "provenance": [],
      "collapsed_sections": [],
      "authorship_tag": "ABX9TyMVHSbeWq1l4sHvGbPl2C7v",
      "include_colab_link": true
    },
    "kernelspec": {
      "name": "python3",
      "display_name": "Python 3"
    },
    "language_info": {
      "name": "python"
    }
  },
  "cells": [
    {
      "cell_type": "markdown",
      "metadata": {
        "id": "view-in-github",
        "colab_type": "text"
      },
      "source": [
        "<a href=\"https://colab.research.google.com/github/Hoangthang017/CS331-338-431_nine-dash-line-detection/blob/main/SVM-SVC.ipynb\" target=\"_parent\"><img src=\"https://colab.research.google.com/assets/colab-badge.svg\" alt=\"Open In Colab\"/></a>"
      ]
    },
    {
      "cell_type": "code",
      "metadata": {
        "colab": {
          "base_uri": "https://localhost:8080/"
        },
        "id": "m3DgHTCp0hqv",
        "outputId": "6396062d-165d-4a42-aae3-5125bcd7b35e"
      },
      "source": [
        "from google.colab import drive\n",
        "drive.mount('/content/drive')"
      ],
      "execution_count": 1,
      "outputs": [
        {
          "output_type": "stream",
          "text": [
            "Mounted at /content/drive\n"
          ],
          "name": "stdout"
        }
      ]
    },
    {
      "cell_type": "code",
      "metadata": {
        "id": "e73cU1Al1Bny"
      },
      "source": [
        "import numpy as np\n",
        "from sklearn.pipeline import make_pipeline\n",
        "from sklearn.preprocessing import StandardScaler\n",
        "from sklearn.svm import SVC\n",
        "from sklearn import metrics\n",
        "from sklearn.metrics import classification_report\n",
        "import matplotlib.pyplot as plt\n",
        "from sklearn.model_selection import train_test_split"
      ],
      "execution_count": 2,
      "outputs": []
    },
    {
      "cell_type": "code",
      "metadata": {
        "id": "vccV4iHpdaEq",
        "colab": {
          "base_uri": "https://localhost:8080/"
        },
        "outputId": "c6b08d3d-7727-4eba-b526-4b41bae3237c"
      },
      "source": [
        "feature_FC1 = np.loadtxt('/content/drive/MyDrive/Data Nine-Dash-Lines/DataFrame/FC1_features.txt')\n",
        "feature_FC2 = np.loadtxt('/content/drive/MyDrive/Data Nine-Dash-Lines/DataFrame/FC2_features.txt')\n",
        "\n",
        "\n",
        "labels_FC1 = np.loadtxt('/content/drive/MyDrive/Data Nine-Dash-Lines/DataFrame/FC1_labels.txt')\n",
        "labels_FC2 = np.loadtxt('/content/drive/MyDrive/Data Nine-Dash-Lines/DataFrame/FC2_labels.txt')\n",
        "\n",
        "print(feature_FC1)\n",
        "print(feature_FC2)"
      ],
      "execution_count": 3,
      "outputs": [
        {
          "output_type": "stream",
          "text": [
            "[[ 1.95176113 10.81358433  2.02135849 ...  0.          0.\n",
            "   5.74805403]\n",
            " [ 3.18785572  8.65771675  5.32151556 ...  0.          0.\n",
            "   9.92516327]\n",
            " [ 2.23030663 10.56120586  5.72817898 ...  0.          0.\n",
            "   8.97955132]\n",
            " ...\n",
            " [ 3.65228629  8.90478802  4.8313694  ...  0.          0.\n",
            "   6.38858891]\n",
            " [ 5.214849    5.62754011  3.2754643  ...  0.          0.\n",
            "   3.81457162]\n",
            " [ 1.10164905 11.33408165  4.85397673 ...  0.          0.\n",
            "   8.02845478]]\n",
            "[[2.70055175 0.5520463  0.         ... 0.0685602  2.66893148 0.        ]\n",
            " [0.37446654 0.15439208 0.         ... 0.         1.48717999 0.        ]\n",
            " [3.51665425 1.84721613 0.         ... 0.         1.77126443 0.        ]\n",
            " ...\n",
            " [2.28878641 1.19613302 0.         ... 1.29900527 0.         0.        ]\n",
            " [1.48625135 0.05735357 0.         ... 0.76685596 0.         0.        ]\n",
            " [2.41778398 1.11789644 0.         ... 0.         1.54296958 0.        ]]\n"
          ],
          "name": "stdout"
        }
      ]
    },
    {
      "cell_type": "code",
      "metadata": {
        "id": "J0-gR7cD0fe-"
      },
      "source": [
        "feature_FC1_train, feature_FC1_test, labels_FC1_train, labels_FC1_test = train_test_split(feature_FC1, labels_FC1, test_size = 0.1, random_state = 0)\n",
        "feature_FC2_train, feature_FC2_test, labels_FC2_train, labels_FC2_test = train_test_split(feature_FC2, labels_FC2, test_size = 0.2, random_state = 0)"
      ],
      "execution_count": 12,
      "outputs": []
    },
    {
      "cell_type": "code",
      "metadata": {
        "colab": {
          "base_uri": "https://localhost:8080/",
          "height": 522
        },
        "id": "XvFTFHWvSmN3",
        "outputId": "ec0d86b6-8e8e-4ade-a7c7-f99912d77a53"
      },
      "source": [
        "clf_FC1 = make_pipeline(StandardScaler(), SVC(gamma='auto'))\n",
        "clf_FC1.fit(feature_FC1_train, labels_FC1_train)\n",
        "predicted_FC1 = clf_FC1.predict(feature_FC1_test)\n",
        "print(classification_report(predicted_FC1, labels_FC1_test))\n",
        "conf_FC1 = metrics.plot_confusion_matrix(clf_FC1, feature_FC1_test, labels_FC1_test)\n",
        "conf_FC1.figure_.suptitle(\"Confusion Matrix\")\n",
        "print(f\"Confusion matrix:\\n{conf_FC1.confusion_matrix}\")\n",
        "plt.show()"
      ],
      "execution_count": 13,
      "outputs": [
        {
          "output_type": "stream",
          "text": [
            "              precision    recall  f1-score   support\n",
            "\n",
            "         0.0       0.80      0.89      0.84         9\n",
            "         1.0       0.90      0.82      0.86        11\n",
            "\n",
            "    accuracy                           0.85        20\n",
            "   macro avg       0.85      0.85      0.85        20\n",
            "weighted avg       0.86      0.85      0.85        20\n",
            "\n",
            "Confusion matrix:\n",
            "[[8 2]\n",
            " [1 9]]\n"
          ],
          "name": "stdout"
        },
        {
          "output_type": "display_data",
          "data": {
            "image/png": "[encoded data removed]",
            "text/plain": [
              "<Figure size 432x288 with 2 Axes>"
            ]
          },
          "metadata": {
            "tags": [],
            "needs_background": "light"
          }
        }
      ]
    },
    {
      "cell_type": "code",
      "metadata": {
        "colab": {
          "base_uri": "https://localhost:8080/",
          "height": 522
        },
        "id": "3AgFKC-JNzOn",
        "outputId": "4cec2ef9-cf78-4e38-f7dd-4d210297dfe8"
      },
      "source": [
        "clf_FC2 = make_pipeline(StandardScaler(), SVC(gamma='auto'))\n",
        "clf_FC2.fit(feature_FC2_train, labels_FC2_train)\n",
        "predicted_FC2 = clf_FC2.predict(feature_FC2_test)\n",
        "print(classification_report(predicted_FC2, labels_FC2_test))\n",
        "conf_FC2 = metrics.plot_confusion_matrix(clf_FC2, feature_FC2_test, labels_FC2_test)\n",
        "conf_FC2.figure_.suptitle(\"Confusion Matrix\")\n",
        "print(f\"Confusion matrix:\\n{conf_FC2.confusion_matrix}\")\n",
        "plt.show()"
      ],
      "execution_count": 14,
      "outputs": [
        {
          "output_type": "stream",
          "text": [
            "              precision    recall  f1-score   support\n",
            "\n",
            "         0.0       0.61      0.73      0.67        15\n",
            "         1.0       0.82      0.72      0.77        25\n",
            "\n",
            "    accuracy                           0.73        40\n",
            "   macro avg       0.71      0.73      0.72        40\n",
            "weighted avg       0.74      0.72      0.73        40\n",
            "\n",
            "Confusion matrix:\n",
            "[[11  7]\n",
            " [ 4 18]]\n"
          ],
          "name": "stdout"
        },
        {
          "output_type": "display_data",
          "data": {
            "image/png": "[encoded data removed]",
            "text/plain": [
              "<Figure size 432x288 with 2 Axes>"
            ]
          },
          "metadata": {
            "tags": [],
            "needs_background": "light"
          }
        }
      ]
    }
  ]
}