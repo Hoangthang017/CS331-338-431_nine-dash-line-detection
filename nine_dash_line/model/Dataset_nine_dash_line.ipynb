{
  "nbformat": 4,
  "nbformat_minor": 0,
  "metadata": {
    "colab": {
      "name": "Dataset_nine_dash_line.ipynb",
      "provenance": [],
      "collapsed_sections": [],
      "toc_visible": true,
      "authorship_tag": "ABX9TyOE7lDbixCbZob2VZJdZAby",
      "include_colab_link": true
    },
    "kernelspec": {
      "name": "python3",
      "display_name": "Python 3"
    },
    "language_info": {
      "name": "python"
    }
  },
  "cells": [
    {
      "cell_type": "markdown",
      "metadata": {
        "id": "view-in-github",
        "colab_type": "text"
      },
      "source": [
        "<a href=\"https://colab.research.google.com/github/Hoangthang017/CS331-338-431_nine-dash-line-detection/blob/main/nine_dash_line/model/Dataset_nine_dash_line.ipynb\" target=\"_parent\"><img src=\"https://colab.research.google.com/assets/colab-badge.svg\" alt=\"Open In Colab\"/></a>"
      ]
    },
    {
      "cell_type": "markdown",
      "metadata": {
        "id": "OQrBXShyy4lv"
      },
      "source": [
        "# mount drive "
      ]
    },
    {
      "cell_type": "code",
      "metadata": {
        "colab": {
          "base_uri": "https://localhost:8080/"
        },
        "id": "MId63qyIyyAq",
        "outputId": "349fa37a-3d92-4c92-ee6d-fdcc23673c59"
      },
      "source": [
        "# kết nối với gg.\n",
        "from google.colab import drive\n",
        "drive.mount('/content/drive')"
      ],
      "execution_count": 1,
      "outputs": [
        {
          "output_type": "stream",
          "text": [
            "Mounted at /content/drive\n"
          ],
          "name": "stdout"
        }
      ]
    },
    {
      "cell_type": "markdown",
      "metadata": {
        "id": "Up7qyvXSy9fB"
      },
      "source": [
        "# Read json file"
      ]
    },
    {
      "cell_type": "code",
      "metadata": {
        "id": "rj39Wz75WdLu"
      },
      "source": [
        "# đọc file json từ drive \n",
        "import json\n",
        "import pandas as pd\n",
        "with open('/content/drive/MyDrive/Data Nine-Dash-Lines/Train/annotations/ninedash_keypoints_train.json') as json_data:\n",
        "  dataJson = json.load(json_data)"
      ],
      "execution_count": 2,
      "outputs": []
    },
    {
      "cell_type": "code",
      "metadata": {
        "colab": {
          "base_uri": "https://localhost:8080/"
        },
        "id": "2DaDHhVJiYAI",
        "outputId": "40a2d051-235e-4f4d-ac68-5f11c7524aee"
      },
      "source": [
        "print(len(dataJson['annotations']))\n",
        "print(dataJson['images'][10])\n",
        "print(len(dataJson['images']))"
      ],
      "execution_count": 3,
      "outputs": [
        {
          "output_type": "stream",
          "text": [
            "912\n",
            "{'file_name': '010.jpg', 'height': 415, 'id': 10, 'license': 1, 'width': 622}\n",
            "2590\n"
          ],
          "name": "stdout"
        }
      ]
    },
    {
      "cell_type": "markdown",
      "metadata": {
        "id": "4YhVyY1HzFIr"
      },
      "source": [
        "# get bbox and label"
      ]
    },
    {
      "cell_type": "code",
      "metadata": {
        "id": "N2otWO6WdwAk"
      },
      "source": [
        "# khởi tạo dataFrame\n",
        "dfcols = [\"image_names\",\"categories\",\"xmin\",\"ymin\",\"xmax\",\"ymax\"]\n",
        "df = pd.DataFrame(columns=dfcols)"
      ],
      "execution_count": 9,
      "outputs": []
    },
    {
      "cell_type": "code",
      "metadata": {
        "id": "LL0c0ZN5Xbc9"
      },
      "source": [
        "# duyệt qua cái file để lấy bbox \n",
        "for i in range(len(dataJson['images'])):\n",
        "  imgName = dataJson['images'][i]['file_name']\n",
        "  imgID = dataJson['images'][i]['id']\n",
        "  if (imgID < len(dataJson['annotations'])):\n",
        "    imgBbox = dataJson['annotations'][imgID]['bbox']\n",
        "    data = [imgName,1] + imgBbox\n",
        "  else:\n",
        "    data = [imgName,0] + [0,0,0,0]\n",
        "\n",
        "  df = df.append(pd.Series(data, index=dfcols),ignore_index=True)\n"
      ],
      "execution_count": 10,
      "outputs": []
    },
    {
      "cell_type": "code",
      "metadata": {
        "colab": {
          "base_uri": "https://localhost:8080/"
        },
        "id": "kr_t3gXdXoNM",
        "outputId": "b8134dbe-6e43-43e1-9adf-3d4b6d66ea01"
      },
      "source": [
        "df.shape\n"
      ],
      "execution_count": 15,
      "outputs": [
        {
          "output_type": "execute_result",
          "data": {
            "text/plain": [
              "(2590, 6)"
            ]
          },
          "metadata": {
            "tags": []
          },
          "execution_count": 15
        }
      ]
    },
    {
      "cell_type": "code",
      "metadata": {
        "colab": {
          "base_uri": "https://localhost:8080/",
          "height": 402
        },
        "id": "kYOc6cn0z_vU",
        "outputId": "1a612274-566d-4bee-a808-43c1c62c561d"
      },
      "source": [
        "df.head(100)"
      ],
      "execution_count": 16,
      "outputs": [
        {
          "output_type": "execute_result",
          "data": {
            "text/html": [
              "<div>\n",
              "<style scoped>\n",
              "    .dataframe tbody tr th:only-of-type {\n",
              "        vertical-align: middle;\n",
              "    }\n",
              "\n",
              "    .dataframe tbody tr th {\n",
              "        vertical-align: top;\n",
              "    }\n",
              "\n",
              "    .dataframe thead th {\n",
              "        text-align: right;\n",
              "    }\n",
              "</style>\n",
              "<table border=\"1\" class=\"dataframe\">\n",
              "  <thead>\n",
              "    <tr style=\"text-align: right;\">\n",
              "      <th></th>\n",
              "      <th>image_names</th>\n",
              "      <th>categories</th>\n",
              "      <th>xmin</th>\n",
              "      <th>ymin</th>\n",
              "      <th>xmax</th>\n",
              "      <th>ymax</th>\n",
              "    </tr>\n",
              "  </thead>\n",
              "  <tbody>\n",
              "    <tr>\n",
              "      <th>0</th>\n",
              "      <td>000.jpg</td>\n",
              "      <td>1</td>\n",
              "      <td>388</td>\n",
              "      <td>130</td>\n",
              "      <td>447</td>\n",
              "      <td>599</td>\n",
              "    </tr>\n",
              "    <tr>\n",
              "      <th>1</th>\n",
              "      <td>001.jpg</td>\n",
              "      <td>1</td>\n",
              "      <td>174</td>\n",
              "      <td>52</td>\n",
              "      <td>209</td>\n",
              "      <td>266</td>\n",
              "    </tr>\n",
              "    <tr>\n",
              "      <th>2</th>\n",
              "      <td>002.jpg</td>\n",
              "      <td>1</td>\n",
              "      <td>245</td>\n",
              "      <td>85</td>\n",
              "      <td>277</td>\n",
              "      <td>341</td>\n",
              "    </tr>\n",
              "    <tr>\n",
              "      <th>3</th>\n",
              "      <td>003.jpg</td>\n",
              "      <td>1</td>\n",
              "      <td>115</td>\n",
              "      <td>68</td>\n",
              "      <td>914</td>\n",
              "      <td>727</td>\n",
              "    </tr>\n",
              "    <tr>\n",
              "      <th>4</th>\n",
              "      <td>004.jpg</td>\n",
              "      <td>1</td>\n",
              "      <td>208</td>\n",
              "      <td>13</td>\n",
              "      <td>277</td>\n",
              "      <td>347</td>\n",
              "    </tr>\n",
              "    <tr>\n",
              "      <th>...</th>\n",
              "      <td>...</td>\n",
              "      <td>...</td>\n",
              "      <td>...</td>\n",
              "      <td>...</td>\n",
              "      <td>...</td>\n",
              "      <td>...</td>\n",
              "    </tr>\n",
              "    <tr>\n",
              "      <th>95</th>\n",
              "      <td>096.jpg</td>\n",
              "      <td>1</td>\n",
              "      <td>536</td>\n",
              "      <td>172</td>\n",
              "      <td>982</td>\n",
              "      <td>1300</td>\n",
              "    </tr>\n",
              "    <tr>\n",
              "      <th>96</th>\n",
              "      <td>097.jpg</td>\n",
              "      <td>1</td>\n",
              "      <td>276</td>\n",
              "      <td>116</td>\n",
              "      <td>306</td>\n",
              "      <td>412</td>\n",
              "    </tr>\n",
              "    <tr>\n",
              "      <th>97</th>\n",
              "      <td>098.jpg</td>\n",
              "      <td>1</td>\n",
              "      <td>121</td>\n",
              "      <td>125</td>\n",
              "      <td>81</td>\n",
              "      <td>104</td>\n",
              "    </tr>\n",
              "    <tr>\n",
              "      <th>98</th>\n",
              "      <td>099.jpg</td>\n",
              "      <td>1</td>\n",
              "      <td>33</td>\n",
              "      <td>15</td>\n",
              "      <td>576</td>\n",
              "      <td>853</td>\n",
              "    </tr>\n",
              "    <tr>\n",
              "      <th>99</th>\n",
              "      <td>100.jpg</td>\n",
              "      <td>1</td>\n",
              "      <td>114</td>\n",
              "      <td>112</td>\n",
              "      <td>315</td>\n",
              "      <td>395</td>\n",
              "    </tr>\n",
              "  </tbody>\n",
              "</table>\n",
              "<p>100 rows × 6 columns</p>\n",
              "</div>"
            ],
            "text/plain": [
              "   image_names categories xmin ymin xmax  ymax\n",
              "0      000.jpg          1  388  130  447   599\n",
              "1      001.jpg          1  174   52  209   266\n",
              "2      002.jpg          1  245   85  277   341\n",
              "3      003.jpg          1  115   68  914   727\n",
              "4      004.jpg          1  208   13  277   347\n",
              "..         ...        ...  ...  ...  ...   ...\n",
              "95     096.jpg          1  536  172  982  1300\n",
              "96     097.jpg          1  276  116  306   412\n",
              "97     098.jpg          1  121  125   81   104\n",
              "98     099.jpg          1   33   15  576   853\n",
              "99     100.jpg          1  114  112  315   395\n",
              "\n",
              "[100 rows x 6 columns]"
            ]
          },
          "metadata": {
            "tags": []
          },
          "execution_count": 16
        }
      ]
    },
    {
      "cell_type": "markdown",
      "metadata": {
        "id": "kBct-8iozJeB"
      },
      "source": [
        "# save bbox and label"
      ]
    },
    {
      "cell_type": "code",
      "metadata": {
        "id": "sWVgvu4CiC2y"
      },
      "source": [
        "df.to_csv('/content/drive/MyDrive/Data Nine-Dash-Lines/Train/annotations/dataset.csv')"
      ],
      "execution_count": 13,
      "outputs": []
    }
  ]
}